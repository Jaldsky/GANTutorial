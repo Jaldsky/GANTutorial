{
  "cells": [
    {
      "cell_type": "code",
      "source": [
        "# Сколько символов поместится в ваш блокнот?\n",
        "width = 112\n",
        "print('A'*width)\n",
        "\n",
        "import numpy as np\n",
        "\n",
        "np.set_printoptions(linewidth=width)\n",
        "np.arange(width)"
      ],
      "metadata": {
        "id": "qUsJYyHKu_Y8",
        "colab": {
          "base_uri": "https://localhost:8080/"
        },
        "outputId": "c98c17ed-49ef-4101-b36c-0d45338b5aa1"
      },
      "execution_count": null,
      "outputs": [
        {
          "output_type": "stream",
          "name": "stdout",
          "text": [
            "AAAAAAAAAAAAAAAAAAAAAAAAAAAAAAAAAAAAAAAAAAAAAAAAAAAAAAAAAAAAAAAAAAAAAAAAAAAAAAAAAAAAAAAAAAAAAAAAAAAAAAAAAAAAAAAA\n"
          ]
        },
        {
          "output_type": "execute_result",
          "data": {
            "text/plain": [
              "array([  0,   1,   2,   3,   4,   5,   6,   7,   8,   9,  10,  11,  12,  13,  14,  15,  16,  17,  18,  19,  20,\n",
              "        21,  22,  23,  24,  25,  26,  27,  28,  29,  30,  31,  32,  33,  34,  35,  36,  37,  38,  39,  40,  41,\n",
              "        42,  43,  44,  45,  46,  47,  48,  49,  50,  51,  52,  53,  54,  55,  56,  57,  58,  59,  60,  61,  62,\n",
              "        63,  64,  65,  66,  67,  68,  69,  70,  71,  72,  73,  74,  75,  76,  77,  78,  79,  80,  81,  82,  83,\n",
              "        84,  85,  86,  87,  88,  89,  90,  91,  92,  93,  94,  95,  96,  97,  98,  99, 100, 101, 102, 103, 104,\n",
              "       105, 106, 107, 108, 109, 110, 111])"
            ]
          },
          "metadata": {},
          "execution_count": 1
        }
      ]
    },
    {
      "cell_type": "code",
      "source": [
        "import pandas as pd\n",
        "pd.options.display.width = width - 10\n",
        "pd.options.display.max_colwidth = width - 10\n",
        "pd.DataFrame([{'col': 'A' * (width-11)}])"
      ],
      "metadata": {
        "id": "RTfTJOzHvGbn",
        "colab": {
          "base_uri": "https://localhost:8080/",
          "height": 81
        },
        "outputId": "67ef6b9c-e29b-4831-a57b-cebe8f2e36ab"
      },
      "execution_count": null,
      "outputs": [
        {
          "output_type": "execute_result",
          "data": {
            "text/plain": [
              "                                                                                                     col\n",
              "0  AAAAAAAAAAAAAAAAAAAAAAAAAAAAAAAAAAAAAAAAAAAAAAAAAAAAAAAAAAAAAAAAAAAAAAAAAAAAAAAAAAAAAAAAAAAAAAAAAAAAA"
            ],
            "text/html": [
              "\n",
              "  <div id=\"df-7f231250-b805-44fc-9f2a-66218dfad1e8\">\n",
              "    <div class=\"colab-df-container\">\n",
              "      <div>\n",
              "<style scoped>\n",
              "    .dataframe tbody tr th:only-of-type {\n",
              "        vertical-align: middle;\n",
              "    }\n",
              "\n",
              "    .dataframe tbody tr th {\n",
              "        vertical-align: top;\n",
              "    }\n",
              "\n",
              "    .dataframe thead th {\n",
              "        text-align: right;\n",
              "    }\n",
              "</style>\n",
              "<table border=\"1\" class=\"dataframe\">\n",
              "  <thead>\n",
              "    <tr style=\"text-align: right;\">\n",
              "      <th></th>\n",
              "      <th>col</th>\n",
              "    </tr>\n",
              "  </thead>\n",
              "  <tbody>\n",
              "    <tr>\n",
              "      <th>0</th>\n",
              "      <td>AAAAAAAAAAAAAAAAAAAAAAAAAAAAAAAAAAAAAAAAAAAAAAAAAAAAAAAAAAAAAAAAAAAAAAAAAAAAAAAAAAAAAAAAAAAAAAAAAAAAA</td>\n",
              "    </tr>\n",
              "  </tbody>\n",
              "</table>\n",
              "</div>\n",
              "      <button class=\"colab-df-convert\" onclick=\"convertToInteractive('df-7f231250-b805-44fc-9f2a-66218dfad1e8')\"\n",
              "              title=\"Convert this dataframe to an interactive table.\"\n",
              "              style=\"display:none;\">\n",
              "        \n",
              "  <svg xmlns=\"http://www.w3.org/2000/svg\" height=\"24px\"viewBox=\"0 0 24 24\"\n",
              "       width=\"24px\">\n",
              "    <path d=\"M0 0h24v24H0V0z\" fill=\"none\"/>\n",
              "    <path d=\"M18.56 5.44l.94 2.06.94-2.06 2.06-.94-2.06-.94-.94-2.06-.94 2.06-2.06.94zm-11 1L8.5 8.5l.94-2.06 2.06-.94-2.06-.94L8.5 2.5l-.94 2.06-2.06.94zm10 10l.94 2.06.94-2.06 2.06-.94-2.06-.94-.94-2.06-.94 2.06-2.06.94z\"/><path d=\"M17.41 7.96l-1.37-1.37c-.4-.4-.92-.59-1.43-.59-.52 0-1.04.2-1.43.59L10.3 9.45l-7.72 7.72c-.78.78-.78 2.05 0 2.83L4 21.41c.39.39.9.59 1.41.59.51 0 1.02-.2 1.41-.59l7.78-7.78 2.81-2.81c.8-.78.8-2.07 0-2.86zM5.41 20L4 18.59l7.72-7.72 1.47 1.35L5.41 20z\"/>\n",
              "  </svg>\n",
              "      </button>\n",
              "      \n",
              "  <style>\n",
              "    .colab-df-container {\n",
              "      display:flex;\n",
              "      flex-wrap:wrap;\n",
              "      gap: 12px;\n",
              "    }\n",
              "\n",
              "    .colab-df-convert {\n",
              "      background-color: #E8F0FE;\n",
              "      border: none;\n",
              "      border-radius: 50%;\n",
              "      cursor: pointer;\n",
              "      display: none;\n",
              "      fill: #1967D2;\n",
              "      height: 32px;\n",
              "      padding: 0 0 0 0;\n",
              "      width: 32px;\n",
              "    }\n",
              "\n",
              "    .colab-df-convert:hover {\n",
              "      background-color: #E2EBFA;\n",
              "      box-shadow: 0px 1px 2px rgba(60, 64, 67, 0.3), 0px 1px 3px 1px rgba(60, 64, 67, 0.15);\n",
              "      fill: #174EA6;\n",
              "    }\n",
              "\n",
              "    [theme=dark] .colab-df-convert {\n",
              "      background-color: #3B4455;\n",
              "      fill: #D2E3FC;\n",
              "    }\n",
              "\n",
              "    [theme=dark] .colab-df-convert:hover {\n",
              "      background-color: #434B5C;\n",
              "      box-shadow: 0px 1px 3px 1px rgba(0, 0, 0, 0.15);\n",
              "      filter: drop-shadow(0px 1px 2px rgba(0, 0, 0, 0.3));\n",
              "      fill: #FFFFFF;\n",
              "    }\n",
              "  </style>\n",
              "\n",
              "      <script>\n",
              "        const buttonEl =\n",
              "          document.querySelector('#df-7f231250-b805-44fc-9f2a-66218dfad1e8 button.colab-df-convert');\n",
              "        buttonEl.style.display =\n",
              "          google.colab.kernel.accessAllowed ? 'block' : 'none';\n",
              "\n",
              "        async function convertToInteractive(key) {\n",
              "          const element = document.querySelector('#df-7f231250-b805-44fc-9f2a-66218dfad1e8');\n",
              "          const dataTable =\n",
              "            await google.colab.kernel.invokeFunction('convertToInteractive',\n",
              "                                                     [key], {});\n",
              "          if (!dataTable) return;\n",
              "\n",
              "          const docLinkHtml = 'Like what you see? Visit the ' +\n",
              "            '<a target=\"_blank\" href=https://colab.research.google.com/notebooks/data_table.ipynb>data table notebook</a>'\n",
              "            + ' to learn more about interactive tables.';\n",
              "          element.innerHTML = '';\n",
              "          dataTable['output_type'] = 'display_data';\n",
              "          await google.colab.output.renderOutput(dataTable, element);\n",
              "          const docLink = document.createElement('div');\n",
              "          docLink.innerHTML = docLinkHtml;\n",
              "          element.appendChild(docLink);\n",
              "        }\n",
              "      </script>\n",
              "    </div>\n",
              "  </div>\n",
              "  "
            ]
          },
          "metadata": {},
          "execution_count": 2
        }
      ]
    },
    {
      "cell_type": "markdown",
      "metadata": {
        "id": "OM830cqrAvDf"
      },
      "source": [
        "# Установка, запуск, предобработка"
      ]
    },
    {
      "cell_type": "code",
      "execution_count": null,
      "metadata": {
        "id": "m77Rd9cKAvDh",
        "colab": {
          "base_uri": "https://localhost:8080/"
        },
        "outputId": "69d7a162-9161-4f69-e070-1078ac9a3dfb"
      },
      "outputs": [
        {
          "output_type": "stream",
          "name": "stdout",
          "text": [
            "Reading package lists...\n",
            "Building dependency tree...\n",
            "Reading state information...\n",
            "The following packages were automatically installed and are no longer required:\n",
            "  libnvidia-common-460 nsight-compute-2020.2.0\n",
            "Use 'apt autoremove' to remove them.\n",
            "The following additional packages will be installed:\n",
            "  openjdk-8-jre-headless\n",
            "Suggested packages:\n",
            "  openjdk-8-demo openjdk-8-source libnss-mdns fonts-dejavu-extra\n",
            "  fonts-ipafont-gothic fonts-ipafont-mincho fonts-wqy-microhei\n",
            "  fonts-wqy-zenhei fonts-indic\n",
            "The following NEW packages will be installed:\n",
            "  openjdk-8-jdk-headless openjdk-8-jre-headless\n",
            "0 upgraded, 2 newly installed, 0 to remove and 42 not upgraded.\n",
            "Need to get 36.5 MB of archives.\n",
            "After this operation, 143 MB of additional disk space will be used.\n",
            "Get:1 http://archive.ubuntu.com/ubuntu bionic-updates/universe amd64 openjdk-8-jre-headless amd64 8u312-b07-0ubuntu1~18.04 [28.2 MB]\n",
            "Get:2 http://archive.ubuntu.com/ubuntu bionic-updates/universe amd64 openjdk-8-jdk-headless amd64 8u312-b07-0ubuntu1~18.04 [8,298 kB]\n",
            "Fetched 36.5 MB in 2s (23.9 MB/s)\n",
            "Selecting previously unselected package openjdk-8-jre-headless:amd64.\n",
            "(Reading database ... 155203 files and directories currently installed.)\n",
            "Preparing to unpack .../openjdk-8-jre-headless_8u312-b07-0ubuntu1~18.04_amd64.deb ...\n",
            "Unpacking openjdk-8-jre-headless:amd64 (8u312-b07-0ubuntu1~18.04) ...\n",
            "Selecting previously unselected package openjdk-8-jdk-headless:amd64.\n",
            "Preparing to unpack .../openjdk-8-jdk-headless_8u312-b07-0ubuntu1~18.04_amd64.deb ...\n",
            "Unpacking openjdk-8-jdk-headless:amd64 (8u312-b07-0ubuntu1~18.04) ...\n",
            "Setting up openjdk-8-jre-headless:amd64 (8u312-b07-0ubuntu1~18.04) ...\n",
            "update-alternatives: using /usr/lib/jvm/java-8-openjdk-amd64/jre/bin/orbd to provide /usr/bin/orbd (orbd) in auto mode\n",
            "update-alternatives: using /usr/lib/jvm/java-8-openjdk-amd64/jre/bin/servertool to provide /usr/bin/servertool (servertool) in auto mode\n",
            "update-alternatives: using /usr/lib/jvm/java-8-openjdk-amd64/jre/bin/tnameserv to provide /usr/bin/tnameserv (tnameserv) in auto mode\n",
            "Setting up openjdk-8-jdk-headless:amd64 (8u312-b07-0ubuntu1~18.04) ...\n",
            "update-alternatives: using /usr/lib/jvm/java-8-openjdk-amd64/bin/idlj to provide /usr/bin/idlj (idlj) in auto mode\n",
            "update-alternatives: using /usr/lib/jvm/java-8-openjdk-amd64/bin/wsimport to provide /usr/bin/wsimport (wsimport) in auto mode\n",
            "update-alternatives: using /usr/lib/jvm/java-8-openjdk-amd64/bin/jsadebugd to provide /usr/bin/jsadebugd (jsadebugd) in auto mode\n",
            "update-alternatives: using /usr/lib/jvm/java-8-openjdk-amd64/bin/native2ascii to provide /usr/bin/native2ascii (native2ascii) in auto mode\n",
            "update-alternatives: using /usr/lib/jvm/java-8-openjdk-amd64/bin/javah to provide /usr/bin/javah (javah) in auto mode\n",
            "update-alternatives: using /usr/lib/jvm/java-8-openjdk-amd64/bin/hsdb to provide /usr/bin/hsdb (hsdb) in auto mode\n",
            "update-alternatives: using /usr/lib/jvm/java-8-openjdk-amd64/bin/clhsdb to provide /usr/bin/clhsdb (clhsdb) in auto mode\n",
            "update-alternatives: using /usr/lib/jvm/java-8-openjdk-amd64/bin/xjc to provide /usr/bin/xjc (xjc) in auto mode\n",
            "update-alternatives: using /usr/lib/jvm/java-8-openjdk-amd64/bin/schemagen to provide /usr/bin/schemagen (schemagen) in auto mode\n",
            "update-alternatives: using /usr/lib/jvm/java-8-openjdk-amd64/bin/extcheck to provide /usr/bin/extcheck (extcheck) in auto mode\n",
            "update-alternatives: using /usr/lib/jvm/java-8-openjdk-amd64/bin/jhat to provide /usr/bin/jhat (jhat) in auto mode\n",
            "update-alternatives: using /usr/lib/jvm/java-8-openjdk-amd64/bin/wsgen to provide /usr/bin/wsgen (wsgen) in auto mode\n",
            "--2022-05-14 08:38:09--  https://apache-mirror.rbc.ru/pub/apache/spark/spark-3.2.1/spark-3.2.1-bin-hadoop3.2.tgz\n",
            "Resolving apache-mirror.rbc.ru (apache-mirror.rbc.ru)... 80.68.250.216\n",
            "Connecting to apache-mirror.rbc.ru (apache-mirror.rbc.ru)|80.68.250.216|:443... connected.\n",
            "HTTP request sent, awaiting response... 200 OK\n",
            "Length: 300971569 (287M) [application/octet-stream]\n",
            "Saving to: ‘spark-3.2.1-bin-hadoop3.2.tgz’\n",
            "\n",
            "spark-3.2.1-bin-had 100%[===================>] 287.03M  21.3MB/s    in 14s     \n",
            "\n",
            "2022-05-14 08:38:24 (20.0 MB/s) - ‘spark-3.2.1-bin-hadoop3.2.tgz’ saved [300971569/300971569]\n",
            "\n",
            "Collecting findspark\n",
            "  Downloading findspark-2.0.1-py2.py3-none-any.whl (4.4 kB)\n",
            "Installing collected packages: findspark\n",
            "Successfully installed findspark-2.0.1\n"
          ]
        }
      ],
      "source": [
        "!apt-get install -q openjdk-8-jdk-headless\n",
        "!wget -c https://apache-mirror.rbc.ru/pub/apache/spark/spark-3.2.1/spark-3.2.1-bin-hadoop3.2.tgz\n",
        "!if [ ! -d spark-3.2.1-bin-hadoop3.2 ]; then tar -xzf spark-3.2.1-bin-hadoop3.2.tgz; fi\n",
        "!pip install findspark"
      ]
    },
    {
      "cell_type": "code",
      "execution_count": null,
      "metadata": {
        "id": "B-7yOd5eAvDh",
        "colab": {
          "base_uri": "https://localhost:8080/",
          "height": 222
        },
        "outputId": "9ba007e5-c0d6-4782-8146-f8011022ca16"
      },
      "outputs": [
        {
          "output_type": "execute_result",
          "data": {
            "text/plain": [
              "<pyspark.sql.session.SparkSession at 0x7f5b37168090>"
            ],
            "text/html": [
              "\n",
              "            <div>\n",
              "                <p><b>SparkSession - in-memory</b></p>\n",
              "                \n",
              "        <div>\n",
              "            <p><b>SparkContext</b></p>\n",
              "\n",
              "            <p><a href=\"http://92dce1a4fd1c:4040\">Spark UI</a></p>\n",
              "\n",
              "            <dl>\n",
              "              <dt>Version</dt>\n",
              "                <dd><code>v3.2.1</code></dd>\n",
              "              <dt>Master</dt>\n",
              "                <dd><code>local[*]</code></dd>\n",
              "              <dt>AppName</dt>\n",
              "                <dd><code>pyspark-shell</code></dd>\n",
              "            </dl>\n",
              "        </div>\n",
              "        \n",
              "            </div>\n",
              "        "
            ]
          },
          "metadata": {},
          "execution_count": 4
        }
      ],
      "source": [
        "import os\n",
        "import findspark\n",
        "\n",
        "os.environ[\"JAVA_HOME\"] = \"/usr/lib/jvm/java-8-openjdk-amd64\"\n",
        "os.environ[\"SPARK_HOME\"] = \"/content/spark-3.2.1-bin-hadoop3.2\"\n",
        "findspark.init()\n",
        "\n",
        "from pyspark.sql import SparkSession\n",
        "spark = SparkSession.builder.master(\"local[*]\").getOrCreate()\n",
        "spark"
      ]
    },
    {
      "cell_type": "code",
      "execution_count": null,
      "metadata": {
        "id": "YVLTFQxtAvDi",
        "colab": {
          "base_uri": "https://localhost:8080/"
        },
        "outputId": "9b472b08-7072-4bf1-c323-23ded2fe4500"
      },
      "outputs": [
        {
          "output_type": "stream",
          "name": "stdout",
          "text": [
            "root\n",
            " |-- longitude: double (nullable = true)\n",
            " |-- latitude: double (nullable = true)\n",
            " |-- housing_median_age: double (nullable = true)\n",
            " |-- total_rooms: double (nullable = true)\n",
            " |-- total_bedrooms: double (nullable = true)\n",
            " |-- population: double (nullable = true)\n",
            " |-- households: double (nullable = true)\n",
            " |-- median_income: double (nullable = true)\n",
            " |-- median_house_value: double (nullable = true)\n",
            "\n"
          ]
        }
      ],
      "source": [
        "ch_train = spark.read.csv('/content/sample_data/california_housing_train.csv', header=True, inferSchema=True)\n",
        "ch_test = spark.read.csv('/content/sample_data/california_housing_test.csv', header=True, inferSchema=True)\n",
        "\n",
        "ch = ch_train.union(ch_test)\n",
        "ch.printSchema()"
      ]
    },
    {
      "cell_type": "code",
      "execution_count": null,
      "metadata": {
        "id": "-rBYxk5dAvDj",
        "colab": {
          "base_uri": "https://localhost:8080/"
        },
        "outputId": "861629f4-10f2-4dd2-f6cc-f73cc2ebcebc"
      },
      "outputs": [
        {
          "output_type": "stream",
          "name": "stdout",
          "text": [
            "+---------+--------+------------------+-----------+--------------+----------+----------+-------------+------------------+\n",
            "|longitude|latitude|housing_median_age|total_rooms|total_bedrooms|population|households|median_income|median_house_value|\n",
            "+---------+--------+------------------+-----------+--------------+----------+----------+-------------+------------------+\n",
            "|  -116.95|   32.78|              33.0|     2432.0|         443.0|    1147.0|     427.0|       3.3906|          138100.0|\n",
            "|  -117.25|   34.16|              31.0|     1516.0|         238.0|     596.0|     255.0|       4.3362|          159400.0|\n",
            "|  -117.97|   34.01|              33.0|     3530.0|         700.0|    2959.0|     679.0|       3.7459|          152900.0|\n",
            "|  -118.02|    34.1|              36.0|      452.0|          80.0|     248.0|      83.0|       1.9688|          226000.0|\n",
            "|  -118.12|   34.04|              35.0|     1038.0|         209.0|     598.0|     190.0|       5.9214|          254900.0|\n",
            "|  -118.21|   34.12|              41.0|     1904.0|         514.0|    1666.0|     498.0|       3.6845|          175800.0|\n",
            "|  -118.34|   34.02|              48.0|     1614.0|         320.0|     684.0|     318.0|       4.2218|          181000.0|\n",
            "|  -118.48|   34.28|              35.0|     2132.0|         368.0|    1128.0|     341.0|       5.3107|          227100.0|\n",
            "|  -118.49|   34.16|              37.0|     3333.0|         488.0|    1171.0|     485.0|       6.4958|          500001.0|\n",
            "|  -121.28|   38.03|              11.0|     3585.0|         729.0|    2769.0|     715.0|       3.0907|           94100.0|\n",
            "|  -121.95|   37.38|              22.0|      765.0|         198.0|     390.0|     176.0|       3.1812|           87500.0|\n",
            "|   -122.6|    38.9|              23.0|      292.0|          56.0|      92.0|      41.0|       2.9583|           91700.0|\n",
            "|  -122.85|    39.0|              20.0|     1580.0|         318.0|     753.0|     252.0|       1.8704|           88500.0|\n",
            "|  -122.94|    39.1|              18.0|      681.0|         120.0|     272.0|     105.0|       2.8906|          140600.0|\n",
            "|  -117.23|   32.87|              15.0|     2290.0|         662.0|    1034.0|     594.0|       3.0104|          204200.0|\n",
            "|  -119.29|   36.32|              27.0|     1513.0|         374.0|     839.0|     350.0|       1.2012|           64600.0|\n",
            "|  -117.76|   34.06|              30.0|     1700.0|         504.0|    1719.0|     459.0|        2.227|           91900.0|\n",
            "|  -117.51|   34.16|               2.0|      718.0|          98.0|     119.0|      50.0|          4.1|          315000.0|\n",
            "+---------+--------+------------------+-----------+--------------+----------+----------+-------------+------------------+\n",
            "\n"
          ]
        }
      ],
      "source": [
        "ch.sample(False, 0.001, seed=0).show()"
      ]
    },
    {
      "cell_type": "code",
      "execution_count": null,
      "metadata": {
        "id": "6LJYPqglAvDj"
      },
      "outputs": [],
      "source": [
        "ch = ch.withColumn(\"median_house_value\", ch[\"median_house_value\"]/100000)\n",
        "ch = ch.withColumn('rooms_per_household', ch[\"total_rooms\"]/ch[\"households\"])\n",
        "ch = ch.withColumn('population_per_household', ch[\"population\"]/ch[\"households\"]) # средний размер семьи\n",
        "ch = ch.withColumn('bedrooms_per_room', ch[\"total_bedrooms\"]/ch[\"total_rooms\"])"
      ]
    },
    {
      "cell_type": "code",
      "execution_count": null,
      "metadata": {
        "id": "MoK9gbVGAvDj",
        "colab": {
          "base_uri": "https://localhost:8080/"
        },
        "outputId": "d60820ee-b649-4b71-d527-c4558be01e86"
      },
      "outputs": [
        {
          "output_type": "stream",
          "name": "stdout",
          "text": [
            "+------------------+--------------+----------+----------+-------------+-------------------+------------------------+-------------------+\n",
            "|median_house_value|total_bedrooms|population|households|median_income|rooms_per_household|population_per_household|  bedrooms_per_room|\n",
            "+------------------+--------------+----------+----------+-------------+-------------------+------------------------+-------------------+\n",
            "|             0.669|        1283.0|    1015.0|     472.0|       1.4936| 11.889830508474576|      2.1504237288135593|0.22861724875267284|\n",
            "|             0.801|        1901.0|    1129.0|     463.0|         1.82|  16.52267818574514|      2.4384449244060473|0.24849673202614378|\n",
            "|             0.857|         174.0|     333.0|     117.0|       1.6509|  6.153846153846154|      2.8461538461538463|0.24166666666666667|\n",
            "|             0.734|         337.0|     515.0|     226.0|       3.1917| 6.6415929203539825|      2.2787610619469025|0.22451698867421718|\n",
            "|             0.655|         326.0|     624.0|     262.0|        1.925|  5.549618320610687|       2.381679389312977|0.22420907840440166|\n",
            "+------------------+--------------+----------+----------+-------------+-------------------+------------------------+-------------------+\n",
            "only showing top 5 rows\n",
            "\n"
          ]
        }
      ],
      "source": [
        "ch = ch.select(\"median_house_value\", \n",
        "              \"total_bedrooms\", \n",
        "              \"population\", \n",
        "              \"households\", \n",
        "              \"median_income\", \n",
        "              \"rooms_per_household\", \n",
        "              \"population_per_household\", \n",
        "              \"bedrooms_per_room\")\n",
        "\n",
        "ch.show(5)"
      ]
    },
    {
      "cell_type": "markdown",
      "metadata": {
        "id": "ky2WpSHIAvDk"
      },
      "source": [
        "# Регрессия"
      ]
    },
    {
      "cell_type": "code",
      "execution_count": null,
      "metadata": {
        "id": "3Zj27f_fAvDk",
        "colab": {
          "base_uri": "https://localhost:8080/"
        },
        "outputId": "29cc019a-2cff-4432-8af8-6840f448ab41"
      },
      "outputs": [
        {
          "output_type": "execute_result",
          "data": {
            "text/plain": [
              "mappingproxy({'aggregationDepth': <Parameter \"aggregationDepth=2\">,\n",
              "              'elasticNetParam': <Parameter \"elasticNetParam=0.0\">,\n",
              "              'epsilon': <Parameter \"epsilon=1.35\">,\n",
              "              'featuresCol': <Parameter \"featuresCol='features'\">,\n",
              "              'fitIntercept': <Parameter \"fitIntercept=True\">,\n",
              "              'labelCol': <Parameter \"labelCol='label'\">,\n",
              "              'loss': <Parameter \"loss='squaredError'\">,\n",
              "              'maxBlockSizeInMB': <Parameter \"maxBlockSizeInMB=0.0\">,\n",
              "              'maxIter': <Parameter \"maxIter=100\">,\n",
              "              'predictionCol': <Parameter \"predictionCol='prediction'\">,\n",
              "              'regParam': <Parameter \"regParam=0.0\">,\n",
              "              'solver': <Parameter \"solver='auto'\">,\n",
              "              'standardization': <Parameter \"standardization=True\">,\n",
              "              'tol': <Parameter \"tol=1e-06\">,\n",
              "              'weightCol': <Parameter \"weightCol=None\">})"
            ]
          },
          "metadata": {},
          "execution_count": 9
        }
      ],
      "source": [
        "import inspect\n",
        "from pyspark.ml.regression import LinearRegression\n",
        "\n",
        "inspect.signature(LinearRegression).parameters"
      ]
    },
    {
      "cell_type": "code",
      "execution_count": null,
      "metadata": {
        "id": "VOCssDHGAvDl"
      },
      "outputs": [],
      "source": [
        "from pyspark.ml.linalg import DenseVector\n",
        "\n",
        "input_data = ch.rdd.map(lambda x: (x[0], DenseVector(x[1:])))\n",
        "\n",
        "ch_vectors = spark.createDataFrame(input_data, [\"label\", \"features\"])"
      ]
    },
    {
      "cell_type": "code",
      "execution_count": null,
      "metadata": {
        "id": "Dqt2opRuAvDm",
        "colab": {
          "base_uri": "https://localhost:8080/"
        },
        "outputId": "6f9b4b43-c18e-4dc5-8cb4-7f05264dfeba"
      },
      "outputs": [
        {
          "output_type": "stream",
          "name": "stdout",
          "text": [
            "+-----+--------------------------------------------------------------------------------------+\n",
            "|label|                                                                              features|\n",
            "+-----+--------------------------------------------------------------------------------------+\n",
            "|0.669|[1283.0,1015.0,472.0,1.4936,11.889830508474576,2.1504237288135593,0.22861724875267284]|\n",
            "|0.801|   [1901.0,1129.0,463.0,1.82,16.52267818574514,2.4384449244060473,0.24849673202614378]|\n",
            "|0.857|   [174.0,333.0,117.0,1.6509,6.153846153846154,2.8461538461538463,0.24166666666666667]|\n",
            "|0.734|  [337.0,515.0,226.0,3.1917,6.6415929203539825,2.2787610619469025,0.22451698867421718]|\n",
            "|0.655|     [326.0,624.0,262.0,1.925,5.549618320610687,2.381679389312977,0.22420907840440166]|\n",
            "| 0.74|    [236.0,671.0,239.0,3.3438,5.803347280334728,2.807531380753138,0.17015140591204037]|\n",
            "|0.824|  [680.0,1841.0,633.0,2.6768,4.592417061611374,2.9083728278041074,0.23391812865497075]|\n",
            "|0.485|   [168.0,375.0,158.0,1.7083,5.139240506329114,2.3734177215189876,0.20689655172413793]|\n",
            "|0.584|[1175.0,3134.0,1056.0,2.1782,4.535037878787879,2.9678030303030303,0.24535393610357067]|\n",
            "|0.481|    [309.0,787.0,271.0,2.1908,5.523985239852398,2.904059040590406,0.20641282565130262]|\n",
            "|0.865|    [801.0,2434.0,824.0,2.6797,4.540048543689321,2.953883495145631,0.2141138732959102]|\n",
            "| 0.62|   [483.0,1182.0,437.0,1.625,4.549199084668192,2.7048054919908466,0.24295774647887325]|\n",
            "|0.486|    [248.0,580.0,211.0,2.1571,6.118483412322274,2.748815165876777,0.19209914794732766]|\n",
            "|0.704|  [464.0,1346.0,479.0,3.212,5.1732776617954075,2.8100208768267225,0.18724778046811946]|\n",
            "| 0.45|    [378.0,949.0,300.0,0.8585,4.826666666666667,3.1633333333333336,0.2610497237569061]|\n",
            "|0.691|  [587.0,1005.0,401.0,1.6991,6.3740648379052365,2.506234413965087,0.22965571205007826]|\n",
            "|0.949|                    [322.0,666.0,256.0,2.9653,6.5546875,2.6015625,0.19189511323003575]|\n",
            "| 0.25|                    [33.0,64.0,27.0,0.8571,1.6296296296296295,2.3703703703703702,0.75]|\n",
            "| 0.44|                         [386.0,775.0,320.0,1.2049,4.3375,2.421875,0.2780979827089337]|\n",
            "|0.275|      [24.0,29.0,15.0,1.2656,6.466666666666667,1.9333333333333333,0.24742268041237114]|\n",
            "+-----+--------------------------------------------------------------------------------------+\n",
            "only showing top 20 rows\n",
            "\n"
          ]
        }
      ],
      "source": [
        "ch_vectors.show(truncate=100)"
      ]
    },
    {
      "cell_type": "code",
      "execution_count": null,
      "metadata": {
        "id": "FoQ5kI1xAvDm",
        "colab": {
          "base_uri": "https://localhost:8080/"
        },
        "outputId": "1e83b668-bc8f-4354-b6d2-c6bc5b4143cf"
      },
      "outputs": [
        {
          "output_type": "stream",
          "name": "stdout",
          "text": [
            "+-----+--------------------------------------------------------------------------------------+----------------------------------------------------------------------------------------------------+\n",
            "|label|                                                                              features|                                                                                     features_scaled|\n",
            "+-----+--------------------------------------------------------------------------------------+----------------------------------------------------------------------------------------------------+\n",
            "|0.669|[1283.0,1015.0,472.0,1.4936,11.889830508474576,2.1504237288135593,0.22861724875267284]|[1.7711675779147507,-0.3629885498177881,-0.07210720874024734,-1.2516244824311464,2.58057563322011...|\n",
            "|0.801|   [1901.0,1129.0,463.0,1.82,16.52267818574514,2.4384449244060473,0.24849673202614378]|[3.2403884041436606,-0.26219711485310704,-0.09568411224817205,-1.0798671949768905,4.4325033127587...|\n",
            "|0.857|   [174.0,333.0,117.0,1.6509,6.153846153846154,2.8461538461538463,0.24166666666666667]|[-0.8653468173730503,-0.9659688888170206,-1.0020850693306111,-1.1688505200642516,0.28768172957351...|\n",
            "|0.734|  [337.0,515.0,226.0,3.1917,6.6415929203539825,2.2787610619469025,0.22451698867421718]|[-0.4778338810052311,-0.8050562470313016,-0.7165425712901896,-0.35805508958166055,0.4826529007460...|\n",
            "|0.655|     [326.0,624.0,262.0,1.925,5.549618320610687,2.381679389312977,0.22420907840440166]|[-0.5039850607601146,-0.7086854890387557,-0.6222349572584908,-1.0246143911083339,0.04614858903744...|\n",
            "| 0.74|    [236.0,671.0,239.0,3.3438,5.803347280334728,2.807531380753138,0.17015140591204037]|[-0.717949258754616,-0.6671311255006854,-0.682487044000965,-0.27801745654920856,0.147573828187615...|\n",
            "|0.824|  [680.0,1841.0,633.0,2.6768,4.592417061611374,2.9083728278041074,0.23391812865497075]|[0.33760745135159104,0.36730728597893625,0.3496573984570726,-0.6290043154094682,-0.33648162674259...|\n",
            "|0.485|   [168.0,375.0,158.0,1.7083,5.139240506329114,2.3734177215189876,0.20689655172413793]|[-0.8796110972393504,-0.9288352022510854,-0.8946791755722875,-1.1386456539494407,-0.1178952315839...|\n",
            "|0.584|[1175.0,3134.0,1056.0,2.1782,4.535037878787879,2.9678030303030303,0.24535393610357067]|[1.5144105403213488,1.5104943509730822,1.4577718633295345,-0.8913762012081573,-0.359418296433133,...|\n",
            "|0.481|    [309.0,787.0,271.0,2.1908,5.523985239852398,2.904059040590406,0.20641282565130262]|[-0.5444005203812982,-0.5645714197471503,-0.598658053750566,-0.8847458647439305,0.035902059240870...|\n",
            "|0.865|    [801.0,2434.0,824.0,2.6797,4.540048543689321,2.953883495145631,0.2141138732959102]|[0.6252704286553096,0.8915995748741633,0.8500116840141416,-0.6274782855883367,-0.3574153406551135...|\n",
            "| 0.62|   [483.0,1182.0,437.0,1.625,4.549199084668192,2.7048054919908466,0.24295774647887325]|[-0.13073640425859542,-0.2153379389484746,-0.16379516682662124,-1.1824795450184955,-0.35375751693...|\n",
            "|0.486|    [248.0,580.0,211.0,2.1571,6.118483412322274,2.748815165876777,0.19209914794732766]|[-0.6894206990220159,-0.7475874463935449,-0.7558374104700641,-0.9024793836998387,0.27354587957055...|\n",
            "|0.704|  [464.0,1346.0,479.0,3.212,5.1732776617954075,2.8100208768267225,0.18724778046811946]|[-0.17590662383521238,-0.07033973426244217,-0.053769617122972554,-0.3473728808337395,-0.104289269...|\n",
            "| 0.45|    [378.0,949.0,300.0,0.8585,4.826666666666667,3.1633333333333336,0.2610497237569061]|[-0.3803613019188471,-0.4213414858499719,-0.522688031336142,-1.585825013258959,-0.242843036021977...|\n",
            "+-----+--------------------------------------------------------------------------------------+----------------------------------------------------------------------------------------------------+\n",
            "only showing top 15 rows\n",
            "\n"
          ]
        }
      ],
      "source": [
        "from pyspark.ml.feature import StandardScaler\n",
        "\n",
        "standardScaler = StandardScaler(inputCol=\"features\", outputCol=\"features_scaled\", withStd=True, withMean=True)\n",
        "\n",
        "scaler = standardScaler.fit(ch_vectors)\n",
        "\n",
        "scaled_ch = scaler.transform(ch_vectors)\n",
        "\n",
        "scaled_ch.show(15, truncate=100)"
      ]
    },
    {
      "cell_type": "code",
      "execution_count": null,
      "metadata": {
        "id": "e4jqfeBwAvDm"
      },
      "outputs": [],
      "source": [
        "train_ch, test_ch = scaled_ch.randomSplit([0.8, 0.2], seed=13)"
      ]
    },
    {
      "cell_type": "code",
      "execution_count": null,
      "metadata": {
        "id": "-tHYqm8pAvDn",
        "colab": {
          "base_uri": "https://localhost:8080/"
        },
        "outputId": "f0785d52-95ae-49fb-918e-9f3d4c4d1763"
      },
      "outputs": [
        {
          "output_type": "execute_result",
          "data": {
            "text/plain": [
              "(16087, 3913)"
            ]
          },
          "metadata": {},
          "execution_count": 14
        }
      ],
      "source": [
        "train_ch.count(), test_ch.count()"
      ]
    },
    {
      "cell_type": "code",
      "execution_count": null,
      "metadata": {
        "id": "8pA4vW8wAvDn",
        "colab": {
          "base_uri": "https://localhost:8080/"
        },
        "outputId": "cbdc7807-6e7e-4dbf-d029-f081e194e5b1"
      },
      "outputs": [
        {
          "output_type": "stream",
          "name": "stdout",
          "text": [
            "root\n",
            " |-- label: double (nullable = true)\n",
            " |-- features: vector (nullable = true)\n",
            " |-- features_scaled: vector (nullable = true)\n",
            "\n"
          ]
        }
      ],
      "source": [
        "train_ch.printSchema()"
      ]
    },
    {
      "cell_type": "code",
      "execution_count": null,
      "metadata": {
        "id": "VK8XZLDRAvDn"
      },
      "outputs": [],
      "source": [
        "from pyspark.ml.regression import LinearRegression\n",
        "\n",
        "lr = LinearRegression(featuresCol='features_scaled', labelCol=\"label\", regParam=0.3, elasticNetParam=0.8)\n",
        "\n",
        "linearModel = lr.fit(train_ch)"
      ]
    },
    {
      "cell_type": "code",
      "execution_count": null,
      "metadata": {
        "id": "RpTYOZy5AvDo"
      },
      "outputs": [],
      "source": [
        "predicted = linearModel.transform(test_ch)"
      ]
    },
    {
      "cell_type": "code",
      "execution_count": null,
      "metadata": {
        "id": "DUGyH-dfAvDo",
        "colab": {
          "base_uri": "https://localhost:8080/"
        },
        "outputId": "b8e20659-5b8c-46bd-c017-ead66045bcaa"
      },
      "outputs": [
        {
          "output_type": "stream",
          "name": "stdout",
          "text": [
            "root\n",
            " |-- label: double (nullable = true)\n",
            " |-- features: vector (nullable = true)\n",
            " |-- features_scaled: vector (nullable = true)\n",
            " |-- prediction: double (nullable = false)\n",
            "\n"
          ]
        }
      ],
      "source": [
        "predicted.printSchema()"
      ]
    },
    {
      "cell_type": "code",
      "execution_count": null,
      "metadata": {
        "id": "L5DP-BiWAvDo",
        "colab": {
          "base_uri": "https://localhost:8080/"
        },
        "outputId": "efbe3479-8a45-441b-a5d2-1ad35db9fb67"
      },
      "outputs": [
        {
          "output_type": "stream",
          "name": "stdout",
          "text": [
            "+-----+--------------------+--------------------+------------------+\n",
            "|label|            features|     features_scaled|        prediction|\n",
            "+-----+--------------------+--------------------+------------------+\n",
            "|0.773|[90.0,231.0,78.0,...|[-1.0650467355012...|1.6025090506848676|\n",
            "|1.133|[521.0,1663.0,565...|[-0.0403959651053...|1.9735385456720007|\n",
            "|1.438|[409.0,1143.0,386...|[-0.3066625226096...|1.7945262623655962|\n",
            "|1.467|[531.0,2609.0,472...|[-0.0166221653281...| 2.039507990032355|\n",
            "| 1.75|[1621.0,3296.0,14...|[2.57472201038298...|1.6266293024560503|\n",
            "|2.017|[501.0,987.0,364....|[-0.0879435646596...|2.1153144955989296|\n",
            "|2.297|[263.0,506.0,252....|[-0.6537599993562...| 2.134293910299065|\n",
            "|0.875|[73.0,222.0,78.0,...|[-1.1054621951224...|1.8090039710900043|\n",
            "+-----+--------------------+--------------------+------------------+\n",
            "\n"
          ]
        }
      ],
      "source": [
        "predicted.sample(0.001).show()"
      ]
    },
    {
      "cell_type": "code",
      "execution_count": null,
      "metadata": {
        "id": "FHe_ePUdAvDo",
        "colab": {
          "base_uri": "https://localhost:8080/"
        },
        "outputId": "ec145c88-79fc-403b-8200-65edc13101ce"
      },
      "outputs": [
        {
          "output_type": "execute_result",
          "data": {
            "text/plain": [
              "DenseVector([0.0, 0.0, 0.0, 0.5281, 0.0, 0.0, 0.0])"
            ]
          },
          "metadata": {},
          "execution_count": 20
        }
      ],
      "source": [
        "linearModel.coefficients"
      ]
    },
    {
      "cell_type": "code",
      "execution_count": null,
      "metadata": {
        "id": "yBFSGok9AvDp",
        "colab": {
          "base_uri": "https://localhost:8080/"
        },
        "outputId": "a373015f-5c21-4c65-9e5f-2743a051cd4d"
      },
      "outputs": [
        {
          "output_type": "execute_result",
          "data": {
            "text/plain": [
              "2.0716124216713796"
            ]
          },
          "metadata": {},
          "execution_count": 21
        }
      ],
      "source": [
        "linearModel.intercept"
      ]
    },
    {
      "cell_type": "code",
      "execution_count": null,
      "metadata": {
        "id": "vBaYWAksAvDp"
      },
      "outputs": [],
      "source": [
        "evaluation_summary = linearModel.evaluate(test_ch)"
      ]
    },
    {
      "cell_type": "code",
      "execution_count": null,
      "metadata": {
        "id": "Q_x6517jAvDp",
        "colab": {
          "base_uri": "https://localhost:8080/"
        },
        "outputId": "2639595b-bded-46a2-d5f0-4992025618b6"
      },
      "outputs": [
        {
          "output_type": "execute_result",
          "data": {
            "text/plain": [
              "0.7752135502001969"
            ]
          },
          "metadata": {},
          "execution_count": 23
        }
      ],
      "source": [
        "evaluation_summary.meanSquaredError"
      ]
    },
    {
      "cell_type": "markdown",
      "metadata": {
        "id": "cdOux_qLAvDp"
      },
      "source": [
        "# Pipeline"
      ]
    },
    {
      "cell_type": "code",
      "execution_count": null,
      "metadata": {
        "id": "u5svgwWFAvDq",
        "colab": {
          "base_uri": "https://localhost:8080/"
        },
        "outputId": "dda41941-5576-4e3b-8132-0bf78c1a9e72"
      },
      "outputs": [
        {
          "output_type": "stream",
          "name": "stdout",
          "text": [
            "root\n",
            " |-- median_house_value: double (nullable = true)\n",
            " |-- total_bedrooms: double (nullable = true)\n",
            " |-- population: double (nullable = true)\n",
            " |-- households: double (nullable = true)\n",
            " |-- median_income: double (nullable = true)\n",
            " |-- rooms_per_household: double (nullable = true)\n",
            " |-- population_per_household: double (nullable = true)\n",
            " |-- bedrooms_per_room: double (nullable = true)\n",
            "\n"
          ]
        }
      ],
      "source": [
        "ch.printSchema()"
      ]
    },
    {
      "cell_type": "code",
      "execution_count": null,
      "metadata": {
        "id": "Yco78Q2YAvDq",
        "colab": {
          "base_uri": "https://localhost:8080/"
        },
        "outputId": "cf564136-0321-4034-f95d-d113fcf6c094"
      },
      "outputs": [
        {
          "output_type": "stream",
          "name": "stdout",
          "text": [
            "+------------------+--------------+----------+----------+-------------+-------------------+------------------------+-------------------+--------------------------------------------------+\n",
            "|median_house_value|total_bedrooms|population|households|median_income|rooms_per_household|population_per_household|  bedrooms_per_room|                                          features|\n",
            "+------------------+--------------+----------+----------+-------------+-------------------+------------------------+-------------------+--------------------------------------------------+\n",
            "|             0.669|        1283.0|    1015.0|     472.0|       1.4936| 11.889830508474576|      2.1504237288135593|0.22861724875267284|[1283.0,1015.0,472.0,1.4936,11.889830508474576,...|\n",
            "|             0.801|        1901.0|    1129.0|     463.0|         1.82|  16.52267818574514|      2.4384449244060473|0.24849673202614378|[1901.0,1129.0,463.0,1.82,16.52267818574514,2.4...|\n",
            "|             0.857|         174.0|     333.0|     117.0|       1.6509|  6.153846153846154|      2.8461538461538463|0.24166666666666667|[174.0,333.0,117.0,1.6509,6.153846153846154,2.8...|\n",
            "+------------------+--------------+----------+----------+-------------+-------------------+------------------------+-------------------+--------------------------------------------------+\n",
            "only showing top 3 rows\n",
            "\n"
          ]
        }
      ],
      "source": [
        "from pyspark.ml.feature import VectorAssembler\n",
        "\n",
        "input_cols = ch.columns[1:]\n",
        "\n",
        "assembler = VectorAssembler(inputCols=input_cols, outputCol=\"features\")\n",
        "assembler.transform(ch).show(3, truncate=50)"
      ]
    },
    {
      "cell_type": "code",
      "execution_count": null,
      "metadata": {
        "id": "d76eMDGIAvDq",
        "colab": {
          "base_uri": "https://localhost:8080/"
        },
        "outputId": "7214cb75-0846-41cc-a44b-c8e1908bf23d"
      },
      "outputs": [
        {
          "output_type": "stream",
          "name": "stdout",
          "text": [
            "+------------------+--------------------------------------------------------------------------------------+\n",
            "|median_house_value|                                                                              features|\n",
            "+------------------+--------------------------------------------------------------------------------------+\n",
            "|             0.669|[1283.0,1015.0,472.0,1.4936,11.889830508474576,2.1504237288135593,0.22861724875267284]|\n",
            "|             0.801|   [1901.0,1129.0,463.0,1.82,16.52267818574514,2.4384449244060473,0.24849673202614378]|\n",
            "|             0.857|   [174.0,333.0,117.0,1.6509,6.153846153846154,2.8461538461538463,0.24166666666666667]|\n",
            "+------------------+--------------------------------------------------------------------------------------+\n",
            "only showing top 3 rows\n",
            "\n"
          ]
        }
      ],
      "source": [
        "ch_vectors = assembler.transform(ch).select('median_house_value', 'features')\n",
        "ch_vectors.show(3, 100)"
      ]
    },
    {
      "cell_type": "code",
      "execution_count": null,
      "metadata": {
        "id": "SjdX_asMAvDq"
      },
      "outputs": [],
      "source": [
        "from pyspark.ml.feature import SQLTransformer\n",
        "\n",
        "project_sql = SQLTransformer(statement=\"SELECT median_house_value as label, features FROM __THIS__\")"
      ]
    },
    {
      "cell_type": "code",
      "execution_count": null,
      "metadata": {
        "id": "f3-b29bxAvDq",
        "colab": {
          "base_uri": "https://localhost:8080/",
          "height": 36
        },
        "outputId": "b524c99e-8cda-4bf6-93c0-a6c6a1204537"
      },
      "outputs": [
        {
          "output_type": "execute_result",
          "data": {
            "text/plain": [
              "'label'"
            ],
            "application/vnd.google.colaboratory.intrinsic+json": {
              "type": "string"
            }
          },
          "metadata": {},
          "execution_count": 28
        }
      ],
      "source": [
        "lr.getLabelCol()"
      ]
    },
    {
      "cell_type": "code",
      "execution_count": null,
      "metadata": {
        "id": "aDEnP2BdAvDq",
        "colab": {
          "base_uri": "https://localhost:8080/"
        },
        "outputId": "e15c898a-00c5-43f0-e63d-8e957a892f07"
      },
      "outputs": [
        {
          "output_type": "execute_result",
          "data": {
            "text/plain": [
              "LinearRegression_0deb3114002a"
            ]
          },
          "metadata": {},
          "execution_count": 29
        }
      ],
      "source": [
        "lr.setLabelCol('median_house_value')"
      ]
    },
    {
      "cell_type": "code",
      "execution_count": null,
      "metadata": {
        "id": "L4iLbL4yAvDq",
        "colab": {
          "base_uri": "https://localhost:8080/",
          "height": 36
        },
        "outputId": "53f93a8b-4a35-4da6-ebd0-f3ccc0bbaa1f"
      },
      "outputs": [
        {
          "output_type": "execute_result",
          "data": {
            "text/plain": [
              "'median_house_value'"
            ],
            "application/vnd.google.colaboratory.intrinsic+json": {
              "type": "string"
            }
          },
          "metadata": {},
          "execution_count": 30
        }
      ],
      "source": [
        "lr.getLabelCol()"
      ]
    },
    {
      "cell_type": "code",
      "execution_count": null,
      "metadata": {
        "id": "i4D8S3d2AvDr"
      },
      "outputs": [],
      "source": [
        "train_ch, test_ch = ch.randomSplit([0.8, 0.2], seed=13)"
      ]
    },
    {
      "cell_type": "code",
      "execution_count": null,
      "metadata": {
        "id": "PQlWw1czAvDr"
      },
      "outputs": [],
      "source": [
        "from pyspark.ml import Pipeline\n",
        "\n",
        "pipeline = Pipeline(stages=[assembler,\n",
        "                            # project_sql,\n",
        "                            standardScaler,\n",
        "                            lr])"
      ]
    },
    {
      "cell_type": "code",
      "execution_count": null,
      "metadata": {
        "id": "UNpvSSNCAvDs"
      },
      "outputs": [],
      "source": [
        "model = pipeline.fit(train_ch)"
      ]
    },
    {
      "cell_type": "code",
      "execution_count": null,
      "metadata": {
        "id": "A5dCNwvVAvDs"
      },
      "outputs": [],
      "source": [
        "prediction = model.transform(test_ch)"
      ]
    },
    {
      "cell_type": "code",
      "execution_count": null,
      "metadata": {
        "id": "WXCeDRoSAvDs",
        "colab": {
          "base_uri": "https://localhost:8080/"
        },
        "outputId": "da396dba-5c78-459c-9a78-b01eed6e92d5"
      },
      "outputs": [
        {
          "output_type": "stream",
          "name": "stdout",
          "text": [
            "+------------------+--------------+----------+----------+-------------+-------------------+------------------------+-------------------+--------------------+--------------------+------------------+\n",
            "|median_house_value|total_bedrooms|population|households|median_income|rooms_per_household|population_per_household|  bedrooms_per_room|            features|     features_scaled|        prediction|\n",
            "+------------------+--------------+----------+----------+-------------+-------------------+------------------------+-------------------+--------------------+--------------------+------------------+\n",
            "|           0.14999|          73.0|      85.0|      38.0|       1.6607| 6.7105263157894735|       2.236842105263158|0.28627450980392155|[73.0,85.0,38.0,1...|[-1.1167712412769...|1.4570928323454684|\n",
            "|             0.225|          73.0|     216.0|      63.0|        2.675|  4.698412698412699|      3.4285714285714284|0.24662162162162163|[73.0,216.0,63.0,...|[-1.1167712412769...| 1.738949645381304|\n",
            "|             0.283|        3114.0|   12427.0|    2826.0|       2.7377|  6.276716206652512|       4.397381457891012|0.17555530499492614|[3114.0,12427.0,2...|[6.20299812632024...|1.7563729148058795|\n",
            "|             0.366|         199.0|     567.0|     204.0|       0.9288|   4.28921568627451|      2.7794117647058822|0.22742857142857142|[199.0,567.0,204....|[-0.8134858284793...|1.2537102024914526|\n",
            "|             0.367|         238.0|     425.0|     157.0|       1.0486|  5.974522292993631|      2.7070063694267517| 0.2537313432835821|[238.0,425.0,157....|[-0.7196117721373...|1.2870005960650435|\n",
            "+------------------+--------------+----------+----------+-------------+-------------------+------------------------+-------------------+--------------------+--------------------+------------------+\n",
            "only showing top 5 rows\n",
            "\n"
          ]
        }
      ],
      "source": [
        "prediction.show(5)"
      ]
    },
    {
      "cell_type": "code",
      "execution_count": null,
      "metadata": {
        "id": "t1quON93AvDs",
        "colab": {
          "base_uri": "https://localhost:8080/"
        },
        "outputId": "9da45694-1c11-4f36-bd19-64a9457bea13"
      },
      "outputs": [
        {
          "output_type": "execute_result",
          "data": {
            "text/plain": [
              "0.7752135502001977"
            ]
          },
          "metadata": {},
          "execution_count": 36
        }
      ],
      "source": [
        "from pyspark.ml.evaluation import RegressionEvaluator\n",
        "\n",
        "evaluator = RegressionEvaluator(labelCol=\"median_house_value\", predictionCol=\"prediction\", metricName=\"mse\")\n",
        "mse = evaluator.evaluate(prediction)\n",
        "mse"
      ]
    },
    {
      "cell_type": "markdown",
      "metadata": {
        "id": "UTjhjC4WAvDt"
      },
      "source": [
        "# Кросс-Валидация "
      ]
    },
    {
      "cell_type": "code",
      "execution_count": null,
      "metadata": {
        "id": "eUKtKrFfAvDt"
      },
      "outputs": [],
      "source": [
        "pipeline = Pipeline(stages=[assembler, standardScaler, lr])"
      ]
    },
    {
      "cell_type": "markdown",
      "metadata": {
        "id": "Tw_4cAa-AvDt"
      },
      "source": [
        "[целевая функция](<https://spark.apache.org/docs/latest/api/scala/org/apache/spark/ml/regression/LinearRegression.html>)"
      ]
    },
    {
      "cell_type": "code",
      "execution_count": null,
      "metadata": {
        "id": "svQuwYAzAvDt"
      },
      "outputs": [],
      "source": [
        "from pyspark.ml.tuning import ParamGridBuilder\n",
        "\n",
        "paramGrid = ParamGridBuilder()\\\n",
        "  .addGrid(lr.regParam, [0.01, 0.05, 0.15, 0.3, 0.5, 0.75, 1])\\\n",
        "  .addGrid(lr.elasticNetParam, [0, 0.15, 0.3, 0.5, 0.8, 1])\\\n",
        "  .build()"
      ]
    },
    {
      "cell_type": "code",
      "execution_count": null,
      "metadata": {
        "id": "ou_MPIErAvDt"
      },
      "outputs": [],
      "source": [
        "from pyspark.ml.tuning import CrossValidator\n",
        "\n",
        "crossval = CrossValidator(estimator=pipeline,\n",
        "                          estimatorParamMaps=paramGrid,\n",
        "                          evaluator=evaluator,\n",
        "                          numFolds=3)"
      ]
    },
    {
      "cell_type": "code",
      "execution_count": null,
      "metadata": {
        "id": "_lmCy42IAvDu"
      },
      "outputs": [],
      "source": [
        "cvModel = crossval.fit(train_ch)"
      ]
    },
    {
      "cell_type": "code",
      "execution_count": null,
      "metadata": {
        "id": "x1Hz7bGsAvDu",
        "colab": {
          "base_uri": "https://localhost:8080/"
        },
        "outputId": "326dcc36-7770-4a61-ec68-361210e7a858"
      },
      "outputs": [
        {
          "output_type": "execute_result",
          "data": {
            "text/plain": [
              "PipelineModel_9f7a3b7fde8f"
            ]
          },
          "metadata": {},
          "execution_count": 41
        }
      ],
      "source": [
        "cvModel.bestModel"
      ]
    },
    {
      "cell_type": "code",
      "execution_count": null,
      "metadata": {
        "id": "0PrlByFTAvDu",
        "colab": {
          "base_uri": "https://localhost:8080/"
        },
        "outputId": "1ddcb0a8-eb19-46de-bad1-aab30b84bd83"
      },
      "outputs": [
        {
          "output_type": "execute_result",
          "data": {
            "text/plain": [
              "[VectorAssembler_27b63b8a818e,\n",
              " StandardScalerModel: uid=StandardScaler_a649ef425775, numFeatures=7, withMean=true, withStd=true,\n",
              " LinearRegressionModel: uid=LinearRegression_0deb3114002a, numFeatures=7]"
            ]
          },
          "metadata": {},
          "execution_count": 42
        }
      ],
      "source": [
        "cvModel.bestModel.stages"
      ]
    },
    {
      "cell_type": "code",
      "execution_count": null,
      "metadata": {
        "id": "3C72w-KgAvDu",
        "colab": {
          "base_uri": "https://localhost:8080/"
        },
        "outputId": "3ccbf197-32e1-4f08-d812-5819dd17e097"
      },
      "outputs": [
        {
          "output_type": "execute_result",
          "data": {
            "text/plain": [
              "(0.15, 1.0)"
            ]
          },
          "metadata": {},
          "execution_count": 43
        }
      ],
      "source": [
        "opt_model = cvModel.bestModel.stages[-1]\n",
        "opt_model.getRegParam(), opt_model.getElasticNetParam()"
      ]
    },
    {
      "cell_type": "code",
      "execution_count": null,
      "metadata": {
        "id": "FafYC2moAvDu"
      },
      "outputs": [],
      "source": [
        "prediction = cvModel.transform(test_ch)"
      ]
    },
    {
      "cell_type": "code",
      "execution_count": null,
      "metadata": {
        "id": "5_HRnSgoAvDu",
        "colab": {
          "base_uri": "https://localhost:8080/"
        },
        "outputId": "1f13014b-8c93-4bf7-da0d-1f64dd1ec54e"
      },
      "outputs": [
        {
          "output_type": "stream",
          "name": "stdout",
          "text": [
            "+------------------+--------------+----------+----------+-------------+-------------------+------------------------+-------------------+--------------------+--------------------+------------------+\n",
            "|median_house_value|total_bedrooms|population|households|median_income|rooms_per_household|population_per_household|  bedrooms_per_room|            features|     features_scaled|        prediction|\n",
            "+------------------+--------------+----------+----------+-------------+-------------------+------------------------+-------------------+--------------------+--------------------+------------------+\n",
            "|             0.518|         542.0|    1343.0|     471.0|        0.799| 3.6454352441613587|       2.851380042462845| 0.3156668608037274|[542.0,1343.0,471...|[0.01212446191384...|1.0280610429689958|\n",
            "|             0.768|         594.0|    1342.0|     595.0|       1.9671|  4.287394957983193|      2.2554621848739496|0.23284986279890238|[594.0,1342.0,595...|[0.13728987036995...|1.4246851578248863|\n",
            "|             0.788|         677.0|    1714.0|     612.0|       0.7075| 3.2908496732026142|      2.8006535947712417| 0.3361469712015889|[677.0,1714.0,612...|[0.33707311848260...|0.9969925501093826|\n",
            "|             0.964|         549.0|    1841.0|     564.0|       2.8682|  5.175531914893617|      3.2641843971631204| 0.1880781089414183|[549.0,1841.0,564...|[0.02897365151370...|1.7306503918773157|\n",
            "|             0.975|         147.0|     653.0|     147.0|       1.4792|  4.414965986394558|       4.442176870748299|0.22650231124807396|[147.0,653.0,147....|[-0.9386512369355...|1.2590204838772885|\n",
            "|             1.003|         235.0|     818.0|     262.0|       4.0625|  5.259541984732825|       3.122137404580153|0.17053701015965167|[235.0,818.0,262....|[-0.7268328533943...| 2.136170621628527|\n",
            "|             1.111|         425.0|    1304.0|     420.0|       4.3676|  6.392857142857143|       3.104761904761905|0.15828677839851024|[425.0,1304.0,420...|[-0.2694977071124...|2.2397662191309093|\n",
            "|              1.13|         774.0|    1398.0|     763.0|        2.569| 4.7011795543905635|      1.8322411533420708| 0.2157792026763312|[774.0,1398.0,763...|[0.57055474579497...|1.6290581179582313|\n",
            "|             1.198|         446.0|    1052.0|     394.0|       2.2138|  5.058375634517766|      2.6700507614213196|0.22378324134470648|[446.0,1052.0,394...|[-0.2189501383128...|1.5084512473163239|\n",
            "|             1.431|         495.0|    1305.0|     436.0|       2.9107|  5.807339449541284|       2.993119266055046|0.19549763033175355|[495.0,1305.0,436...|[-0.1010058111138...|1.7450811126044585|\n",
            "|              1.49|         886.0|    1550.0|     802.0|       2.5199| 3.9713216957605986|      1.9326683291770574| 0.2781789638932496|[886.0,1550.0,802...|[0.84014177939276...| 1.612386391188756|\n",
            "|             1.612|         260.0|    1098.0|     257.0|       4.2917|  5.245136186770428|       4.272373540856031|0.19287833827893175|[260.0,1098.0,257...|[-0.6666571762520...|2.2139946496440825|\n",
            "|             1.691|         847.0|    2032.0|     745.0|       4.0159|  5.523489932885906|      2.7275167785234897|0.20583232077764277|[847.0,2032.0,745...|[0.74626772305068...| 2.120347760784178|\n",
            "|             1.792|          28.0|      84.0|      29.0|        2.125|  4.827586206896552|       2.896551724137931|                0.2|[28.0,84.0,29.0,2...|[-1.2250874601331...| 1.478299529655847|\n",
            "|             1.869|         220.0|     565.0|     199.0|       3.3594|  5.623115577889447|      2.8391959798994977| 0.1966041108132261|[220.0,565.0,199....|[-0.7629382596798...|  1.89743556884608|\n",
            "|             1.907|         623.0|    1902.0|     565.0|       4.2926|  5.407079646017699|       3.366371681415929|0.20392798690671032|[623.0,1902.0,565...|[0.20709365585510...|2.2143002413771278|\n",
            "|              1.99|         246.0|     610.0|     253.0|          4.6|  6.304347826086956|       2.411067193675889| 0.1542319749216301|[246.0,610.0,253....|[-0.7003555554517...| 2.318676795530626|\n",
            "|             2.005|         415.0|    1623.0|     429.0|         4.35|  5.016317016317016|      3.7832167832167833| 0.1928438661710037|[415.0,1623.0,429...|[-0.2935679779693...| 2.233790203018022|\n",
            "|             2.059|         794.0|    2343.0|     647.0|       3.0865|  5.098918083462133|      3.6213292117465223|0.24067899363443468|[794.0,2343.0,647...|[0.61869528750887...|1.8047733644593216|\n",
            "|             2.083|         686.0|    2013.0|     614.0|       1.9818| 2.3061889250814334|       3.278501628664495| 0.4844632768361582|[686.0,2013.0,614...|[0.35873636225385...|1.4296764894646272|\n",
            "+------------------+--------------+----------+----------+-------------+-------------------+------------------------+-------------------+--------------------+--------------------+------------------+\n",
            "only showing top 20 rows\n",
            "\n"
          ]
        }
      ],
      "source": [
        "prediction.sample(0.01).show()"
      ]
    },
    {
      "cell_type": "code",
      "execution_count": null,
      "metadata": {
        "id": "Q3E249cfAvDu",
        "colab": {
          "base_uri": "https://localhost:8080/"
        },
        "outputId": "628e596f-1b7f-4471-f0d7-5ddbdd9cdbd3"
      },
      "outputs": [
        {
          "output_type": "execute_result",
          "data": {
            "text/plain": [
              "0.7257301684025338"
            ]
          },
          "metadata": {},
          "execution_count": 46
        }
      ],
      "source": [
        "evaluator.evaluate(prediction)"
      ]
    },
    {
      "cell_type": "markdown",
      "metadata": {
        "id": "cnEkqCraAvDu"
      },
      "source": [
        "# Классификация "
      ]
    },
    {
      "cell_type": "code",
      "execution_count": null,
      "metadata": {
        "id": "eirlHOxsAvDv",
        "colab": {
          "base_uri": "https://localhost:8080/"
        },
        "outputId": "726b580a-9f0c-45b9-be95-b26cb96ff642"
      },
      "outputs": [
        {
          "output_type": "stream",
          "name": "stdout",
          "text": [
            "--2022-05-14 08:41:00--  https://web.stanford.edu/class/archive/cs/cs109/cs109.1166/stuff/titanic.csv\n",
            "Resolving web.stanford.edu (web.stanford.edu)... 171.67.215.200, 2607:f6d0:0:925a::ab43:d7c8\n",
            "Connecting to web.stanford.edu (web.stanford.edu)|171.67.215.200|:443... connected.\n",
            "HTTP request sent, awaiting response... 200 OK\n",
            "Length: 44225 (43K) [text/csv]\n",
            "Saving to: ‘titanic.csv’\n",
            "\n",
            "titanic.csv         100%[===================>]  43.19K  --.-KB/s    in 0.1s    \n",
            "\n",
            "2022-05-14 08:41:00 (434 KB/s) - ‘titanic.csv’ saved [44225/44225]\n",
            "\n"
          ]
        }
      ],
      "source": [
        "!wget -c https://web.stanford.edu/class/archive/cs/cs109/cs109.1166/stuff/titanic.csv"
      ]
    },
    {
      "cell_type": "code",
      "execution_count": null,
      "metadata": {
        "id": "EFdlU5LxAvDv",
        "colab": {
          "base_uri": "https://localhost:8080/"
        },
        "outputId": "0032a4ba-5cb3-4777-b34a-4a613c539a64"
      },
      "outputs": [
        {
          "output_type": "stream",
          "name": "stdout",
          "text": [
            "+--------+------+--------------------+------+----+-----------------------+-----------------------+-------+\n",
            "|Survived|Pclass|                Name|   Sex| Age|Siblings/Spouses Aboard|Parents/Children Aboard|   Fare|\n",
            "+--------+------+--------------------+------+----+-----------------------+-----------------------+-------+\n",
            "|       0|     3|Mr. Owen Harris B...|  male|22.0|                      1|                      0|   7.25|\n",
            "|       1|     1|Mrs. John Bradley...|female|38.0|                      1|                      0|71.2833|\n",
            "|       1|     3|Miss. Laina Heikk...|female|26.0|                      0|                      0|  7.925|\n",
            "|       1|     1|Mrs. Jacques Heat...|female|35.0|                      1|                      0|   53.1|\n",
            "|       0|     3|Mr. William Henry...|  male|35.0|                      0|                      0|   8.05|\n",
            "+--------+------+--------------------+------+----+-----------------------+-----------------------+-------+\n",
            "only showing top 5 rows\n",
            "\n"
          ]
        }
      ],
      "source": [
        "titanic = spark.read.csv('/content/titanic.csv', header=True, inferSchema=True)\n",
        "titanic.show(5)"
      ]
    },
    {
      "cell_type": "code",
      "execution_count": null,
      "metadata": {
        "id": "B7UPwtygAvDv"
      },
      "outputs": [],
      "source": [
        "titanic = titanic.drop('Name')"
      ]
    },
    {
      "cell_type": "code",
      "execution_count": null,
      "metadata": {
        "id": "jRy9RtswAvDv",
        "colab": {
          "base_uri": "https://localhost:8080/"
        },
        "outputId": "27475974-c1f4-41ad-d82c-7587abe4fcb1"
      },
      "outputs": [
        {
          "output_type": "stream",
          "name": "stdout",
          "text": [
            "+--------+------+------+----+-----------------------+-----------------------+-------+\n",
            "|Survived|Pclass|   Sex| Age|Siblings/Spouses Aboard|Parents/Children Aboard|   Fare|\n",
            "+--------+------+------+----+-----------------------+-----------------------+-------+\n",
            "|       0|     3|  male|22.0|                      1|                      0|   7.25|\n",
            "|       1|     1|female|38.0|                      1|                      0|71.2833|\n",
            "|       1|     3|female|26.0|                      0|                      0|  7.925|\n",
            "|       1|     1|female|35.0|                      1|                      0|   53.1|\n",
            "|       0|     3|  male|35.0|                      0|                      0|   8.05|\n",
            "+--------+------+------+----+-----------------------+-----------------------+-------+\n",
            "only showing top 5 rows\n",
            "\n"
          ]
        }
      ],
      "source": [
        "titanic.show(5)"
      ]
    },
    {
      "cell_type": "code",
      "execution_count": null,
      "metadata": {
        "id": "LXluw4EpAvDw"
      },
      "outputs": [],
      "source": [
        "titanic = titanic\\\n",
        "  .withColumnRenamed('Siblings/Spouses Aboard', 'SibSp')\\\n",
        "  .withColumnRenamed('Parents/Children Aboard', 'ParCh')"
      ]
    },
    {
      "cell_type": "code",
      "execution_count": null,
      "metadata": {
        "id": "dvt7kxuLAvDw",
        "colab": {
          "base_uri": "https://localhost:8080/"
        },
        "outputId": "79f6a26c-f6dc-40c8-fc1c-cca904325dd6"
      },
      "outputs": [
        {
          "output_type": "stream",
          "name": "stdout",
          "text": [
            "root\n",
            " |-- Survived: integer (nullable = true)\n",
            " |-- Pclass: integer (nullable = true)\n",
            " |-- Sex: string (nullable = true)\n",
            " |-- Age: double (nullable = true)\n",
            " |-- SibSp: integer (nullable = true)\n",
            " |-- ParCh: integer (nullable = true)\n",
            " |-- Fare: double (nullable = true)\n",
            "\n"
          ]
        }
      ],
      "source": [
        "\n",
        "titanic.printSchema()"
      ]
    },
    {
      "cell_type": "code",
      "execution_count": null,
      "metadata": {
        "id": "ii95kDbiAvDw",
        "colab": {
          "base_uri": "https://localhost:8080/"
        },
        "outputId": "22b6ca42-ace1-495c-a75c-1f01b1d6c041"
      },
      "outputs": [
        {
          "output_type": "stream",
          "name": "stdout",
          "text": [
            "+--------+------+------+----+-----+-----+-------+\n",
            "|Survived|Pclass|   Sex| Age|SibSp|ParCh|   Fare|\n",
            "+--------+------+------+----+-----+-----+-------+\n",
            "|       0|     3|  male|22.0|    1|    0|   7.25|\n",
            "|       1|     1|female|38.0|    1|    0|71.2833|\n",
            "|       1|     3|female|26.0|    0|    0|  7.925|\n",
            "|       1|     1|female|35.0|    1|    0|   53.1|\n",
            "|       0|     3|  male|35.0|    0|    0|   8.05|\n",
            "+--------+------+------+----+-----+-----+-------+\n",
            "only showing top 5 rows\n",
            "\n"
          ]
        }
      ],
      "source": [
        "titanic.show(5)"
      ]
    },
    {
      "cell_type": "code",
      "execution_count": null,
      "metadata": {
        "id": "FKjnAD_XAvDw"
      },
      "outputs": [],
      "source": [
        "titanic_train, titanic_test = titanic.randomSplit([0.75, 0.25], seed=13)"
      ]
    },
    {
      "cell_type": "code",
      "execution_count": null,
      "metadata": {
        "id": "iw4aTkEzAvDw",
        "colab": {
          "base_uri": "https://localhost:8080/"
        },
        "outputId": "18dd97e3-33db-4286-909f-a01fd2aa5a90"
      },
      "outputs": [
        {
          "output_type": "execute_result",
          "data": {
            "text/plain": [
              "(678, 209)"
            ]
          },
          "metadata": {},
          "execution_count": 55
        }
      ],
      "source": [
        "titanic_train.count(), titanic_test.count()"
      ]
    },
    {
      "cell_type": "code",
      "execution_count": null,
      "metadata": {
        "id": "tWdHEWPIAvDw"
      },
      "outputs": [],
      "source": [
        "# from pyspark.ml.feature import OneHotEncoder\n",
        "\n",
        "# encoder = OneHotEncoder(inputCol=\"Sex\")\n",
        "# ohe = encoder.fit(titanic_train)\n",
        "# ohe.transform(titanic_train).show(5)"
      ]
    },
    {
      "cell_type": "code",
      "execution_count": null,
      "metadata": {
        "id": "tjWsQvNkAvDw"
      },
      "outputs": [],
      "source": [
        "from pyspark.ml.feature import StringIndexer\n",
        "\n",
        "indexer = StringIndexer(inputCol=\"Sex\", outputCol=\"SexIndexer\")\n",
        "indexed = indexer.fit(titanic_train).transform(titanic_train)"
      ]
    },
    {
      "cell_type": "code",
      "execution_count": null,
      "metadata": {
        "id": "3t6FyGaUAvDw",
        "colab": {
          "base_uri": "https://localhost:8080/"
        },
        "outputId": "1ffe1997-549a-40d1-9952-740f1b017b43"
      },
      "outputs": [
        {
          "output_type": "stream",
          "name": "stdout",
          "text": [
            "+--------+------+------+----+-----+-----+-------+----------+\n",
            "|Survived|Pclass|   Sex| Age|SibSp|ParCh|   Fare|SexIndexer|\n",
            "+--------+------+------+----+-----+-----+-------+----------+\n",
            "|       0|     1|female| 2.0|    1|    2| 151.55|       1.0|\n",
            "|       0|     1|female|50.0|    0|    0|28.7125|       1.0|\n",
            "|       0|     1|  male|18.0|    1|    0|  108.9|       0.0|\n",
            "|       0|     1|  male|19.0|    1|    0|   53.1|       0.0|\n",
            "|       0|     1|  male|21.0|    0|    1|77.2875|       0.0|\n",
            "+--------+------+------+----+-----+-----+-------+----------+\n",
            "only showing top 5 rows\n",
            "\n"
          ]
        }
      ],
      "source": [
        "indexed.show(5)"
      ]
    },
    {
      "cell_type": "code",
      "execution_count": null,
      "metadata": {
        "id": "lvoFVMCvAvDw",
        "colab": {
          "base_uri": "https://localhost:8080/"
        },
        "outputId": "131ae5cc-ee13-479e-d8d3-76bc75593704"
      },
      "outputs": [
        {
          "output_type": "stream",
          "name": "stdout",
          "text": [
            "root\n",
            " |-- Survived: integer (nullable = true)\n",
            " |-- Pclass: integer (nullable = true)\n",
            " |-- Sex: string (nullable = true)\n",
            " |-- Age: double (nullable = true)\n",
            " |-- SibSp: integer (nullable = true)\n",
            " |-- ParCh: integer (nullable = true)\n",
            " |-- Fare: double (nullable = true)\n",
            " |-- SexIndexer: double (nullable = false)\n",
            "\n"
          ]
        }
      ],
      "source": [
        "indexed.printSchema()"
      ]
    },
    {
      "cell_type": "code",
      "execution_count": null,
      "metadata": {
        "id": "6jzpri3gAvDx",
        "colab": {
          "base_uri": "https://localhost:8080/"
        },
        "outputId": "4d1240aa-1cb3-4584-ebdc-c84c558fd4f2"
      },
      "outputs": [
        {
          "output_type": "stream",
          "name": "stdout",
          "text": [
            "+--------+------+------+----+-----+-----+-------+----------+-------------+\n",
            "|Survived|Pclass|   Sex| Age|SibSp|ParCh|   Fare|SexIndexer|    SexVector|\n",
            "+--------+------+------+----+-----+-----+-------+----------+-------------+\n",
            "|       0|     1|  male|18.0|    1|    0|  108.9|       0.0|(1,[0],[1.0])|\n",
            "|       0|     1|  male|28.0|    0|    0|   31.0|       0.0|(1,[0],[1.0])|\n",
            "|       0|     1|  male|31.0|    0|    0|50.4958|       0.0|(1,[0],[1.0])|\n",
            "|       0|     1|  male|41.0|    0|    0|  26.55|       0.0|(1,[0],[1.0])|\n",
            "|       0|     1|  male|54.0|    0|    0|51.8625|       0.0|(1,[0],[1.0])|\n",
            "|       0|     1|  male|64.0|    0|    0|   26.0|       0.0|(1,[0],[1.0])|\n",
            "|       0|     1|  male|64.0|    0|    0|27.7208|       0.0|(1,[0],[1.0])|\n",
            "|       0|     2|female|38.0|    0|    0|   13.0|       1.0|    (1,[],[])|\n",
            "|       0|     2|  male|21.0|    1|    0|   11.5|       0.0|(1,[0],[1.0])|\n",
            "|       0|     2|  male|27.0|    0|    0|   13.0|       0.0|(1,[0],[1.0])|\n",
            "|       0|     2|  male|36.0|    0|    0|   10.5|       0.0|(1,[0],[1.0])|\n",
            "|       0|     2|  male|43.0|    1|    1|  26.25|       0.0|(1,[0],[1.0])|\n",
            "|       0|     2|  male|59.0|    0|    0|   13.5|       0.0|(1,[0],[1.0])|\n",
            "|       0|     2|  male|66.0|    0|    0|   10.5|       0.0|(1,[0],[1.0])|\n",
            "|       0|     3|female| 3.0|    3|    1|25.4667|       1.0|    (1,[],[])|\n",
            "|       0|     3|female| 8.0|    3|    1|25.4667|       1.0|    (1,[],[])|\n",
            "|       0|     3|female|22.0|    0|    0| 9.8375|       1.0|    (1,[],[])|\n",
            "|       0|     3|female|29.0|    1|    1|10.4625|       1.0|    (1,[],[])|\n",
            "|       0|     3|female|31.0|    0|    0| 7.8542|       1.0|    (1,[],[])|\n",
            "|       0|     3|female|32.0|    1|    1|   15.5|       1.0|    (1,[],[])|\n",
            "+--------+------+------+----+-----+-----+-------+----------+-------------+\n",
            "only showing top 20 rows\n",
            "\n"
          ]
        }
      ],
      "source": [
        "from pyspark.ml.feature import OneHotEncoder\n",
        "\n",
        "encoder = OneHotEncoder(inputCol=\"SexIndexer\", outputCol=\"SexVector\")\n",
        "ohe = encoder.fit(indexed)\n",
        "ohe.transform(indexed).sample(False, 0.1, seed=0).show()"
      ]
    },
    {
      "cell_type": "code",
      "execution_count": null,
      "metadata": {
        "id": "yW6BE__eAvDx",
        "colab": {
          "base_uri": "https://localhost:8080/"
        },
        "outputId": "7c549e1b-edc3-4bf6-cd55-0e93b38523b1"
      },
      "outputs": [
        {
          "output_type": "stream",
          "name": "stdout",
          "text": [
            "+--------+------+----+-----+-----+-------+-------------+\n",
            "|Survived|Pclass| Age|SibSp|ParCh|   Fare|    SexVector|\n",
            "+--------+------+----+-----+-----+-------+-------------+\n",
            "|       0|     1| 2.0|    1|    2| 151.55|    (1,[],[])|\n",
            "|       0|     1|50.0|    0|    0|28.7125|    (1,[],[])|\n",
            "|       0|     1|18.0|    1|    0|  108.9|(1,[0],[1.0])|\n",
            "|       0|     1|19.0|    1|    0|   53.1|(1,[0],[1.0])|\n",
            "|       0|     1|21.0|    0|    1|77.2875|(1,[0],[1.0])|\n",
            "+--------+------+----+-----+-----+-------+-------------+\n",
            "only showing top 5 rows\n",
            "\n"
          ]
        }
      ],
      "source": [
        "titanic_train = ohe.transform(indexed).drop('Sex', 'SexIndexer')\n",
        "titanic_train.show(5)"
      ]
    },
    {
      "cell_type": "code",
      "execution_count": null,
      "metadata": {
        "id": "euffAO9VAvDx",
        "colab": {
          "base_uri": "https://localhost:8080/"
        },
        "outputId": "cbd1ab4f-d24e-4d6f-cec3-7bd8ba26729c"
      },
      "outputs": [
        {
          "output_type": "stream",
          "name": "stdout",
          "text": [
            "root\n",
            " |-- Survived: integer (nullable = true)\n",
            " |-- Pclass: integer (nullable = true)\n",
            " |-- Age: double (nullable = true)\n",
            " |-- SibSp: integer (nullable = true)\n",
            " |-- ParCh: integer (nullable = true)\n",
            " |-- Fare: double (nullable = true)\n",
            " |-- SexVector: vector (nullable = true)\n",
            "\n"
          ]
        }
      ],
      "source": [
        "titanic_train.printSchema()"
      ]
    },
    {
      "cell_type": "code",
      "execution_count": null,
      "metadata": {
        "id": "GrUdwEYnAvDx"
      },
      "outputs": [],
      "source": [
        "from pyspark.ml.feature import VectorAssembler\n",
        "\n",
        "input_cols = titanic_train.columns[1:]\n",
        "\n",
        "assembler = VectorAssembler(inputCols=input_cols, outputCol=\"features\")\n",
        "titanic_train_vec = assembler.transform(titanic_train)"
      ]
    },
    {
      "cell_type": "code",
      "execution_count": null,
      "metadata": {
        "id": "KwwCFwJyAvDx",
        "colab": {
          "base_uri": "https://localhost:8080/"
        },
        "outputId": "c46e8897-b7e6-4241-e824-d314742c6cee"
      },
      "outputs": [
        {
          "output_type": "stream",
          "name": "stdout",
          "text": [
            "+--------+------+----+-----+-----+-------+-------------+--------------------+\n",
            "|Survived|Pclass| Age|SibSp|ParCh|   Fare|    SexVector|            features|\n",
            "+--------+------+----+-----+-----+-------+-------------+--------------------+\n",
            "|       0|     1| 2.0|    1|    2| 151.55|    (1,[],[])|[1.0,2.0,1.0,2.0,...|\n",
            "|       0|     1|50.0|    0|    0|28.7125|    (1,[],[])|[1.0,50.0,0.0,0.0...|\n",
            "|       0|     1|18.0|    1|    0|  108.9|(1,[0],[1.0])|[1.0,18.0,1.0,0.0...|\n",
            "+--------+------+----+-----+-----+-------+-------------+--------------------+\n",
            "only showing top 3 rows\n",
            "\n"
          ]
        }
      ],
      "source": [
        "titanic_train_vec.show(3)"
      ]
    },
    {
      "cell_type": "code",
      "execution_count": null,
      "metadata": {
        "id": "maGPDHcGAvDx"
      },
      "outputs": [],
      "source": [
        "from pyspark.ml.classification import LogisticRegression\n",
        "\n",
        "lr = LogisticRegression(regParam=0.01, elasticNetParam=0.5, labelCol='Survived')"
      ]
    },
    {
      "cell_type": "code",
      "execution_count": null,
      "metadata": {
        "id": "ZClI4hbiAvDy"
      },
      "outputs": [],
      "source": [
        "lrModel = lr.fit(titanic_train_vec)"
      ]
    },
    {
      "cell_type": "code",
      "execution_count": null,
      "metadata": {
        "id": "gjl8hhYVAvDz",
        "colab": {
          "base_uri": "https://localhost:8080/"
        },
        "outputId": "da05b41a-2ab9-42fb-d0b3-ec9860784d12"
      },
      "outputs": [
        {
          "output_type": "execute_result",
          "data": {
            "text/plain": [
              "DenseVector([-1.0265, -0.0344, -0.273, -0.0256, 0.0038, -2.4543])"
            ]
          },
          "metadata": {},
          "execution_count": 67
        }
      ],
      "source": [
        "lrModel.coefficients"
      ]
    },
    {
      "cell_type": "code",
      "execution_count": null,
      "metadata": {
        "id": "Se9ACaerAvDz",
        "colab": {
          "base_uri": "https://localhost:8080/"
        },
        "outputId": "aadf5002-2732-449c-fb35-9589ab485959"
      },
      "outputs": [
        {
          "output_type": "execute_result",
          "data": {
            "text/plain": [
              "4.344234058586"
            ]
          },
          "metadata": {},
          "execution_count": 68
        }
      ],
      "source": [
        "lrModel.intercept"
      ]
    },
    {
      "cell_type": "code",
      "execution_count": null,
      "metadata": {
        "id": "ccHmSsAEAvDz"
      },
      "outputs": [],
      "source": [
        "trainingSummary = lrModel.summary"
      ]
    },
    {
      "cell_type": "code",
      "execution_count": null,
      "metadata": {
        "id": "WIEflP1qAvDz",
        "colab": {
          "base_uri": "https://localhost:8080/"
        },
        "outputId": "0b2c9312-2c5f-4453-cd48-8cbdd220a811"
      },
      "outputs": [
        {
          "output_type": "execute_result",
          "data": {
            "text/plain": [
              "0.7964601769911505"
            ]
          },
          "metadata": {},
          "execution_count": 70
        }
      ],
      "source": [
        "trainingSummary.accuracy"
      ]
    },
    {
      "cell_type": "code",
      "execution_count": null,
      "metadata": {
        "id": "r5bShE-VAvDz",
        "outputId": "628e2566-e7b6-4fa4-f73d-3c716c20e88c",
        "colab": {
          "base_uri": "https://localhost:8080/"
        }
      },
      "outputs": [
        {
          "output_type": "stream",
          "name": "stdout",
          "text": [
            "+--------------------+--------------------+\n",
            "|                 FPR|                 TPR|\n",
            "+--------------------+--------------------+\n",
            "|                 0.0|                 0.0|\n",
            "|                 0.0|0.003891050583657...|\n",
            "|                 0.0|0.007782101167315175|\n",
            "|0.002375296912114...|0.007782101167315175|\n",
            "|0.002375296912114...|0.011673151750972763|\n",
            "|0.002375296912114...| 0.01556420233463035|\n",
            "|0.002375296912114...|0.019455252918287938|\n",
            "|0.002375296912114...|0.023346303501945526|\n",
            "|0.002375296912114...|0.027237354085603113|\n",
            "|0.002375296912114...|  0.0311284046692607|\n",
            "|0.002375296912114...| 0.03501945525291829|\n",
            "|0.002375296912114...|0.038910505836575876|\n",
            "|0.002375296912114...|0.042801556420233464|\n",
            "|0.002375296912114...| 0.04669260700389105|\n",
            "|0.002375296912114...| 0.05058365758754864|\n",
            "|0.002375296912114...|0.054474708171206226|\n",
            "|0.002375296912114...|0.058365758754863814|\n",
            "|0.002375296912114...|  0.0622568093385214|\n",
            "|0.002375296912114...| 0.06614785992217899|\n",
            "|0.002375296912114...| 0.07392996108949416|\n",
            "+--------------------+--------------------+\n",
            "only showing top 20 rows\n",
            "\n"
          ]
        },
        {
          "output_type": "stream",
          "name": "stderr",
          "text": [
            "/content/spark-3.2.1-bin-hadoop3.2/python/pyspark/sql/context.py:127: FutureWarning: Deprecated in 3.0.0. Use SparkSession.builder.getOrCreate() instead.\n",
            "  FutureWarning\n"
          ]
        }
      ],
      "source": [
        "trainingSummary.roc.show()"
      ]
    },
    {
      "cell_type": "code",
      "execution_count": null,
      "metadata": {
        "id": "WHO8NnTnAvDz",
        "outputId": "98c0ffd5-830f-4516-8f24-5db60fa919f6",
        "colab": {
          "base_uri": "https://localhost:8080/",
          "height": 350
        }
      },
      "outputs": [
        {
          "output_type": "stream",
          "name": "stderr",
          "text": [
            "/content/spark-3.2.1-bin-hadoop3.2/python/pyspark/sql/context.py:127: FutureWarning: Deprecated in 3.0.0. Use SparkSession.builder.getOrCreate() instead.\n",
            "  FutureWarning\n"
          ]
        },
        {
          "output_type": "display_data",
          "data": {
            "text/plain": [
              "<Figure size 432x288 with 1 Axes>"
            ],
            "image/png": "[encoded data removed]"
          },
          "metadata": {
            "needs_background": "light"
          }
        },
        {
          "output_type": "stream",
          "name": "stdout",
          "text": [
            "Training set areaUnderROC: 0.8630784587373036\n"
          ]
        }
      ],
      "source": [
        "from matplotlib import pyplot as plt\n",
        "\n",
        "roc = trainingSummary.roc.toPandas()\n",
        "plt.plot(roc['FPR'],roc['TPR'])\n",
        "plt.ylabel('False Positive Rate')\n",
        "plt.xlabel('True Positive Rate')\n",
        "plt.title('ROC Curve')\n",
        "plt.show()\n",
        "print('Training set areaUnderROC: ' + str(trainingSummary.areaUnderROC))"
      ]
    },
    {
      "cell_type": "markdown",
      "metadata": {
        "id": "iDvIOg-6AvDz"
      },
      "source": [
        "![image.png](data:image/png;base64,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)"
      ]
    },
    {
      "cell_type": "code",
      "execution_count": null,
      "metadata": {
        "id": "OrMTikXIAvDz",
        "outputId": "216941f2-5ba7-4d73-e697-7f3cbae79f8b",
        "colab": {
          "base_uri": "https://localhost:8080/"
        }
      },
      "outputs": [
        {
          "output_type": "execute_result",
          "data": {
            "text/plain": [
              "0.5"
            ]
          },
          "metadata": {},
          "execution_count": 73
        }
      ],
      "source": [
        "lrModel.getThreshold()"
      ]
    },
    {
      "cell_type": "code",
      "execution_count": null,
      "metadata": {
        "id": "qZpjpg4JAvDz",
        "outputId": "e4389252-4c68-4b3f-c691-df8f23ef00fa",
        "colab": {
          "base_uri": "https://localhost:8080/"
        }
      },
      "outputs": [
        {
          "output_type": "stream",
          "name": "stdout",
          "text": [
            "+--------------------+------------------+\n",
            "|              recall|         precision|\n",
            "+--------------------+------------------+\n",
            "|                 0.0|               1.0|\n",
            "|0.003891050583657...|               1.0|\n",
            "|0.007782101167315175|               1.0|\n",
            "|0.007782101167315175|0.6666666666666666|\n",
            "|0.011673151750972763|              0.75|\n",
            "| 0.01556420233463035|               0.8|\n",
            "|0.019455252918287938|0.8333333333333334|\n",
            "|0.023346303501945526|0.8571428571428571|\n",
            "|0.027237354085603113|             0.875|\n",
            "|  0.0311284046692607|0.8888888888888888|\n",
            "| 0.03501945525291829|               0.9|\n",
            "|0.038910505836575876|0.9090909090909091|\n",
            "|0.042801556420233464|0.9166666666666666|\n",
            "| 0.04669260700389105|0.9230769230769231|\n",
            "| 0.05058365758754864|0.9285714285714286|\n",
            "|0.054474708171206226|0.9333333333333333|\n",
            "|0.058365758754863814|            0.9375|\n",
            "|  0.0622568093385214|0.9411764705882353|\n",
            "| 0.06614785992217899|0.9444444444444444|\n",
            "| 0.07392996108949416|              0.95|\n",
            "+--------------------+------------------+\n",
            "only showing top 20 rows\n",
            "\n"
          ]
        },
        {
          "output_type": "stream",
          "name": "stderr",
          "text": [
            "/content/spark-3.2.1-bin-hadoop3.2/python/pyspark/sql/context.py:127: FutureWarning: Deprecated in 3.0.0. Use SparkSession.builder.getOrCreate() instead.\n",
            "  FutureWarning\n"
          ]
        }
      ],
      "source": [
        "trainingSummary.pr.show()"
      ]
    },
    {
      "cell_type": "code",
      "execution_count": null,
      "metadata": {
        "id": "gs-8oxSqAvDz",
        "outputId": "b9047266-1a1a-46dd-dd24-8862f39faf71",
        "colab": {
          "base_uri": "https://localhost:8080/",
          "height": 316
        }
      },
      "outputs": [
        {
          "output_type": "stream",
          "name": "stderr",
          "text": [
            "/content/spark-3.2.1-bin-hadoop3.2/python/pyspark/sql/context.py:127: FutureWarning: Deprecated in 3.0.0. Use SparkSession.builder.getOrCreate() instead.\n",
            "  FutureWarning\n"
          ]
        },
        {
          "output_type": "display_data",
          "data": {
            "text/plain": [
              "<Figure size 432x288 with 1 Axes>"
            ],
            "image/png": "[encoded data removed]"
          },
          "metadata": {
            "needs_background": "light"
          }
        }
      ],
      "source": [
        "pr = trainingSummary.pr.toPandas()\n",
        "plt.plot(pr['recall'],pr['precision'])\n",
        "plt.ylabel('Precision')\n",
        "plt.xlabel('Recall')\n",
        "plt.show()"
      ]
    },
    {
      "cell_type": "markdown",
      "metadata": {
        "id": "sjp6guwXAvDz"
      },
      "source": [
        "[The Relationship Between Precision-Recall and ROC Curves](<http://pages.cs.wisc.edu/~jdavis/davisgoadrichcamera2.pdf>)"
      ]
    },
    {
      "cell_type": "code",
      "execution_count": null,
      "metadata": {
        "id": "lPQooaVpAvDz"
      },
      "outputs": [],
      "source": [
        "prediction = lrModel.transform(titanic_train_vec)"
      ]
    },
    {
      "cell_type": "code",
      "execution_count": null,
      "metadata": {
        "id": "bhbLXuVYAvDz",
        "outputId": "47df37de-6920-48f3-9b1b-fcd2d0bcd1b4",
        "colab": {
          "base_uri": "https://localhost:8080/"
        }
      },
      "outputs": [
        {
          "output_type": "stream",
          "name": "stdout",
          "text": [
            "+--------+------+----+-----+-----+--------+-------------+--------------------+--------------------+--------------------+----------+\n",
            "|Survived|Pclass| Age|SibSp|ParCh|    Fare|    SexVector|            features|       rawPrediction|         probability|prediction|\n",
            "+--------+------+----+-----+-----+--------+-------------+--------------------+--------------------+--------------------+----------+\n",
            "|       0|     1| 2.0|    1|    2|  151.55|    (1,[],[])|[1.0,2.0,1.0,2.0,...|[-3.5011398380119...|[0.02927981630729...|       1.0|\n",
            "|       0|     1|50.0|    0|    0| 28.7125|    (1,[],[])|[1.0,50.0,0.0,0.0...|[-1.7061212661630...|[0.15366748243312...|       1.0|\n",
            "|       0|     1|18.0|    1|    0|   108.9|(1,[0],[1.0])|[1.0,18.0,1.0,0.0...|[-0.3851322602082...|[0.40488965710381...|       1.0|\n",
            "|       0|     1|19.0|    1|    0|    53.1|(1,[0],[1.0])|[1.0,19.0,1.0,0.0...|[-0.1385134664321...|[0.46542689230494...|       1.0|\n",
            "|       0|     1|21.0|    0|    1| 77.2875|(1,[0],[1.0])|[1.0,21.0,0.0,1.0...|[-0.4090600792452...|[0.39913751791578...|       1.0|\n",
            "|       0|     1|22.0|    0|    0|135.6333|(1,[0],[1.0])|[1.0,22.0,0.0,0.0...|[-0.6220966361252...|[0.34930475458488...|       1.0|\n",
            "|       0|     1|24.0|    0|    0|    79.2|(1,[0],[1.0])|[1.0,24.0,0.0,0.0...|[-0.3386531856051...|[0.41613667143420...|       1.0|\n",
            "|       0|     1|24.0|    0|    1|247.5208|(1,[0],[1.0])|[1.0,24.0,0.0,1.0...|[-0.9531936194959...|[0.27824301306212...|       1.0|\n",
            "|       0|     1|27.0|    0|    2|   211.5|(1,[0],[1.0])|[1.0,27.0,0.0,2.0...|[-0.6873919969576...|[0.33461348740956...|       1.0|\n",
            "|       0|     1|28.0|    0|    0|    31.0|(1,[0],[1.0])|[1.0,28.0,0.0,0.0...|[-0.0176877107474...|[0.49557818759475...|       1.0|\n",
            "|       0|     1|28.0|    1|    0| 82.1708|(1,[0],[1.0])|[1.0,28.0,1.0,0.0...|[0.06067927265080...|[0.51516516530269...|       0.0|\n",
            "|       0|     1|29.0|    0|    0|    30.0|(1,[0],[1.0])|[1.0,29.0,0.0,0.0...|[0.02053147403709...|[0.50513268820714...|       0.0|\n",
            "|       0|     1|29.0|    1|    0|    66.6|(1,[0],[1.0])|[1.0,29.0,1.0,0.0...|[0.15430993595167...|[0.53850111666414...|       0.0|\n",
            "|       0|     1|30.0|    0|    0|     0.0|(1,[0],[1.0])|[1.0,30.0,0.0,0.0...|[0.16903512343396...|[0.54215844630200...|       0.0|\n",
            "|       0|     1|30.0|    0|    0| 27.7208|(1,[0],[1.0])|[1.0,30.0,0.0,0.0...|[0.06361534458482...|[0.51589847486365...|       0.0|\n",
            "|       0|     1|30.0|    0|    0|   27.75|(1,[0],[1.0])|[1.0,30.0,0.0,0.0...|[0.06350429953769...|[0.51587074162085...|       0.0|\n",
            "|       0|     1|31.0|    0|    0| 50.4958|(1,[0],[1.0])|[1.0,31.0,0.0,0.0...|[0.01142028295013...|[0.50285503970739...|       0.0|\n",
            "|       0|     1|31.0|    1|    0|    52.0|(1,[0],[1.0])|[1.0,31.0,1.0,0.0...|[0.27866500393853...|[0.56921890152767...|       0.0|\n",
            "|       0|     1|33.0|    0|    0|     5.0|(1,[0],[1.0])|[1.0,33.0,0.0,0.0...|[0.25326937720490...|[0.56298104178280...|       0.0|\n",
            "|       0|     1|36.0|    0|    0|  40.125|(1,[0],[1.0])|[1.0,36.0,0.0,0.0...|[0.22294088971909...|[0.55550551509229...|       0.0|\n",
            "+--------+------+----+-----+-----+--------+-------------+--------------------+--------------------+--------------------+----------+\n",
            "only showing top 20 rows\n",
            "\n"
          ]
        }
      ],
      "source": [
        "prediction.show()"
      ]
    },
    {
      "cell_type": "markdown",
      "metadata": {
        "id": "AanHy7v7AvD0"
      },
      "source": [
        "<https://spark.apache.org/docs/3.1.1/ml-tuning.html#model-selection-aka-hyperparameter-tuning>"
      ]
    },
    {
      "cell_type": "code",
      "execution_count": null,
      "metadata": {
        "id": "5li3CiVQAvD0",
        "colab": {
          "base_uri": "https://localhost:8080/"
        },
        "outputId": "98b234dc-c402-47e6-8159-ede0430ebbad"
      },
      "outputs": [
        {
          "output_type": "execute_result",
          "data": {
            "text/plain": [
              "0.7747164893666183"
            ]
          },
          "metadata": {},
          "execution_count": 78
        }
      ],
      "source": [
        "from pyspark.ml.evaluation import BinaryClassificationEvaluator\n",
        "\n",
        "evaluator = BinaryClassificationEvaluator(labelCol=\"Survived\", rawPredictionCol=\"prediction\", metricName=\"areaUnderROC\")\n",
        "evaluator.evaluate(prediction)"
      ]
    },
    {
      "cell_type": "markdown",
      "metadata": {
        "id": "0glHXjjLAvD1"
      },
      "source": [
        "# Полезные возможности "
      ]
    },
    {
      "cell_type": "code",
      "execution_count": null,
      "metadata": {
        "id": "lOIKZPRSAvD1",
        "colab": {
          "base_uri": "https://localhost:8080/"
        },
        "outputId": "ce99a923-35d6-467d-d3e7-7496ce795a0a"
      },
      "outputs": [
        {
          "output_type": "stream",
          "name": "stdout",
          "text": [
            "+---+---+-----+-----+\n",
            "|  a|  b|out_a|out_b|\n",
            "+---+---+-----+-----+\n",
            "|1.0|NaN|  1.0|  4.0|\n",
            "|2.0|NaN|  2.0|  4.0|\n",
            "|NaN|3.0|  3.0|  3.0|\n",
            "|4.0|4.0|  4.0|  4.0|\n",
            "|5.0|5.0|  5.0|  5.0|\n",
            "+---+---+-----+-----+\n",
            "\n"
          ]
        }
      ],
      "source": [
        "from pyspark.ml.feature import Imputer\n",
        "\n",
        "df = spark.createDataFrame([\n",
        "    (1.0, float(\"nan\")),\n",
        "    (2.0, float(\"nan\")),\n",
        "    (float(\"nan\"), 3.0),\n",
        "    (4.0, 4.0),\n",
        "    (5.0, 5.0)\n",
        "], [\"a\", \"b\"])\n",
        "\n",
        "imputer = Imputer(inputCols=[\"a\", \"b\"], outputCols=[\"out_a\", \"out_b\"])\n",
        "model = imputer.fit(df)\n",
        "\n",
        "model.transform(df).show()"
      ]
    },
    {
      "cell_type": "code",
      "execution_count": null,
      "metadata": {
        "id": "GhepSBwdAvD1",
        "outputId": "1b982d7a-6bfc-488d-e75f-61eb5f77d8cc",
        "colab": {
          "base_uri": "https://localhost:8080/"
        }
      },
      "outputs": [
        {
          "output_type": "stream",
          "name": "stdout",
          "text": [
            "+--------------------+-------------+\n",
            "|        userFeatures|     features|\n",
            "+--------------------+-------------+\n",
            "|(3,[0,1],[-2.0,2.3])|(1,[0],[2.3])|\n",
            "|      [-2.0,2.3,0.0]|        [2.3]|\n",
            "+--------------------+-------------+\n",
            "\n"
          ]
        }
      ],
      "source": [
        "from pyspark.ml.feature import VectorSlicer\n",
        "from pyspark.ml.linalg import Vectors\n",
        "from pyspark.sql.types import Row\n",
        "\n",
        "df = spark.createDataFrame([\n",
        "    Row(userFeatures=Vectors.sparse(3, {0: -2.0, 1: 2.3})),\n",
        "    Row(userFeatures=Vectors.dense([-2.0, 2.3, 0.0]))\n",
        "])\n",
        "\n",
        "slicer = VectorSlicer(inputCol=\"userFeatures\", outputCol=\"features\", indices=[1])\n",
        "\n",
        "output = slicer.transform(df)\n",
        "\n",
        "output.select(\"userFeatures\", \"features\").show()"
      ]
    },
    {
      "cell_type": "markdown",
      "metadata": {
        "id": "aVYvlO2VAvD1"
      },
      "source": [
        "# Задание\n",
        "1. Собрать все этапы из раздела \"Классификация\" в `Pipeline`\n",
        "2. Применить для классификации данных титаника RandomForest\n",
        "3. Найти и сравнить F1-score для логистической регрессии (то, что есть сейчас) и случанйого леса (задание 2)"
      ]
    },
    {
      "cell_type": "code",
      "source": [
        "!wget -c https://web.stanford.edu/class/archive/cs/cs109/cs109.1166/stuff/titanic.csv"
      ],
      "metadata": {
        "colab": {
          "base_uri": "https://localhost:8080/"
        },
        "id": "qpP0cYH4GAp-",
        "outputId": "2adbb6cb-3202-4351-f303-1ffa5a375095"
      },
      "execution_count": null,
      "outputs": [
        {
          "output_type": "stream",
          "name": "stdout",
          "text": [
            "--2022-05-14 08:41:09--  https://web.stanford.edu/class/archive/cs/cs109/cs109.1166/stuff/titanic.csv\n",
            "Resolving web.stanford.edu (web.stanford.edu)... 171.67.215.200, 2607:f6d0:0:925a::ab43:d7c8\n",
            "Connecting to web.stanford.edu (web.stanford.edu)|171.67.215.200|:443... connected.\n",
            "HTTP request sent, awaiting response... 416 Requested Range Not Satisfiable\n",
            "\n",
            "    The file is already fully retrieved; nothing to do.\n",
            "\n"
          ]
        }
      ]
    },
    {
      "cell_type": "code",
      "source": [
        "titanic = spark.read.csv('/content/titanic.csv', header=True, inferSchema=True)\n",
        "titanic = titanic.drop('Name')\n",
        "titanic = titanic\\\n",
        "  .withColumnRenamed('Siblings/Spouses Aboard', 'SibSp')\\\n",
        "  .withColumnRenamed('Parents/Children Aboard', 'ParCh')\n",
        "titanic_train, titanic_test = titanic.randomSplit([0.75, 0.25], seed=13)\n",
        "titanic.show(5)"
      ],
      "metadata": {
        "colab": {
          "base_uri": "https://localhost:8080/"
        },
        "id": "4yBcpyBWGAnC",
        "outputId": "e7d247bd-131f-425c-b9bb-4c097c4d874a"
      },
      "execution_count": null,
      "outputs": [
        {
          "output_type": "stream",
          "name": "stdout",
          "text": [
            "+--------+------+------+----+-----+-----+-------+\n",
            "|Survived|Pclass|   Sex| Age|SibSp|ParCh|   Fare|\n",
            "+--------+------+------+----+-----+-----+-------+\n",
            "|       0|     3|  male|22.0|    1|    0|   7.25|\n",
            "|       1|     1|female|38.0|    1|    0|71.2833|\n",
            "|       1|     3|female|26.0|    0|    0|  7.925|\n",
            "|       1|     1|female|35.0|    1|    0|   53.1|\n",
            "|       0|     3|  male|35.0|    0|    0|   8.05|\n",
            "+--------+------+------+----+-----+-----+-------+\n",
            "only showing top 5 rows\n",
            "\n"
          ]
        }
      ]
    },
    {
      "cell_type": "code",
      "source": [
        "from pyspark.ml.feature import StringIndexer\n",
        "from pyspark.ml.feature import OneHotEncoder\n",
        "from pyspark.ml.feature import SQLTransformer\n",
        "\n",
        "indexer = StringIndexer(inputCol=\"Sex\", outputCol=\"SexIndexer\")\n",
        "encoder = OneHotEncoder(inputCol=\"SexIndexer\", outputCol=\"SexVector\")\n",
        "\n",
        "\n",
        "\n",
        "sql = SQLTransformer(statement=\"SELECT Survived, Pclass, Age, SibSp, ParCh, Fare, SexVector FROM __THIS__\")\n",
        "\n",
        "\n",
        "\n",
        "\n"
      ],
      "metadata": {
        "id": "jZdwiwVUGAka"
      },
      "execution_count": null,
      "outputs": []
    },
    {
      "cell_type": "code",
      "source": [
        "from pyspark.ml import Pipeline\n",
        "\n",
        "pipeline = Pipeline(stages=[indexer, encoder, sql])\n",
        "\n",
        "model = pipeline.fit(titanic_train)\n",
        "model.transform(titanic_train).show()\n"
      ],
      "metadata": {
        "colab": {
          "base_uri": "https://localhost:8080/"
        },
        "id": "Pb_h2MHSGAhk",
        "outputId": "5f7d7111-9c33-41ce-b9f8-0816bf117392"
      },
      "execution_count": null,
      "outputs": [
        {
          "output_type": "stream",
          "name": "stdout",
          "text": [
            "+--------+------+----+-----+-----+--------+-------------+\n",
            "|Survived|Pclass| Age|SibSp|ParCh|    Fare|    SexVector|\n",
            "+--------+------+----+-----+-----+--------+-------------+\n",
            "|       0|     1| 2.0|    1|    2|  151.55|    (1,[],[])|\n",
            "|       0|     1|50.0|    0|    0| 28.7125|    (1,[],[])|\n",
            "|       0|     1|18.0|    1|    0|   108.9|(1,[0],[1.0])|\n",
            "|       0|     1|19.0|    1|    0|    53.1|(1,[0],[1.0])|\n",
            "|       0|     1|21.0|    0|    1| 77.2875|(1,[0],[1.0])|\n",
            "|       0|     1|22.0|    0|    0|135.6333|(1,[0],[1.0])|\n",
            "|       0|     1|24.0|    0|    0|    79.2|(1,[0],[1.0])|\n",
            "|       0|     1|24.0|    0|    1|247.5208|(1,[0],[1.0])|\n",
            "|       0|     1|27.0|    0|    2|   211.5|(1,[0],[1.0])|\n",
            "|       0|     1|28.0|    0|    0|    31.0|(1,[0],[1.0])|\n",
            "|       0|     1|28.0|    1|    0| 82.1708|(1,[0],[1.0])|\n",
            "|       0|     1|29.0|    0|    0|    30.0|(1,[0],[1.0])|\n",
            "|       0|     1|29.0|    1|    0|    66.6|(1,[0],[1.0])|\n",
            "|       0|     1|30.0|    0|    0|     0.0|(1,[0],[1.0])|\n",
            "|       0|     1|30.0|    0|    0| 27.7208|(1,[0],[1.0])|\n",
            "|       0|     1|30.0|    0|    0|   27.75|(1,[0],[1.0])|\n",
            "|       0|     1|31.0|    0|    0| 50.4958|(1,[0],[1.0])|\n",
            "|       0|     1|31.0|    1|    0|    52.0|(1,[0],[1.0])|\n",
            "|       0|     1|33.0|    0|    0|     5.0|(1,[0],[1.0])|\n",
            "|       0|     1|36.0|    0|    0|  40.125|(1,[0],[1.0])|\n",
            "+--------+------+----+-----+-----+--------+-------------+\n",
            "only showing top 20 rows\n",
            "\n"
          ]
        }
      ]
    },
    {
      "cell_type": "code",
      "source": [
        ""
      ],
      "metadata": {
        "id": "quQOCTFzGAeY"
      },
      "execution_count": null,
      "outputs": []
    },
    {
      "cell_type": "code",
      "source": [
        ""
      ],
      "metadata": {
        "id": "giioWkj_GAbL"
      },
      "execution_count": null,
      "outputs": []
    }
  ],
  "metadata": {
    "colab": {
      "collapsed_sections": [],
      "name": "COPY_11.ipynb\"",
      "provenance": []
    },
    "kernelspec": {
      "display_name": "Python 3",
      "name": "python3"
    },
    "language_info": {
      "name": "python"
    }
  },
  "nbformat": 4,
  "nbformat_minor": 0
}