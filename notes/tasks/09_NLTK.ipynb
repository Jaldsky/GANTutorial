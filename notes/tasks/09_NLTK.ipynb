{
  "cells": [
    {
      "cell_type": "markdown",
      "metadata": {
        "id": "soLYPcM3luCc"
      },
      "source": [
        "# Подготовка"
      ]
    },
    {
      "cell_type": "code",
      "execution_count": null,
      "metadata": {
        "id": "2N-c8jkfluCh"
      },
      "outputs": [],
      "source": [
        "pip install 'spacy>=3.0.0'"
      ]
    },
    {
      "cell_type": "code",
      "execution_count": null,
      "metadata": {
        "id": "Dezur07AluCi"
      },
      "outputs": [],
      "source": [
        "import nltk\n",
        "nltk.download(['gutenberg'])"
      ]
    },
    {
      "cell_type": "code",
      "execution_count": null,
      "metadata": {
        "id": "kuZUyR8SluCi"
      },
      "outputs": [],
      "source": [
        "ls /root/nltk_data/corpora/gutenberg"
      ]
    },
    {
      "cell_type": "code",
      "execution_count": null,
      "metadata": {
        "id": "UxrkpAEHluCj"
      },
      "outputs": [],
      "source": [
        "import re\n",
        "import nltk\n",
        "import math\n",
        "import numpy as np\n",
        "import pandas as pd"
      ]
    },
    {
      "cell_type": "markdown",
      "metadata": {
        "id": "adnJJhDeluCj"
      },
      "source": [
        "# NLTK"
      ]
    },
    {
      "cell_type": "markdown",
      "metadata": {
        "id": "EVF-tbBHluCk"
      },
      "source": [
        "## Токенизация"
      ]
    },
    {
      "cell_type": "code",
      "execution_count": null,
      "metadata": {
        "id": "J4JyGGKUluCk"
      },
      "outputs": [],
      "source": [
        "some_text = \"\"\"We produce about two million dollars for each hour we work.  The\n",
        "fifty hours is one conservative estimate for how long it we take\n",
        "to get any etext selected, entered, proofread, edited, copyright\n",
        "searched and analyzed, the copyright letters written, etc.  This\n",
        "projected audience is one hundred million readers.  If our value\n",
        "per text is nominally estimated at one dollar, then we produce 2\n",
        "million dollars per hour this year we, will have to do four text\n",
        "files per month:  thus upping our productivity from one million.\n",
        "The Goal of Project Gutenberg is to Give Away One Trillion Etext\n",
        "Files by the December 31, 2001.  [10,000 x 100,000,000=Trillion]\n",
        "This is ten thousand titles each to one hundred million readers,\n",
        "which is 10% of the expected number of computer users by the end\n",
        "of the year 2001.\"\"\""
      ]
    },
    {
      "cell_type": "code",
      "execution_count": null,
      "metadata": {
        "id": "zs-rOZfrluCl"
      },
      "outputs": [],
      "source": [
        "nltk.download('punkt')"
      ]
    },
    {
      "cell_type": "code",
      "execution_count": null,
      "metadata": {
        "id": "lOtp23fuluCm"
      },
      "outputs": [],
      "source": [
        "sentences = nltk.sent_tokenize(some_text)\n",
        "sentences"
      ]
    },
    {
      "cell_type": "code",
      "execution_count": null,
      "metadata": {
        "id": "tKPMxxWqluCn"
      },
      "outputs": [],
      "source": [
        "words = [nltk.word_tokenize(s) for s in sentences]\n",
        "words"
      ]
    },
    {
      "cell_type": "markdown",
      "metadata": {
        "id": "EEbS2XH-luCo"
      },
      "source": [
        "## Лемматизация и стемминг слова"
      ]
    },
    {
      "cell_type": "code",
      "execution_count": null,
      "metadata": {
        "id": "XLNFAxNOluCp"
      },
      "outputs": [],
      "source": [
        "nltk.download('wordnet')"
      ]
    },
    {
      "cell_type": "code",
      "execution_count": null,
      "metadata": {
        "id": "JzeCUIFtluCq"
      },
      "outputs": [],
      "source": [
        "!python -m spacy download ru_core_news_sm"
      ]
    },
    {
      "cell_type": "code",
      "execution_count": null,
      "metadata": {
        "id": "IchC_l8fluCq"
      },
      "outputs": [],
      "source": [
        "from nltk.stem import PorterStemmer, WordNetLemmatizer, SnowballStemmer\n",
        "from nltk.corpus import wordnet"
      ]
    },
    {
      "cell_type": "code",
      "execution_count": null,
      "metadata": {
        "id": "SI0dodAGluCr"
      },
      "outputs": [],
      "source": [
        "stemmer = PorterStemmer()\n",
        "snowball_en = SnowballStemmer('english')\n",
        "lemmatizer = WordNetLemmatizer()"
      ]
    },
    {
      "cell_type": "code",
      "execution_count": null,
      "metadata": {
        "id": "Xt9n0kqAluCs"
      },
      "outputs": [],
      "source": [
        "word = 'dogs'\n",
        "print(stemmer.stem(word))\n",
        "print(snowball_en.stem(word))\n",
        "print(lemmatizer.lemmatize(word))"
      ]
    },
    {
      "cell_type": "code",
      "execution_count": null,
      "metadata": {
        "id": "H_m7Gk5HluCs"
      },
      "outputs": [],
      "source": [
        "word = 'walked'\n",
        "print(stemmer.stem(word))\n",
        "print(snowball_en.stem(word))\n",
        "print(lemmatizer.lemmatize(word, wordnet.VERB))"
      ]
    },
    {
      "cell_type": "code",
      "execution_count": null,
      "metadata": {
        "id": "pTHJ29OEluCt"
      },
      "outputs": [],
      "source": [
        "word = 'drove'\n",
        "print(stemmer.stem(word))\n",
        "print(snowball_en.stem(word))\n",
        "print(lemmatizer.lemmatize(word, wordnet.VERB))"
      ]
    },
    {
      "cell_type": "code",
      "execution_count": null,
      "metadata": {
        "id": "8WWAQjTcluCt"
      },
      "outputs": [],
      "source": [
        "word = 'seen'\n",
        "print(stemmer.stem(word))\n",
        "print(snowball_en.stem(word))\n",
        "print(lemmatizer.lemmatize(word, wordnet.VERB))"
      ]
    },
    {
      "cell_type": "code",
      "execution_count": null,
      "metadata": {
        "id": "SZOjR_b8luCt"
      },
      "outputs": [],
      "source": [
        "print(stemmer.stem(word))\n",
        "print(snowball_en.stem(word))\n",
        "print(lemmatizer.lemmatize(word, wordnet.VERB))"
      ]
    },
    {
      "cell_type": "code",
      "execution_count": null,
      "metadata": {
        "id": "nGiZjau3luCu"
      },
      "outputs": [],
      "source": [
        "import spacy\n",
        "snowball_ru = SnowballStemmer('russian')\n",
        "nlp = spacy.load(\"ru_core_news_sm\")"
      ]
    },
    {
      "cell_type": "code",
      "execution_count": null,
      "metadata": {
        "id": "9EY0i8hvluCu"
      },
      "outputs": [],
      "source": [
        "word = 'собаки'\n",
        "print(snowball_ru.stem(word))\n",
        "for token in nlp(word):\n",
        "  print(nlp.get_pipe(\"lemmatizer\").lookup_lemmatize(token))\n",
        "  print(nlp.get_pipe(\"lemmatizer\").rule_lemmatize(token))"
      ]
    },
    {
      "cell_type": "code",
      "execution_count": null,
      "metadata": {
        "id": "iAKG3YYJluCv"
      },
      "outputs": [],
      "source": [
        "word = 'собаками'\n",
        "print(snowball_ru.stem(word))\n",
        "for token in nlp(word):\n",
        "  print(nlp.get_pipe(\"lemmatizer\").lookup_lemmatize(token))\n",
        "  print(nlp.get_pipe(\"lemmatizer\").rule_lemmatize(token))"
      ]
    },
    {
      "cell_type": "code",
      "execution_count": null,
      "metadata": {
        "id": "R6MZyrk4luCv"
      },
      "outputs": [],
      "source": [
        "word = 'ходил'\n",
        "print(snowball_ru.stem(word))\n",
        "for token in nlp(word):\n",
        "  print(nlp.get_pipe(\"lemmatizer\").lookup_lemmatize(token))\n",
        "  print(nlp.get_pipe(\"lemmatizer\").rule_lemmatize(token))"
      ]
    },
    {
      "cell_type": "code",
      "execution_count": null,
      "metadata": {
        "id": "XXYgYq5MluCv"
      },
      "outputs": [],
      "source": [
        "word = 'прохаживался'\n",
        "print(snowball_ru.stem(word))\n",
        "for token in nlp(word):\n",
        "  print(nlp.get_pipe(\"lemmatizer\").lookup_lemmatize(token))\n",
        "  print(nlp.get_pipe(\"lemmatizer\").rule_lemmatize(token))"
      ]
    },
    {
      "cell_type": "markdown",
      "metadata": {
        "id": "2OGnyVn9luCw"
      },
      "source": [
        "## Стоп-слова"
      ]
    },
    {
      "cell_type": "code",
      "execution_count": null,
      "metadata": {
        "id": "Wner_s_hluCw"
      },
      "outputs": [],
      "source": [
        "nltk.download('stopwords')"
      ]
    },
    {
      "cell_type": "code",
      "execution_count": null,
      "metadata": {
        "id": "P1HhBbPCluCw"
      },
      "outputs": [],
      "source": [
        "from nltk.corpus import stopwords\n",
        "\n",
        "stop_words = set(stopwords.words(\"english\"))\n",
        "without_stop_words = [word for word in words[0] if not word in stop_words]\n",
        "words[0], without_stop_words"
      ]
    },
    {
      "cell_type": "code",
      "execution_count": null,
      "metadata": {
        "id": "xaBNOwIpluCw"
      },
      "outputs": [],
      "source": [
        "print(stopwords.raw('russian')[:30])"
      ]
    },
    {
      "cell_type": "markdown",
      "metadata": {
        "id": "65FxUxYnluCx"
      },
      "source": [
        "## Мешок слов"
      ]
    },
    {
      "cell_type": "code",
      "execution_count": null,
      "metadata": {
        "id": "WnrbruFiluCx"
      },
      "outputs": [],
      "source": [
        "reviews = [\n",
        "           'This pasta is very tasty and affordable.',\n",
        "           'This pasta is not tasty and is affordable.',\n",
        "           'This pasta is delicious and cheap.',\n",
        "           'Pasta is tasty and pasta tastes good.',\n",
        "]"
      ]
    },
    {
      "cell_type": "code",
      "execution_count": null,
      "metadata": {
        "id": "ldG2cNt-luCy"
      },
      "outputs": [],
      "source": [
        "from itertools import chain\n",
        "\n",
        "words = chain(*[nltk.word_tokenize(r) for r in reviews])\n",
        "unique_words = set([w.lower() for w in words])\n",
        "unique_words, len(unique_words)"
      ]
    },
    {
      "cell_type": "code",
      "execution_count": null,
      "metadata": {
        "id": "NNTf8x60luCy"
      },
      "outputs": [],
      "source": [
        "keys = list(unique_words)\n",
        "values = range(len(unique_words))\n",
        "pairs = list(zip(keys, values))\n",
        "pairs"
      ]
    },
    {
      "cell_type": "code",
      "execution_count": null,
      "metadata": {
        "id": "sJXo6eu-luCy"
      },
      "outputs": [],
      "source": [
        "lower_reviews = [r.lower() for r in reviews]\n",
        "lower_reviews"
      ]
    },
    {
      "cell_type": "code",
      "execution_count": null,
      "metadata": {
        "id": "IJATaZ-4luCy"
      },
      "outputs": [],
      "source": [
        "lower_reviews[0]"
      ]
    },
    {
      "cell_type": "code",
      "execution_count": null,
      "metadata": {
        "id": "9FdvXsq6luCz"
      },
      "outputs": [],
      "source": [
        "review_words = [nltk.word_tokenize(r) for r in lower_reviews]\n",
        "review_words[0]"
      ]
    },
    {
      "cell_type": "code",
      "execution_count": null,
      "metadata": {
        "id": "HUP3POCLluCz"
      },
      "outputs": [],
      "source": [
        "[(v, review_words[0].count(k)) for k, v in pairs]"
      ]
    },
    {
      "cell_type": "code",
      "execution_count": null,
      "metadata": {
        "id": "VjD5ufJtluCz"
      },
      "outputs": [],
      "source": [
        "def word_frequencies(words, vocabulary):\n",
        "    return [(v, words.count(k)) for k, v in vocabulary]\n",
        "\n",
        "word_frequencies(review_words[0], pairs)"
      ]
    },
    {
      "cell_type": "code",
      "execution_count": null,
      "metadata": {
        "id": "wwlI_19KluC0"
      },
      "outputs": [],
      "source": [
        "freqs = [word_frequencies(r_w, pairs) for r_w in review_words]\n",
        "freqs"
      ]
    },
    {
      "cell_type": "code",
      "execution_count": null,
      "metadata": {
        "id": "M1yLFnF2luC0"
      },
      "outputs": [],
      "source": [
        "feature_names, _ = list(zip(*pairs))\n",
        "vectors = [list(zip(*f))[1] for f in freqs]"
      ]
    },
    {
      "cell_type": "code",
      "execution_count": null,
      "metadata": {
        "id": "11NFOVC8luC0"
      },
      "outputs": [],
      "source": [
        "df = pd.DataFrame(vectors, columns=feature_names)\n",
        "df"
      ]
    },
    {
      "cell_type": "code",
      "execution_count": null,
      "metadata": {
        "id": "-9XBh7ToluC0"
      },
      "outputs": [],
      "source": [
        "from sklearn.feature_extraction.text import CountVectorizer\n",
        "\n",
        "vectorizer = CountVectorizer()\n",
        "X = vectorizer.fit_transform(reviews)\n",
        "pd.DataFrame(X.toarray(), columns=vectorizer.get_feature_names_out())"
      ]
    },
    {
      "cell_type": "code",
      "execution_count": null,
      "metadata": {
        "id": "TScOeYOpluC1"
      },
      "outputs": [],
      "source": [
        "vectorizer.vocabulary_"
      ]
    },
    {
      "cell_type": "code",
      "execution_count": null,
      "metadata": {
        "id": "AKf1sQnjluC1"
      },
      "outputs": [],
      "source": [
        "df = df.reindex(sorted(df.columns), axis=1)\n",
        "df"
      ]
    },
    {
      "cell_type": "code",
      "execution_count": null,
      "metadata": {
        "id": "6LGSO05oluC2"
      },
      "outputs": [],
      "source": [
        "vectorizer = CountVectorizer(stop_words='english')\n",
        "X = vectorizer.fit_transform(reviews)\n",
        "pd.DataFrame(X.toarray(), columns=vectorizer.get_feature_names_out())"
      ]
    },
    {
      "cell_type": "markdown",
      "metadata": {
        "id": "vhLo8aZoluC2"
      },
      "source": [
        "## N-граммы"
      ]
    },
    {
      "cell_type": "code",
      "execution_count": null,
      "metadata": {
        "id": "t2VY-WImluC2"
      },
      "outputs": [],
      "source": [
        "review_words[0]"
      ]
    },
    {
      "cell_type": "code",
      "execution_count": null,
      "metadata": {
        "id": "QxAUurWDluC2"
      },
      "outputs": [],
      "source": [
        "from nltk import ngrams\n",
        "\n",
        "bigrams = ngrams(review_words[0], 2)\n",
        "trigrams = ngrams(review_words[0], 3)\n",
        "fourgrams = ngrams(review_words[0], 4)\n",
        "\n",
        "bigrams, trigrams, fourgrams"
      ]
    },
    {
      "cell_type": "code",
      "execution_count": null,
      "metadata": {
        "id": "Nh39HqOXluC2"
      },
      "outputs": [],
      "source": [
        "list(bigrams), list(trigrams), list(fourgrams)"
      ]
    },
    {
      "cell_type": "code",
      "execution_count": null,
      "metadata": {
        "id": "865LuRYsluC2"
      },
      "outputs": [],
      "source": [
        "from collections import Counter\n",
        "alice_words = nltk.word_tokenize(nltk.corpus.gutenberg.raw(\"carroll-alice.txt\"))\n",
        "ng = ngrams(alice_words, 2)\n",
        "Counter(ng).most_common(30)"
      ]
    },
    {
      "cell_type": "markdown",
      "metadata": {
        "id": "TsDmIhKgluC3"
      },
      "source": [
        "# TF-IDF"
      ]
    },
    {
      "cell_type": "code",
      "execution_count": null,
      "metadata": {
        "id": "T-4RxWuoluC3"
      },
      "outputs": [],
      "source": [
        "reviews"
      ]
    },
    {
      "cell_type": "code",
      "execution_count": null,
      "metadata": {
        "id": "t195k3rdluC3"
      },
      "outputs": [],
      "source": [
        "docs = [r_w[:-1] for r_w in review_words]\n",
        "docs"
      ]
    },
    {
      "cell_type": "code",
      "execution_count": null,
      "metadata": {
        "id": "4NyVd3RAluC4"
      },
      "outputs": [],
      "source": [
        "docs[0]"
      ]
    },
    {
      "cell_type": "code",
      "execution_count": null,
      "metadata": {
        "id": "EyTglJKoluC4"
      },
      "outputs": [],
      "source": [
        "def tf(word, doc):\n",
        "    return doc.count(word) #/ len(doc)\n",
        "\n",
        "tf('pasta', docs[0]), len(docs[0])"
      ]
    },
    {
      "cell_type": "code",
      "execution_count": null,
      "metadata": {
        "id": "TgI_8mypluC4"
      },
      "outputs": [],
      "source": [
        "def df(word, docs):\n",
        "    return sum(1 for doc in docs if word in doc)\n",
        "\n",
        "df('pasta', docs)"
      ]
    },
    {
      "cell_type": "code",
      "execution_count": null,
      "metadata": {
        "id": "EbC14ySaluC4"
      },
      "outputs": [],
      "source": [
        "def idf(word, docs):\n",
        "    N = len(docs)\n",
        "    return math.log((0+N) / (0+df(word, docs))) + 1\n",
        "\n",
        "idf('pasta', docs) "
      ]
    },
    {
      "cell_type": "code",
      "execution_count": null,
      "metadata": {
        "id": "b8vG8Iy6luC5"
      },
      "outputs": [],
      "source": [
        "def tf_idf(word, doc, docs):\n",
        "    return tf(word, doc) * idf(word, docs)"
      ]
    },
    {
      "cell_type": "code",
      "execution_count": null,
      "metadata": {
        "id": "vuI8PpwdluC5"
      },
      "outputs": [],
      "source": [
        "[tf_idf(w, docs[0], docs) for w in docs[0]]"
      ]
    },
    {
      "cell_type": "code",
      "execution_count": null,
      "metadata": {
        "id": "zg948kNZluC5"
      },
      "outputs": [],
      "source": [
        "list(zip(docs[0], [tf_idf(w, docs[0], docs) for w in docs[0]]))"
      ]
    },
    {
      "cell_type": "code",
      "execution_count": null,
      "metadata": {
        "id": "FQW7U7wAluC5"
      },
      "outputs": [],
      "source": [
        "from sklearn.feature_extraction.text import TfidfVectorizer\n",
        "\n",
        "tfidf_vectorizer = TfidfVectorizer(smooth_idf=False, norm=None)\n",
        "values = tfidf_vectorizer.fit_transform(reviews)\n",
        "\n",
        "feature_names = tfidf_vectorizer.get_feature_names_out()\n",
        "pd.DataFrame(values.toarray(), columns = feature_names)"
      ]
    },
    {
      "cell_type": "markdown",
      "metadata": {
        "id": "RwrfOaUhluC6"
      },
      "source": [
        "## Извлечение ключевых слов"
      ]
    },
    {
      "cell_type": "code",
      "execution_count": null,
      "metadata": {
        "id": "See_uPtfluC6"
      },
      "outputs": [],
      "source": [
        "names = nltk.corpus.gutenberg.fileids()\n",
        "names"
      ]
    },
    {
      "cell_type": "code",
      "execution_count": null,
      "metadata": {
        "id": "OF9ZHOqLluC6"
      },
      "outputs": [],
      "source": [
        "texts = [nltk.corpus.gutenberg.raw(n) for n in names]"
      ]
    },
    {
      "cell_type": "code",
      "execution_count": null,
      "metadata": {
        "id": "U1mymrLRluC6"
      },
      "outputs": [],
      "source": [
        "corpus = pd.DataFrame({'Name': names, 'Text': texts})\n",
        "corpus"
      ]
    },
    {
      "cell_type": "code",
      "execution_count": null,
      "metadata": {
        "id": "tZnGJpeOluC7"
      },
      "outputs": [],
      "source": [
        "corpus['Text'] = corpus['Text'].apply(lambda t: t.lower())"
      ]
    },
    {
      "cell_type": "code",
      "execution_count": null,
      "metadata": {
        "colab": {
          "background_save": true
        },
        "id": "DQPCAoz5luC7",
        "outputId": "ec32dd1b-c803-4893-d8c5-e2becb1e7ff9"
      },
      "outputs": [
        {
          "data": {
            "text/html": [
              "\n",
              "  <div id=\"df-9a545859-5ec0-4b78-a96b-fbd371af65df\">\n",
              "    <div class=\"colab-df-container\">\n",
              "      <div>\n",
              "<style scoped>\n",
              "    .dataframe tbody tr th:only-of-type {\n",
              "        vertical-align: middle;\n",
              "    }\n",
              "\n",
              "    .dataframe tbody tr th {\n",
              "        vertical-align: top;\n",
              "    }\n",
              "\n",
              "    .dataframe thead th {\n",
              "        text-align: right;\n",
              "    }\n",
              "</style>\n",
              "<table border=\"1\" class=\"dataframe\">\n",
              "  <thead>\n",
              "    <tr style=\"text-align: right;\">\n",
              "      <th></th>\n",
              "      <th>Name</th>\n",
              "      <th>Text</th>\n",
              "    </tr>\n",
              "  </thead>\n",
              "  <tbody>\n",
              "    <tr>\n",
              "      <th>0</th>\n",
              "      <td>austen-emma.txt</td>\n",
              "      <td>[emma by jane austen 1816]\\n\\nvolume i\\n\\nchap...</td>\n",
              "    </tr>\n",
              "    <tr>\n",
              "      <th>1</th>\n",
              "      <td>austen-persuasion.txt</td>\n",
              "      <td>[persuasion by jane austen 1818]\\n\\n\\nchapter ...</td>\n",
              "    </tr>\n",
              "    <tr>\n",
              "      <th>2</th>\n",
              "      <td>austen-sense.txt</td>\n",
              "      <td>[sense and sensibility by jane austen 1811]\\n\\...</td>\n",
              "    </tr>\n",
              "    <tr>\n",
              "      <th>3</th>\n",
              "      <td>bible-kjv.txt</td>\n",
              "      <td>[the king james bible]\\n\\nthe old testament of...</td>\n",
              "    </tr>\n",
              "    <tr>\n",
              "      <th>4</th>\n",
              "      <td>blake-poems.txt</td>\n",
              "      <td>[poems by william blake 1789]\\n\\n \\nsongs of i...</td>\n",
              "    </tr>\n",
              "    <tr>\n",
              "      <th>5</th>\n",
              "      <td>bryant-stories.txt</td>\n",
              "      <td>[stories to tell to children by sara cone brya...</td>\n",
              "    </tr>\n",
              "    <tr>\n",
              "      <th>6</th>\n",
              "      <td>burgess-busterbrown.txt</td>\n",
              "      <td>[the adventures of buster bear by thornton w. ...</td>\n",
              "    </tr>\n",
              "    <tr>\n",
              "      <th>7</th>\n",
              "      <td>carroll-alice.txt</td>\n",
              "      <td>[alice's adventures in wonderland by lewis car...</td>\n",
              "    </tr>\n",
              "    <tr>\n",
              "      <th>8</th>\n",
              "      <td>chesterton-ball.txt</td>\n",
              "      <td>[the ball and the cross by g.k. chesterton 190...</td>\n",
              "    </tr>\n",
              "    <tr>\n",
              "      <th>9</th>\n",
              "      <td>chesterton-brown.txt</td>\n",
              "      <td>[the wisdom of father brown by g. k. chesterto...</td>\n",
              "    </tr>\n",
              "    <tr>\n",
              "      <th>10</th>\n",
              "      <td>chesterton-thursday.txt</td>\n",
              "      <td>[the man who was thursday by g. k. chesterton ...</td>\n",
              "    </tr>\n",
              "    <tr>\n",
              "      <th>11</th>\n",
              "      <td>edgeworth-parents.txt</td>\n",
              "      <td>[the parent's assistant, by maria edgeworth]\\r...</td>\n",
              "    </tr>\n",
              "    <tr>\n",
              "      <th>12</th>\n",
              "      <td>melville-moby_dick.txt</td>\n",
              "      <td>[moby dick by herman melville 1851]\\r\\n\\r\\n\\r\\...</td>\n",
              "    </tr>\n",
              "    <tr>\n",
              "      <th>13</th>\n",
              "      <td>milton-paradise.txt</td>\n",
              "      <td>[paradise lost by john milton 1667] \\n \\n \\nbo...</td>\n",
              "    </tr>\n",
              "    <tr>\n",
              "      <th>14</th>\n",
              "      <td>shakespeare-caesar.txt</td>\n",
              "      <td>[the tragedie of julius caesar by william shak...</td>\n",
              "    </tr>\n",
              "    <tr>\n",
              "      <th>15</th>\n",
              "      <td>shakespeare-hamlet.txt</td>\n",
              "      <td>[the tragedie of hamlet by william shakespeare...</td>\n",
              "    </tr>\n",
              "    <tr>\n",
              "      <th>16</th>\n",
              "      <td>shakespeare-macbeth.txt</td>\n",
              "      <td>[the tragedie of macbeth by william shakespear...</td>\n",
              "    </tr>\n",
              "    <tr>\n",
              "      <th>17</th>\n",
              "      <td>whitman-leaves.txt</td>\n",
              "      <td>[leaves of grass by walt whitman 1855]\\n\\n\\nco...</td>\n",
              "    </tr>\n",
              "  </tbody>\n",
              "</table>\n",
              "</div>\n",
              "      <button class=\"colab-df-convert\" onclick=\"convertToInteractive('df-9a545859-5ec0-4b78-a96b-fbd371af65df')\"\n",
              "              title=\"Convert this dataframe to an interactive table.\"\n",
              "              style=\"display:none;\">\n",
              "        \n",
              "  <svg xmlns=\"http://www.w3.org/2000/svg\" height=\"24px\"viewBox=\"0 0 24 24\"\n",
              "       width=\"24px\">\n",
              "    <path d=\"M0 0h24v24H0V0z\" fill=\"none\"/>\n",
              "    <path d=\"M18.56 5.44l.94 2.06.94-2.06 2.06-.94-2.06-.94-.94-2.06-.94 2.06-2.06.94zm-11 1L8.5 8.5l.94-2.06 2.06-.94-2.06-.94L8.5 2.5l-.94 2.06-2.06.94zm10 10l.94 2.06.94-2.06 2.06-.94-2.06-.94-.94-2.06-.94 2.06-2.06.94z\"/><path d=\"M17.41 7.96l-1.37-1.37c-.4-.4-.92-.59-1.43-.59-.52 0-1.04.2-1.43.59L10.3 9.45l-7.72 7.72c-.78.78-.78 2.05 0 2.83L4 21.41c.39.39.9.59 1.41.59.51 0 1.02-.2 1.41-.59l7.78-7.78 2.81-2.81c.8-.78.8-2.07 0-2.86zM5.41 20L4 18.59l7.72-7.72 1.47 1.35L5.41 20z\"/>\n",
              "  </svg>\n",
              "      </button>\n",
              "      \n",
              "  <style>\n",
              "    .colab-df-container {\n",
              "      display:flex;\n",
              "      flex-wrap:wrap;\n",
              "      gap: 12px;\n",
              "    }\n",
              "\n",
              "    .colab-df-convert {\n",
              "      background-color: #E8F0FE;\n",
              "      border: none;\n",
              "      border-radius: 50%;\n",
              "      cursor: pointer;\n",
              "      display: none;\n",
              "      fill: #1967D2;\n",
              "      height: 32px;\n",
              "      padding: 0 0 0 0;\n",
              "      width: 32px;\n",
              "    }\n",
              "\n",
              "    .colab-df-convert:hover {\n",
              "      background-color: #E2EBFA;\n",
              "      box-shadow: 0px 1px 2px rgba(60, 64, 67, 0.3), 0px 1px 3px 1px rgba(60, 64, 67, 0.15);\n",
              "      fill: #174EA6;\n",
              "    }\n",
              "\n",
              "    [theme=dark] .colab-df-convert {\n",
              "      background-color: #3B4455;\n",
              "      fill: #D2E3FC;\n",
              "    }\n",
              "\n",
              "    [theme=dark] .colab-df-convert:hover {\n",
              "      background-color: #434B5C;\n",
              "      box-shadow: 0px 1px 3px 1px rgba(0, 0, 0, 0.15);\n",
              "      filter: drop-shadow(0px 1px 2px rgba(0, 0, 0, 0.3));\n",
              "      fill: #FFFFFF;\n",
              "    }\n",
              "  </style>\n",
              "\n",
              "      <script>\n",
              "        const buttonEl =\n",
              "          document.querySelector('#df-9a545859-5ec0-4b78-a96b-fbd371af65df button.colab-df-convert');\n",
              "        buttonEl.style.display =\n",
              "          google.colab.kernel.accessAllowed ? 'block' : 'none';\n",
              "\n",
              "        async function convertToInteractive(key) {\n",
              "          const element = document.querySelector('#df-9a545859-5ec0-4b78-a96b-fbd371af65df');\n",
              "          const dataTable =\n",
              "            await google.colab.kernel.invokeFunction('convertToInteractive',\n",
              "                                                     [key], {});\n",
              "          if (!dataTable) return;\n",
              "\n",
              "          const docLinkHtml = 'Like what you see? Visit the ' +\n",
              "            '<a target=\"_blank\" href=https://colab.research.google.com/notebooks/data_table.ipynb>data table notebook</a>'\n",
              "            + ' to learn more about interactive tables.';\n",
              "          element.innerHTML = '';\n",
              "          dataTable['output_type'] = 'display_data';\n",
              "          await google.colab.output.renderOutput(dataTable, element);\n",
              "          const docLink = document.createElement('div');\n",
              "          docLink.innerHTML = docLinkHtml;\n",
              "          element.appendChild(docLink);\n",
              "        }\n",
              "      </script>\n",
              "    </div>\n",
              "  </div>\n",
              "  "
            ],
            "text/plain": [
              "                       Name                                               Text\n",
              "0           austen-emma.txt  [emma by jane austen 1816]\\n\\nvolume i\\n\\nchap...\n",
              "1     austen-persuasion.txt  [persuasion by jane austen 1818]\\n\\n\\nchapter ...\n",
              "2          austen-sense.txt  [sense and sensibility by jane austen 1811]\\n\\...\n",
              "3             bible-kjv.txt  [the king james bible]\\n\\nthe old testament of...\n",
              "4           blake-poems.txt  [poems by william blake 1789]\\n\\n \\nsongs of i...\n",
              "5        bryant-stories.txt  [stories to tell to children by sara cone brya...\n",
              "6   burgess-busterbrown.txt  [the adventures of buster bear by thornton w. ...\n",
              "7         carroll-alice.txt  [alice's adventures in wonderland by lewis car...\n",
              "8       chesterton-ball.txt  [the ball and the cross by g.k. chesterton 190...\n",
              "9      chesterton-brown.txt  [the wisdom of father brown by g. k. chesterto...\n",
              "10  chesterton-thursday.txt  [the man who was thursday by g. k. chesterton ...\n",
              "11    edgeworth-parents.txt  [the parent's assistant, by maria edgeworth]\\r...\n",
              "12   melville-moby_dick.txt  [moby dick by herman melville 1851]\\r\\n\\r\\n\\r\\...\n",
              "13      milton-paradise.txt  [paradise lost by john milton 1667] \\n \\n \\nbo...\n",
              "14   shakespeare-caesar.txt  [the tragedie of julius caesar by william shak...\n",
              "15   shakespeare-hamlet.txt  [the tragedie of hamlet by william shakespeare...\n",
              "16  shakespeare-macbeth.txt  [the tragedie of macbeth by william shakespear...\n",
              "17       whitman-leaves.txt  [leaves of grass by walt whitman 1855]\\n\\n\\nco..."
            ]
          },
          "execution_count": null,
          "metadata": {},
          "output_type": "execute_result"
        }
      ],
      "source": [
        "corpus"
      ]
    },
    {
      "cell_type": "code",
      "execution_count": null,
      "metadata": {
        "colab": {
          "background_save": true
        },
        "id": "gVRau_rcluC7"
      },
      "outputs": [],
      "source": [
        "vectorizer=CountVectorizer()\n",
        "vectors = vectorizer.fit_transform(corpus['Text'])"
      ]
    },
    {
      "cell_type": "code",
      "execution_count": null,
      "metadata": {
        "colab": {
          "background_save": true
        },
        "id": "iezdnoCSluC8"
      },
      "outputs": [],
      "source": [
        "from sklearn.feature_extraction.text import TfidfTransformer\n",
        "\n",
        "tfidf = TfidfTransformer().fit(vectors)"
      ]
    },
    {
      "cell_type": "code",
      "execution_count": null,
      "metadata": {
        "colab": {
          "background_save": true
        },
        "id": "7BV_GnOLluC8",
        "outputId": "7fe784d8-4143-4a6b-95bb-ec7519865f97"
      },
      "outputs": [
        {
          "data": {
            "text/plain": [
              "array(['annexed', 'annexment', 'annie', 'annihilate', 'annihilated',\n",
              "       'annihilating', 'annihilation', 'anno', 'annoint', 'annotations'],\n",
              "      dtype=object)"
            ]
          },
          "execution_count": null,
          "metadata": {},
          "output_type": "execute_result"
        }
      ],
      "source": [
        "feature_names = vectorizer.get_feature_names_out()\n",
        "feature_names[2000:2010]"
      ]
    },
    {
      "cell_type": "code",
      "execution_count": null,
      "metadata": {
        "colab": {
          "background_save": true
        },
        "id": "ti5ruQ59luC8"
      },
      "outputs": [],
      "source": [
        "doc = corpus[\"Text\"][0]"
      ]
    },
    {
      "cell_type": "code",
      "execution_count": null,
      "metadata": {
        "colab": {
          "background_save": true
        },
        "id": "4LBwugJ8luC9",
        "outputId": "d251ab7a-f4d3-447c-ac62-559d61cb3617"
      },
      "outputs": [
        {
          "data": {
            "text/plain": [
              "<1x42063 sparse matrix of type '<class 'numpy.float64'>'\n",
              "\twith 7239 stored elements in Compressed Sparse Row format>"
            ]
          },
          "execution_count": null,
          "metadata": {},
          "output_type": "execute_result"
        }
      ],
      "source": [
        "tf_idf_vector=tfidf.transform(vectorizer.transform([doc]))\n",
        "tf_idf_vector"
      ]
    },
    {
      "cell_type": "code",
      "execution_count": null,
      "metadata": {
        "colab": {
          "background_save": true
        },
        "id": "nr_MV2vdluC9"
      },
      "outputs": [],
      "source": [
        "from scipy.sparse import coo_matrix\n",
        "from typing import Dict\n",
        "\n",
        "def vector_to_dict(vector: coo_matrix) -> Dict[int, float]:\n",
        "    return {k: v for k, v in zip(vector.col, vector.data)}\n"
      ]
    },
    {
      "cell_type": "code",
      "execution_count": null,
      "metadata": {
        "colab": {
          "background_save": true
        },
        "id": "-rlhyVvsluDC",
        "outputId": "d29f0341-6b23-4920-8f10-431fcf9c34be"
      },
      "outputs": [
        {
          "data": {
            "text/html": [
              "\n",
              "  <div id=\"df-1f03d31d-87a8-4947-b798-2903a0d21638\">\n",
              "    <div class=\"colab-df-container\">\n",
              "      <div>\n",
              "<style scoped>\n",
              "    .dataframe tbody tr th:only-of-type {\n",
              "        vertical-align: middle;\n",
              "    }\n",
              "\n",
              "    .dataframe tbody tr th {\n",
              "        vertical-align: top;\n",
              "    }\n",
              "\n",
              "    .dataframe thead th {\n",
              "        text-align: right;\n",
              "    }\n",
              "</style>\n",
              "<table border=\"1\" class=\"dataframe\">\n",
              "  <thead>\n",
              "    <tr style=\"text-align: right;\">\n",
              "      <th></th>\n",
              "      <th>word_id</th>\n",
              "      <th>score</th>\n",
              "    </tr>\n",
              "  </thead>\n",
              "  <tbody>\n",
              "    <tr>\n",
              "      <th>703</th>\n",
              "      <td>37449</td>\n",
              "      <td>0.364045</td>\n",
              "    </tr>\n",
              "    <tr>\n",
              "      <th>778</th>\n",
              "      <td>36954</td>\n",
              "      <td>0.361405</td>\n",
              "    </tr>\n",
              "    <tr>\n",
              "      <th>6760</th>\n",
              "      <td>1938</td>\n",
              "      <td>0.340211</td>\n",
              "    </tr>\n",
              "    <tr>\n",
              "      <th>2763</th>\n",
              "      <td>25584</td>\n",
              "      <td>0.298171</td>\n",
              "    </tr>\n",
              "    <tr>\n",
              "      <th>3516</th>\n",
              "      <td>20241</td>\n",
              "      <td>0.175665</td>\n",
              "    </tr>\n",
              "    <tr>\n",
              "      <th>...</th>\n",
              "      <td>...</td>\n",
              "      <td>...</td>\n",
              "    </tr>\n",
              "    <tr>\n",
              "      <th>4603</th>\n",
              "      <td>13982</td>\n",
              "      <td>0.000077</td>\n",
              "    </tr>\n",
              "    <tr>\n",
              "      <th>5565</th>\n",
              "      <td>9205</td>\n",
              "      <td>0.000073</td>\n",
              "    </tr>\n",
              "    <tr>\n",
              "      <th>6302</th>\n",
              "      <td>4984</td>\n",
              "      <td>0.000073</td>\n",
              "    </tr>\n",
              "    <tr>\n",
              "      <th>4271</th>\n",
              "      <td>15834</td>\n",
              "      <td>0.000069</td>\n",
              "    </tr>\n",
              "    <tr>\n",
              "      <th>1941</th>\n",
              "      <td>30011</td>\n",
              "      <td>0.000069</td>\n",
              "    </tr>\n",
              "  </tbody>\n",
              "</table>\n",
              "<p>7239 rows × 2 columns</p>\n",
              "</div>\n",
              "      <button class=\"colab-df-convert\" onclick=\"convertToInteractive('df-1f03d31d-87a8-4947-b798-2903a0d21638')\"\n",
              "              title=\"Convert this dataframe to an interactive table.\"\n",
              "              style=\"display:none;\">\n",
              "        \n",
              "  <svg xmlns=\"http://www.w3.org/2000/svg\" height=\"24px\"viewBox=\"0 0 24 24\"\n",
              "       width=\"24px\">\n",
              "    <path d=\"M0 0h24v24H0V0z\" fill=\"none\"/>\n",
              "    <path d=\"M18.56 5.44l.94 2.06.94-2.06 2.06-.94-2.06-.94-.94-2.06-.94 2.06-2.06.94zm-11 1L8.5 8.5l.94-2.06 2.06-.94-2.06-.94L8.5 2.5l-.94 2.06-2.06.94zm10 10l.94 2.06.94-2.06 2.06-.94-2.06-.94-.94-2.06-.94 2.06-2.06.94z\"/><path d=\"M17.41 7.96l-1.37-1.37c-.4-.4-.92-.59-1.43-.59-.52 0-1.04.2-1.43.59L10.3 9.45l-7.72 7.72c-.78.78-.78 2.05 0 2.83L4 21.41c.39.39.9.59 1.41.59.51 0 1.02-.2 1.41-.59l7.78-7.78 2.81-2.81c.8-.78.8-2.07 0-2.86zM5.41 20L4 18.59l7.72-7.72 1.47 1.35L5.41 20z\"/>\n",
              "  </svg>\n",
              "      </button>\n",
              "      \n",
              "  <style>\n",
              "    .colab-df-container {\n",
              "      display:flex;\n",
              "      flex-wrap:wrap;\n",
              "      gap: 12px;\n",
              "    }\n",
              "\n",
              "    .colab-df-convert {\n",
              "      background-color: #E8F0FE;\n",
              "      border: none;\n",
              "      border-radius: 50%;\n",
              "      cursor: pointer;\n",
              "      display: none;\n",
              "      fill: #1967D2;\n",
              "      height: 32px;\n",
              "      padding: 0 0 0 0;\n",
              "      width: 32px;\n",
              "    }\n",
              "\n",
              "    .colab-df-convert:hover {\n",
              "      background-color: #E2EBFA;\n",
              "      box-shadow: 0px 1px 2px rgba(60, 64, 67, 0.3), 0px 1px 3px 1px rgba(60, 64, 67, 0.15);\n",
              "      fill: #174EA6;\n",
              "    }\n",
              "\n",
              "    [theme=dark] .colab-df-convert {\n",
              "      background-color: #3B4455;\n",
              "      fill: #D2E3FC;\n",
              "    }\n",
              "\n",
              "    [theme=dark] .colab-df-convert:hover {\n",
              "      background-color: #434B5C;\n",
              "      box-shadow: 0px 1px 3px 1px rgba(0, 0, 0, 0.15);\n",
              "      filter: drop-shadow(0px 1px 2px rgba(0, 0, 0, 0.3));\n",
              "      fill: #FFFFFF;\n",
              "    }\n",
              "  </style>\n",
              "\n",
              "      <script>\n",
              "        const buttonEl =\n",
              "          document.querySelector('#df-1f03d31d-87a8-4947-b798-2903a0d21638 button.colab-df-convert');\n",
              "        buttonEl.style.display =\n",
              "          google.colab.kernel.accessAllowed ? 'block' : 'none';\n",
              "\n",
              "        async function convertToInteractive(key) {\n",
              "          const element = document.querySelector('#df-1f03d31d-87a8-4947-b798-2903a0d21638');\n",
              "          const dataTable =\n",
              "            await google.colab.kernel.invokeFunction('convertToInteractive',\n",
              "                                                     [key], {});\n",
              "          if (!dataTable) return;\n",
              "\n",
              "          const docLinkHtml = 'Like what you see? Visit the ' +\n",
              "            '<a target=\"_blank\" href=https://colab.research.google.com/notebooks/data_table.ipynb>data table notebook</a>'\n",
              "            + ' to learn more about interactive tables.';\n",
              "          element.innerHTML = '';\n",
              "          dataTable['output_type'] = 'display_data';\n",
              "          await google.colab.output.renderOutput(dataTable, element);\n",
              "          const docLink = document.createElement('div');\n",
              "          docLink.innerHTML = docLinkHtml;\n",
              "          element.appendChild(docLink);\n",
              "        }\n",
              "      </script>\n",
              "    </div>\n",
              "  </div>\n",
              "  "
            ],
            "text/plain": [
              "      word_id     score\n",
              "703     37449  0.364045\n",
              "778     36954  0.361405\n",
              "6760     1938  0.340211\n",
              "2763    25584  0.298171\n",
              "3516    20241  0.175665\n",
              "...       ...       ...\n",
              "4603    13982  0.000077\n",
              "5565     9205  0.000073\n",
              "6302     4984  0.000073\n",
              "4271    15834  0.000069\n",
              "1941    30011  0.000069\n",
              "\n",
              "[7239 rows x 2 columns]"
            ]
          },
          "execution_count": null,
          "metadata": {},
          "output_type": "execute_result"
        }
      ],
      "source": [
        "token_scores = vector_to_dict(tf_idf_vector.tocoo())\n",
        "token_scores = pd.DataFrame(token_scores.items(), columns=[\"word_id\", \"score\"])\n",
        "token_scores = token_scores.sort_values(\"score\", ascending=False)\n",
        "token_scores"
      ]
    },
    {
      "cell_type": "code",
      "execution_count": null,
      "metadata": {
        "colab": {
          "background_save": true
        },
        "id": "8XKBYIYaluDD",
        "outputId": "1315dd32-c367-464e-b8a0-15cbabd1591e"
      },
      "outputs": [
        {
          "data": {
            "text/html": [
              "\n",
              "  <div id=\"df-47db1ba3-a9ea-4b42-81e5-350257c4dd1e\">\n",
              "    <div class=\"colab-df-container\">\n",
              "      <div>\n",
              "<style scoped>\n",
              "    .dataframe tbody tr th:only-of-type {\n",
              "        vertical-align: middle;\n",
              "    }\n",
              "\n",
              "    .dataframe tbody tr th {\n",
              "        vertical-align: top;\n",
              "    }\n",
              "\n",
              "    .dataframe thead th {\n",
              "        text-align: right;\n",
              "    }\n",
              "</style>\n",
              "<table border=\"1\" class=\"dataframe\">\n",
              "  <thead>\n",
              "    <tr style=\"text-align: right;\">\n",
              "      <th></th>\n",
              "      <th>word_id</th>\n",
              "      <th>score</th>\n",
              "      <th>word</th>\n",
              "    </tr>\n",
              "  </thead>\n",
              "  <tbody>\n",
              "    <tr>\n",
              "      <th>703</th>\n",
              "      <td>37449</td>\n",
              "      <td>0.364045</td>\n",
              "      <td>to</td>\n",
              "    </tr>\n",
              "    <tr>\n",
              "      <th>778</th>\n",
              "      <td>36954</td>\n",
              "      <td>0.361405</td>\n",
              "      <td>the</td>\n",
              "    </tr>\n",
              "    <tr>\n",
              "      <th>6760</th>\n",
              "      <td>1938</td>\n",
              "      <td>0.340211</td>\n",
              "      <td>and</td>\n",
              "    </tr>\n",
              "    <tr>\n",
              "      <th>2763</th>\n",
              "      <td>25584</td>\n",
              "      <td>0.298171</td>\n",
              "      <td>of</td>\n",
              "    </tr>\n",
              "    <tr>\n",
              "      <th>3516</th>\n",
              "      <td>20241</td>\n",
              "      <td>0.175665</td>\n",
              "      <td>it</td>\n",
              "    </tr>\n",
              "    <tr>\n",
              "      <th>4001</th>\n",
              "      <td>17684</td>\n",
              "      <td>0.171565</td>\n",
              "      <td>her</td>\n",
              "    </tr>\n",
              "    <tr>\n",
              "      <th>4945</th>\n",
              "      <td>12467</td>\n",
              "      <td>0.171053</td>\n",
              "      <td>emma</td>\n",
              "    </tr>\n",
              "    <tr>\n",
              "      <th>229</th>\n",
              "      <td>40697</td>\n",
              "      <td>0.166631</td>\n",
              "      <td>was</td>\n",
              "    </tr>\n",
              "    <tr>\n",
              "      <th>1410</th>\n",
              "      <td>32894</td>\n",
              "      <td>0.162601</td>\n",
              "      <td>she</td>\n",
              "    </tr>\n",
              "    <tr>\n",
              "      <th>3793</th>\n",
              "      <td>19055</td>\n",
              "      <td>0.152039</td>\n",
              "      <td>in</td>\n",
              "    </tr>\n",
              "  </tbody>\n",
              "</table>\n",
              "</div>\n",
              "      <button class=\"colab-df-convert\" onclick=\"convertToInteractive('df-47db1ba3-a9ea-4b42-81e5-350257c4dd1e')\"\n",
              "              title=\"Convert this dataframe to an interactive table.\"\n",
              "              style=\"display:none;\">\n",
              "        \n",
              "  <svg xmlns=\"http://www.w3.org/2000/svg\" height=\"24px\"viewBox=\"0 0 24 24\"\n",
              "       width=\"24px\">\n",
              "    <path d=\"M0 0h24v24H0V0z\" fill=\"none\"/>\n",
              "    <path d=\"M18.56 5.44l.94 2.06.94-2.06 2.06-.94-2.06-.94-.94-2.06-.94 2.06-2.06.94zm-11 1L8.5 8.5l.94-2.06 2.06-.94-2.06-.94L8.5 2.5l-.94 2.06-2.06.94zm10 10l.94 2.06.94-2.06 2.06-.94-2.06-.94-.94-2.06-.94 2.06-2.06.94z\"/><path d=\"M17.41 7.96l-1.37-1.37c-.4-.4-.92-.59-1.43-.59-.52 0-1.04.2-1.43.59L10.3 9.45l-7.72 7.72c-.78.78-.78 2.05 0 2.83L4 21.41c.39.39.9.59 1.41.59.51 0 1.02-.2 1.41-.59l7.78-7.78 2.81-2.81c.8-.78.8-2.07 0-2.86zM5.41 20L4 18.59l7.72-7.72 1.47 1.35L5.41 20z\"/>\n",
              "  </svg>\n",
              "      </button>\n",
              "      \n",
              "  <style>\n",
              "    .colab-df-container {\n",
              "      display:flex;\n",
              "      flex-wrap:wrap;\n",
              "      gap: 12px;\n",
              "    }\n",
              "\n",
              "    .colab-df-convert {\n",
              "      background-color: #E8F0FE;\n",
              "      border: none;\n",
              "      border-radius: 50%;\n",
              "      cursor: pointer;\n",
              "      display: none;\n",
              "      fill: #1967D2;\n",
              "      height: 32px;\n",
              "      padding: 0 0 0 0;\n",
              "      width: 32px;\n",
              "    }\n",
              "\n",
              "    .colab-df-convert:hover {\n",
              "      background-color: #E2EBFA;\n",
              "      box-shadow: 0px 1px 2px rgba(60, 64, 67, 0.3), 0px 1px 3px 1px rgba(60, 64, 67, 0.15);\n",
              "      fill: #174EA6;\n",
              "    }\n",
              "\n",
              "    [theme=dark] .colab-df-convert {\n",
              "      background-color: #3B4455;\n",
              "      fill: #D2E3FC;\n",
              "    }\n",
              "\n",
              "    [theme=dark] .colab-df-convert:hover {\n",
              "      background-color: #434B5C;\n",
              "      box-shadow: 0px 1px 3px 1px rgba(0, 0, 0, 0.15);\n",
              "      filter: drop-shadow(0px 1px 2px rgba(0, 0, 0, 0.3));\n",
              "      fill: #FFFFFF;\n",
              "    }\n",
              "  </style>\n",
              "\n",
              "      <script>\n",
              "        const buttonEl =\n",
              "          document.querySelector('#df-47db1ba3-a9ea-4b42-81e5-350257c4dd1e button.colab-df-convert');\n",
              "        buttonEl.style.display =\n",
              "          google.colab.kernel.accessAllowed ? 'block' : 'none';\n",
              "\n",
              "        async function convertToInteractive(key) {\n",
              "          const element = document.querySelector('#df-47db1ba3-a9ea-4b42-81e5-350257c4dd1e');\n",
              "          const dataTable =\n",
              "            await google.colab.kernel.invokeFunction('convertToInteractive',\n",
              "                                                     [key], {});\n",
              "          if (!dataTable) return;\n",
              "\n",
              "          const docLinkHtml = 'Like what you see? Visit the ' +\n",
              "            '<a target=\"_blank\" href=https://colab.research.google.com/notebooks/data_table.ipynb>data table notebook</a>'\n",
              "            + ' to learn more about interactive tables.';\n",
              "          element.innerHTML = '';\n",
              "          dataTable['output_type'] = 'display_data';\n",
              "          await google.colab.output.renderOutput(dataTable, element);\n",
              "          const docLink = document.createElement('div');\n",
              "          docLink.innerHTML = docLinkHtml;\n",
              "          element.appendChild(docLink);\n",
              "        }\n",
              "      </script>\n",
              "    </div>\n",
              "  </div>\n",
              "  "
            ],
            "text/plain": [
              "      word_id     score  word\n",
              "703     37449  0.364045    to\n",
              "778     36954  0.361405   the\n",
              "6760     1938  0.340211   and\n",
              "2763    25584  0.298171    of\n",
              "3516    20241  0.175665    it\n",
              "4001    17684  0.171565   her\n",
              "4945    12467  0.171053  emma\n",
              "229     40697  0.166631   was\n",
              "1410    32894  0.162601   she\n",
              "3793    19055  0.152039    in"
            ]
          },
          "execution_count": null,
          "metadata": {},
          "output_type": "execute_result"
        }
      ],
      "source": [
        "token_scores['word'] = np.array(feature_names)[token_scores.word_id]\n",
        "token_scores.head(10)"
      ]
    },
    {
      "cell_type": "code",
      "execution_count": null,
      "metadata": {
        "colab": {
          "background_save": true
        },
        "id": "kpGUSbuYluDD",
        "outputId": "e30a8774-d985-4218-e739-1360ec3c0784"
      },
      "outputs": [
        {
          "data": {
            "text/html": [
              "\n",
              "  <div id=\"df-ed3208a4-a86c-432f-87fc-5dd5bc27069e\">\n",
              "    <div class=\"colab-df-container\">\n",
              "      <div>\n",
              "<style scoped>\n",
              "    .dataframe tbody tr th:only-of-type {\n",
              "        vertical-align: middle;\n",
              "    }\n",
              "\n",
              "    .dataframe tbody tr th {\n",
              "        vertical-align: top;\n",
              "    }\n",
              "\n",
              "    .dataframe thead th {\n",
              "        text-align: right;\n",
              "    }\n",
              "</style>\n",
              "<table border=\"1\" class=\"dataframe\">\n",
              "  <thead>\n",
              "    <tr style=\"text-align: right;\">\n",
              "      <th></th>\n",
              "      <th>word_id</th>\n",
              "      <th>score</th>\n",
              "      <th>word</th>\n",
              "    </tr>\n",
              "  </thead>\n",
              "  <tbody>\n",
              "    <tr>\n",
              "      <th>3983</th>\n",
              "      <td>17818</td>\n",
              "      <td>0.000077</td>\n",
              "      <td>hid</td>\n",
              "    </tr>\n",
              "    <tr>\n",
              "      <th>1374</th>\n",
              "      <td>33226</td>\n",
              "      <td>0.000077</td>\n",
              "      <td>shoulder</td>\n",
              "    </tr>\n",
              "    <tr>\n",
              "      <th>1679</th>\n",
              "      <td>31073</td>\n",
              "      <td>0.000077</td>\n",
              "      <td>ring</td>\n",
              "    </tr>\n",
              "    <tr>\n",
              "      <th>4562</th>\n",
              "      <td>14135</td>\n",
              "      <td>0.000077</td>\n",
              "      <td>feet</td>\n",
              "    </tr>\n",
              "    <tr>\n",
              "      <th>1185</th>\n",
              "      <td>34399</td>\n",
              "      <td>0.000077</td>\n",
              "      <td>sounded</td>\n",
              "    </tr>\n",
              "    <tr>\n",
              "      <th>4603</th>\n",
              "      <td>13982</td>\n",
              "      <td>0.000077</td>\n",
              "      <td>fat</td>\n",
              "    </tr>\n",
              "    <tr>\n",
              "      <th>5565</th>\n",
              "      <td>9205</td>\n",
              "      <td>0.000073</td>\n",
              "      <td>cry</td>\n",
              "    </tr>\n",
              "    <tr>\n",
              "      <th>6302</th>\n",
              "      <td>4984</td>\n",
              "      <td>0.000073</td>\n",
              "      <td>bound</td>\n",
              "    </tr>\n",
              "    <tr>\n",
              "      <th>4271</th>\n",
              "      <td>15834</td>\n",
              "      <td>0.000069</td>\n",
              "      <td>gently</td>\n",
              "    </tr>\n",
              "    <tr>\n",
              "      <th>1941</th>\n",
              "      <td>30011</td>\n",
              "      <td>0.000069</td>\n",
              "      <td>red</td>\n",
              "    </tr>\n",
              "  </tbody>\n",
              "</table>\n",
              "</div>\n",
              "      <button class=\"colab-df-convert\" onclick=\"convertToInteractive('df-ed3208a4-a86c-432f-87fc-5dd5bc27069e')\"\n",
              "              title=\"Convert this dataframe to an interactive table.\"\n",
              "              style=\"display:none;\">\n",
              "        \n",
              "  <svg xmlns=\"http://www.w3.org/2000/svg\" height=\"24px\"viewBox=\"0 0 24 24\"\n",
              "       width=\"24px\">\n",
              "    <path d=\"M0 0h24v24H0V0z\" fill=\"none\"/>\n",
              "    <path d=\"M18.56 5.44l.94 2.06.94-2.06 2.06-.94-2.06-.94-.94-2.06-.94 2.06-2.06.94zm-11 1L8.5 8.5l.94-2.06 2.06-.94-2.06-.94L8.5 2.5l-.94 2.06-2.06.94zm10 10l.94 2.06.94-2.06 2.06-.94-2.06-.94-.94-2.06-.94 2.06-2.06.94z\"/><path d=\"M17.41 7.96l-1.37-1.37c-.4-.4-.92-.59-1.43-.59-.52 0-1.04.2-1.43.59L10.3 9.45l-7.72 7.72c-.78.78-.78 2.05 0 2.83L4 21.41c.39.39.9.59 1.41.59.51 0 1.02-.2 1.41-.59l7.78-7.78 2.81-2.81c.8-.78.8-2.07 0-2.86zM5.41 20L4 18.59l7.72-7.72 1.47 1.35L5.41 20z\"/>\n",
              "  </svg>\n",
              "      </button>\n",
              "      \n",
              "  <style>\n",
              "    .colab-df-container {\n",
              "      display:flex;\n",
              "      flex-wrap:wrap;\n",
              "      gap: 12px;\n",
              "    }\n",
              "\n",
              "    .colab-df-convert {\n",
              "      background-color: #E8F0FE;\n",
              "      border: none;\n",
              "      border-radius: 50%;\n",
              "      cursor: pointer;\n",
              "      display: none;\n",
              "      fill: #1967D2;\n",
              "      height: 32px;\n",
              "      padding: 0 0 0 0;\n",
              "      width: 32px;\n",
              "    }\n",
              "\n",
              "    .colab-df-convert:hover {\n",
              "      background-color: #E2EBFA;\n",
              "      box-shadow: 0px 1px 2px rgba(60, 64, 67, 0.3), 0px 1px 3px 1px rgba(60, 64, 67, 0.15);\n",
              "      fill: #174EA6;\n",
              "    }\n",
              "\n",
              "    [theme=dark] .colab-df-convert {\n",
              "      background-color: #3B4455;\n",
              "      fill: #D2E3FC;\n",
              "    }\n",
              "\n",
              "    [theme=dark] .colab-df-convert:hover {\n",
              "      background-color: #434B5C;\n",
              "      box-shadow: 0px 1px 3px 1px rgba(0, 0, 0, 0.15);\n",
              "      filter: drop-shadow(0px 1px 2px rgba(0, 0, 0, 0.3));\n",
              "      fill: #FFFFFF;\n",
              "    }\n",
              "  </style>\n",
              "\n",
              "      <script>\n",
              "        const buttonEl =\n",
              "          document.querySelector('#df-ed3208a4-a86c-432f-87fc-5dd5bc27069e button.colab-df-convert');\n",
              "        buttonEl.style.display =\n",
              "          google.colab.kernel.accessAllowed ? 'block' : 'none';\n",
              "\n",
              "        async function convertToInteractive(key) {\n",
              "          const element = document.querySelector('#df-ed3208a4-a86c-432f-87fc-5dd5bc27069e');\n",
              "          const dataTable =\n",
              "            await google.colab.kernel.invokeFunction('convertToInteractive',\n",
              "                                                     [key], {});\n",
              "          if (!dataTable) return;\n",
              "\n",
              "          const docLinkHtml = 'Like what you see? Visit the ' +\n",
              "            '<a target=\"_blank\" href=https://colab.research.google.com/notebooks/data_table.ipynb>data table notebook</a>'\n",
              "            + ' to learn more about interactive tables.';\n",
              "          element.innerHTML = '';\n",
              "          dataTable['output_type'] = 'display_data';\n",
              "          await google.colab.output.renderOutput(dataTable, element);\n",
              "          const docLink = document.createElement('div');\n",
              "          docLink.innerHTML = docLinkHtml;\n",
              "          element.appendChild(docLink);\n",
              "        }\n",
              "      </script>\n",
              "    </div>\n",
              "  </div>\n",
              "  "
            ],
            "text/plain": [
              "      word_id     score      word\n",
              "3983    17818  0.000077       hid\n",
              "1374    33226  0.000077  shoulder\n",
              "1679    31073  0.000077      ring\n",
              "4562    14135  0.000077      feet\n",
              "1185    34399  0.000077   sounded\n",
              "4603    13982  0.000077       fat\n",
              "5565     9205  0.000073       cry\n",
              "6302     4984  0.000073     bound\n",
              "4271    15834  0.000069    gently\n",
              "1941    30011  0.000069       red"
            ]
          },
          "execution_count": null,
          "metadata": {},
          "output_type": "execute_result"
        }
      ],
      "source": [
        "token_scores.tail(10)"
      ]
    },
    {
      "cell_type": "code",
      "execution_count": null,
      "metadata": {
        "colab": {
          "background_save": true
        },
        "id": "DQ083g-YluDD",
        "outputId": "13453d85-3ed3-450c-a44d-f889416bf360"
      },
      "outputs": [
        {
          "data": {
            "text/plain": [
              "array([['to', 0.36404524901817875],\n",
              "       ['the', 0.3614047223026432],\n",
              "       ['and', 0.34021102103321305],\n",
              "       ['of', 0.29817105622008117],\n",
              "       ['it', 0.17566451412826034]], dtype=object)"
            ]
          },
          "execution_count": null,
          "metadata": {},
          "output_type": "execute_result"
        }
      ],
      "source": [
        "token_scores.head()[['word', 'score']].values"
      ]
    },
    {
      "cell_type": "code",
      "execution_count": null,
      "metadata": {
        "colab": {
          "background_save": true
        },
        "id": "hfcrf4QzluDD"
      },
      "outputs": [],
      "source": [
        "def get_keywords(text, n=10, tfidf=tfidf, vectorizer=vectorizer):\n",
        "    #generate tf-idf for the given document\n",
        "    tf_idf_vector=tfidf.transform(vectorizer.transform([text]))\n",
        "    token_scores = pd.DataFrame(\n",
        "        vector_to_dict(tf_idf_vector.tocoo()).items(),\n",
        "        columns=[\"word_id\", \"score\"]\n",
        "    )\n",
        "    token_scores['word'] = np.array(vectorizer.get_feature_names_out())[token_scores.word_id]\n",
        "    top = token_scores.sort_values(\"score\", ascending=False).head(n)\n",
        "    top.score = np.round(top.score, 3)\n",
        "    return {word: score for word, score in top[[\"word\", \"score\"]].values}"
      ]
    },
    {
      "cell_type": "code",
      "execution_count": null,
      "metadata": {
        "colab": {
          "background_save": true
        },
        "id": "_4h1C9bDluDE"
      },
      "outputs": [],
      "source": [
        "keywords = get_keywords(corpus[\"Text\"][7])"
      ]
    },
    {
      "cell_type": "code",
      "execution_count": null,
      "metadata": {
        "colab": {
          "background_save": true
        },
        "id": "lK0aBHKSluDE",
        "outputId": "8176f3d4-f734-445c-e786-daa1232ee553"
      },
      "outputs": [
        {
          "name": "stdout",
          "output_type": "stream",
          "text": [
            "the 0.582\n",
            "alice 0.361\n",
            "and 0.309\n",
            "to 0.259\n",
            "it 0.211\n",
            "she 0.196\n",
            "of 0.182\n",
            "said 0.164\n",
            "you 0.146\n",
            "in 0.131\n"
          ]
        }
      ],
      "source": [
        "for k in keywords:\n",
        "    print(k, keywords[k])"
      ]
    },
    {
      "cell_type": "code",
      "execution_count": null,
      "metadata": {
        "colab": {
          "background_save": true
        },
        "id": "j4J_-N9OluDE",
        "outputId": "e6dcc012-14bb-44eb-8dfa-12be6ffdd50d"
      },
      "outputs": [
        {
          "data": {
            "text/plain": [
              "{'alice': 0.361,\n",
              " 'and': 0.309,\n",
              " 'in': 0.131,\n",
              " 'it': 0.211,\n",
              " 'of': 0.182,\n",
              " 'said': 0.164,\n",
              " 'she': 0.196,\n",
              " 'the': 0.582,\n",
              " 'to': 0.259,\n",
              " 'you': 0.146}"
            ]
          },
          "execution_count": null,
          "metadata": {},
          "output_type": "execute_result"
        }
      ],
      "source": [
        "corpus['Keywords'] = corpus[\"Text\"].map(get_keywords)\n",
        "corpus.Keywords[7]"
      ]
    },
    {
      "cell_type": "code",
      "execution_count": null,
      "metadata": {
        "colab": {
          "background_save": true
        },
        "id": "MI9KJS3rluDF",
        "outputId": "03e2d201-ba59-451d-bbea-19ed863569be"
      },
      "outputs": [
        {
          "data": {
            "application/vnd.google.colaboratory.intrinsic+json": {
              "type": "string"
            },
            "text/plain": [
              "'the alice and to it she of said you in'"
            ]
          },
          "execution_count": null,
          "metadata": {},
          "output_type": "execute_result"
        }
      ],
      "source": [
        "corpus['kw'] = corpus[\"Keywords\"].map(lambda d: \" \".join(d.keys()))\n",
        "corpus.kw[7]"
      ]
    },
    {
      "cell_type": "code",
      "execution_count": null,
      "metadata": {
        "colab": {
          "background_save": true
        },
        "id": "hxWujN3jluDF",
        "outputId": "9c74cba0-2054-4ecc-de5a-82d8b033a741"
      },
      "outputs": [
        {
          "data": {
            "text/html": [
              "\n",
              "  <div id=\"df-f4081877-3a4e-41da-a7d4-d633f3296662\">\n",
              "    <div class=\"colab-df-container\">\n",
              "      <div>\n",
              "<style scoped>\n",
              "    .dataframe tbody tr th:only-of-type {\n",
              "        vertical-align: middle;\n",
              "    }\n",
              "\n",
              "    .dataframe tbody tr th {\n",
              "        vertical-align: top;\n",
              "    }\n",
              "\n",
              "    .dataframe thead th {\n",
              "        text-align: right;\n",
              "    }\n",
              "</style>\n",
              "<table border=\"1\" class=\"dataframe\">\n",
              "  <thead>\n",
              "    <tr style=\"text-align: right;\">\n",
              "      <th></th>\n",
              "      <th>Name</th>\n",
              "      <th>kw</th>\n",
              "    </tr>\n",
              "  </thead>\n",
              "  <tbody>\n",
              "    <tr>\n",
              "      <th>0</th>\n",
              "      <td>austen-emma.txt</td>\n",
              "      <td>to the and of it her emma was she in</td>\n",
              "    </tr>\n",
              "    <tr>\n",
              "      <th>1</th>\n",
              "      <td>austen-persuasion.txt</td>\n",
              "      <td>the to and of in was her had she it</td>\n",
              "    </tr>\n",
              "    <tr>\n",
              "      <th>2</th>\n",
              "      <td>austen-sense.txt</td>\n",
              "      <td>to the of and her elinor in was it she</td>\n",
              "    </tr>\n",
              "    <tr>\n",
              "      <th>3</th>\n",
              "      <td>bible-kjv.txt</td>\n",
              "      <td>the and of unto to that in he shall lord</td>\n",
              "    </tr>\n",
              "    <tr>\n",
              "      <th>4</th>\n",
              "      <td>blake-poems.txt</td>\n",
              "      <td>the and of in to my with thee his he</td>\n",
              "    </tr>\n",
              "    <tr>\n",
              "      <th>5</th>\n",
              "      <td>bryant-stories.txt</td>\n",
              "      <td>the and to he of was in it little his</td>\n",
              "    </tr>\n",
              "    <tr>\n",
              "      <th>6</th>\n",
              "      <td>burgess-busterbrown.txt</td>\n",
              "      <td>he the buster and to of that it was joe</td>\n",
              "    </tr>\n",
              "    <tr>\n",
              "      <th>7</th>\n",
              "      <td>carroll-alice.txt</td>\n",
              "      <td>the alice and to it she of said you in</td>\n",
              "    </tr>\n",
              "    <tr>\n",
              "      <th>8</th>\n",
              "      <td>chesterton-ball.txt</td>\n",
              "      <td>the and of turnbull to in macian he that it</td>\n",
              "    </tr>\n",
              "    <tr>\n",
              "      <th>9</th>\n",
              "      <td>chesterton-brown.txt</td>\n",
              "      <td>the and of to he in was it his that</td>\n",
              "    </tr>\n",
              "    <tr>\n",
              "      <th>10</th>\n",
              "      <td>chesterton-thursday.txt</td>\n",
              "      <td>the of syme and he to in that his you</td>\n",
              "    </tr>\n",
              "    <tr>\n",
              "      <th>11</th>\n",
              "      <td>edgeworth-parents.txt</td>\n",
              "      <td>the to and of you he it in was that</td>\n",
              "    </tr>\n",
              "    <tr>\n",
              "      <th>12</th>\n",
              "      <td>melville-moby_dick.txt</td>\n",
              "      <td>the of and to in that his it whale he</td>\n",
              "    </tr>\n",
              "    <tr>\n",
              "      <th>13</th>\n",
              "      <td>milton-paradise.txt</td>\n",
              "      <td>and the to of in his with or that all</td>\n",
              "    </tr>\n",
              "    <tr>\n",
              "      <th>14</th>\n",
              "      <td>shakespeare-caesar.txt</td>\n",
              "      <td>and the bru brutus to you haue of cassi caesar</td>\n",
              "    </tr>\n",
              "    <tr>\n",
              "      <th>15</th>\n",
              "      <td>shakespeare-hamlet.txt</td>\n",
              "      <td>the and to ham of you my haue it in</td>\n",
              "    </tr>\n",
              "    <tr>\n",
              "      <th>16</th>\n",
              "      <td>shakespeare-macbeth.txt</td>\n",
              "      <td>the and macb to of haue that you my macbeth</td>\n",
              "    </tr>\n",
              "    <tr>\n",
              "      <th>17</th>\n",
              "      <td>whitman-leaves.txt</td>\n",
              "      <td>the and of to in you with is all my</td>\n",
              "    </tr>\n",
              "  </tbody>\n",
              "</table>\n",
              "</div>\n",
              "      <button class=\"colab-df-convert\" onclick=\"convertToInteractive('df-f4081877-3a4e-41da-a7d4-d633f3296662')\"\n",
              "              title=\"Convert this dataframe to an interactive table.\"\n",
              "              style=\"display:none;\">\n",
              "        \n",
              "  <svg xmlns=\"http://www.w3.org/2000/svg\" height=\"24px\"viewBox=\"0 0 24 24\"\n",
              "       width=\"24px\">\n",
              "    <path d=\"M0 0h24v24H0V0z\" fill=\"none\"/>\n",
              "    <path d=\"M18.56 5.44l.94 2.06.94-2.06 2.06-.94-2.06-.94-.94-2.06-.94 2.06-2.06.94zm-11 1L8.5 8.5l.94-2.06 2.06-.94-2.06-.94L8.5 2.5l-.94 2.06-2.06.94zm10 10l.94 2.06.94-2.06 2.06-.94-2.06-.94-.94-2.06-.94 2.06-2.06.94z\"/><path d=\"M17.41 7.96l-1.37-1.37c-.4-.4-.92-.59-1.43-.59-.52 0-1.04.2-1.43.59L10.3 9.45l-7.72 7.72c-.78.78-.78 2.05 0 2.83L4 21.41c.39.39.9.59 1.41.59.51 0 1.02-.2 1.41-.59l7.78-7.78 2.81-2.81c.8-.78.8-2.07 0-2.86zM5.41 20L4 18.59l7.72-7.72 1.47 1.35L5.41 20z\"/>\n",
              "  </svg>\n",
              "      </button>\n",
              "      \n",
              "  <style>\n",
              "    .colab-df-container {\n",
              "      display:flex;\n",
              "      flex-wrap:wrap;\n",
              "      gap: 12px;\n",
              "    }\n",
              "\n",
              "    .colab-df-convert {\n",
              "      background-color: #E8F0FE;\n",
              "      border: none;\n",
              "      border-radius: 50%;\n",
              "      cursor: pointer;\n",
              "      display: none;\n",
              "      fill: #1967D2;\n",
              "      height: 32px;\n",
              "      padding: 0 0 0 0;\n",
              "      width: 32px;\n",
              "    }\n",
              "\n",
              "    .colab-df-convert:hover {\n",
              "      background-color: #E2EBFA;\n",
              "      box-shadow: 0px 1px 2px rgba(60, 64, 67, 0.3), 0px 1px 3px 1px rgba(60, 64, 67, 0.15);\n",
              "      fill: #174EA6;\n",
              "    }\n",
              "\n",
              "    [theme=dark] .colab-df-convert {\n",
              "      background-color: #3B4455;\n",
              "      fill: #D2E3FC;\n",
              "    }\n",
              "\n",
              "    [theme=dark] .colab-df-convert:hover {\n",
              "      background-color: #434B5C;\n",
              "      box-shadow: 0px 1px 3px 1px rgba(0, 0, 0, 0.15);\n",
              "      filter: drop-shadow(0px 1px 2px rgba(0, 0, 0, 0.3));\n",
              "      fill: #FFFFFF;\n",
              "    }\n",
              "  </style>\n",
              "\n",
              "      <script>\n",
              "        const buttonEl =\n",
              "          document.querySelector('#df-f4081877-3a4e-41da-a7d4-d633f3296662 button.colab-df-convert');\n",
              "        buttonEl.style.display =\n",
              "          google.colab.kernel.accessAllowed ? 'block' : 'none';\n",
              "\n",
              "        async function convertToInteractive(key) {\n",
              "          const element = document.querySelector('#df-f4081877-3a4e-41da-a7d4-d633f3296662');\n",
              "          const dataTable =\n",
              "            await google.colab.kernel.invokeFunction('convertToInteractive',\n",
              "                                                     [key], {});\n",
              "          if (!dataTable) return;\n",
              "\n",
              "          const docLinkHtml = 'Like what you see? Visit the ' +\n",
              "            '<a target=\"_blank\" href=https://colab.research.google.com/notebooks/data_table.ipynb>data table notebook</a>'\n",
              "            + ' to learn more about interactive tables.';\n",
              "          element.innerHTML = '';\n",
              "          dataTable['output_type'] = 'display_data';\n",
              "          await google.colab.output.renderOutput(dataTable, element);\n",
              "          const docLink = document.createElement('div');\n",
              "          docLink.innerHTML = docLinkHtml;\n",
              "          element.appendChild(docLink);\n",
              "        }\n",
              "      </script>\n",
              "    </div>\n",
              "  </div>\n",
              "  "
            ],
            "text/plain": [
              "                       Name                                              kw\n",
              "0           austen-emma.txt            to the and of it her emma was she in\n",
              "1     austen-persuasion.txt             the to and of in was her had she it\n",
              "2          austen-sense.txt          to the of and her elinor in was it she\n",
              "3             bible-kjv.txt        the and of unto to that in he shall lord\n",
              "4           blake-poems.txt            the and of in to my with thee his he\n",
              "5        bryant-stories.txt           the and to he of was in it little his\n",
              "6   burgess-busterbrown.txt         he the buster and to of that it was joe\n",
              "7         carroll-alice.txt          the alice and to it she of said you in\n",
              "8       chesterton-ball.txt     the and of turnbull to in macian he that it\n",
              "9      chesterton-brown.txt             the and of to he in was it his that\n",
              "10  chesterton-thursday.txt           the of syme and he to in that his you\n",
              "11    edgeworth-parents.txt             the to and of you he it in was that\n",
              "12   melville-moby_dick.txt           the of and to in that his it whale he\n",
              "13      milton-paradise.txt           and the to of in his with or that all\n",
              "14   shakespeare-caesar.txt  and the bru brutus to you haue of cassi caesar\n",
              "15   shakespeare-hamlet.txt             the and to ham of you my haue it in\n",
              "16  shakespeare-macbeth.txt     the and macb to of haue that you my macbeth\n",
              "17       whitman-leaves.txt             the and of to in you with is all my"
            ]
          },
          "execution_count": null,
          "metadata": {},
          "output_type": "execute_result"
        }
      ],
      "source": [
        "corpus[[\"Name\", \"kw\"]]"
      ]
    },
    {
      "cell_type": "code",
      "execution_count": null,
      "metadata": {
        "colab": {
          "background_save": true
        },
        "id": "pvci5F2hluDF"
      },
      "outputs": [],
      "source": [
        "pd.set_option(\"max_colwidth\", 200)"
      ]
    },
    {
      "cell_type": "code",
      "execution_count": null,
      "metadata": {
        "colab": {
          "background_save": true
        },
        "id": "9JkCQC_RluDF",
        "outputId": "4f0a7764-10ad-40f5-e20a-02f7bbc6a5a6"
      },
      "outputs": [
        {
          "data": {
            "text/html": [
              "\n",
              "  <div id=\"df-35f5db1b-8312-49c6-b6c9-0d26b404808d\">\n",
              "    <div class=\"colab-df-container\">\n",
              "      <div>\n",
              "<style scoped>\n",
              "    .dataframe tbody tr th:only-of-type {\n",
              "        vertical-align: middle;\n",
              "    }\n",
              "\n",
              "    .dataframe tbody tr th {\n",
              "        vertical-align: top;\n",
              "    }\n",
              "\n",
              "    .dataframe thead th {\n",
              "        text-align: right;\n",
              "    }\n",
              "</style>\n",
              "<table border=\"1\" class=\"dataframe\">\n",
              "  <thead>\n",
              "    <tr style=\"text-align: right;\">\n",
              "      <th></th>\n",
              "      <th>Name</th>\n",
              "      <th>Keywords</th>\n",
              "    </tr>\n",
              "  </thead>\n",
              "  <tbody>\n",
              "    <tr>\n",
              "      <th>0</th>\n",
              "      <td>austen-emma.txt</td>\n",
              "      <td>{'to': 0.364, 'the': 0.361, 'and': 0.34, 'of': 0.298, 'it': 0.176, 'her': 0.172, 'emma': 0.171, 'was': 0.167, 'she': 0.163, 'in': 0.152}</td>\n",
              "    </tr>\n",
              "    <tr>\n",
              "      <th>1</th>\n",
              "      <td>austen-persuasion.txt</td>\n",
              "      <td>{'the': 0.43, 'to': 0.363, 'and': 0.362, 'of': 0.332, 'in': 0.18, 'was': 0.173, 'her': 0.156, 'had': 0.153, 'she': 0.148, 'it': 0.134}</td>\n",
              "    </tr>\n",
              "    <tr>\n",
              "      <th>2</th>\n",
              "      <td>austen-sense.txt</td>\n",
              "      <td>{'to': 0.376, 'the': 0.375, 'of': 0.326, 'and': 0.319, 'her': 0.233, 'elinor': 0.203, 'in': 0.181, 'was': 0.17, 'it': 0.16, 'she': 0.147}</td>\n",
              "    </tr>\n",
              "    <tr>\n",
              "      <th>3</th>\n",
              "      <td>bible-kjv.txt</td>\n",
              "      <td>{'the': 0.619, 'and': 0.5, 'of': 0.335, 'unto': 0.174, 'to': 0.131, 'that': 0.125, 'in': 0.123, 'he': 0.101, 'shall': 0.1, 'lord': 0.09}</td>\n",
              "    </tr>\n",
              "    <tr>\n",
              "      <th>4</th>\n",
              "      <td>blake-poems.txt</td>\n",
              "      <td>{'the': 0.638, 'and': 0.506, 'of': 0.212, 'in': 0.205, 'to': 0.161, 'my': 0.121, 'with': 0.096, 'thee': 0.089, 'his': 0.083, 'he': 0.081}</td>\n",
              "    </tr>\n",
              "    <tr>\n",
              "      <th>5</th>\n",
              "      <td>bryant-stories.txt</td>\n",
              "      <td>{'the': 0.686, 'and': 0.417, 'to': 0.235, 'he': 0.202, 'of': 0.163, 'was': 0.142, 'in': 0.127, 'it': 0.122, 'little': 0.119, 'his': 0.11}</td>\n",
              "    </tr>\n",
              "    <tr>\n",
              "      <th>6</th>\n",
              "      <td>burgess-busterbrown.txt</td>\n",
              "      <td>{'he': 0.389, 'the': 0.378, 'buster': 0.374, 'and': 0.296, 'to': 0.25, 'of': 0.196, 'that': 0.177, 'it': 0.172, 'was': 0.157, 'joe': 0.15}</td>\n",
              "    </tr>\n",
              "    <tr>\n",
              "      <th>7</th>\n",
              "      <td>carroll-alice.txt</td>\n",
              "      <td>{'the': 0.582, 'alice': 0.361, 'and': 0.309, 'to': 0.259, 'it': 0.211, 'she': 0.196, 'of': 0.182, 'said': 0.164, 'you': 0.146, 'in': 0.131}</td>\n",
              "    </tr>\n",
              "    <tr>\n",
              "      <th>8</th>\n",
              "      <td>chesterton-ball.txt</td>\n",
              "      <td>{'the': 0.619, 'and': 0.333, 'of': 0.319, 'turnbull': 0.221, 'to': 0.197, 'in': 0.176, 'macian': 0.173, 'he': 0.166, 'that': 0.146, 'it': 0.142}</td>\n",
              "    </tr>\n",
              "    <tr>\n",
              "      <th>9</th>\n",
              "      <td>chesterton-brown.txt</td>\n",
              "      <td>{'the': 0.674, 'and': 0.32, 'of': 0.302, 'to': 0.201, 'he': 0.196, 'in': 0.181, 'was': 0.165, 'it': 0.142, 'his': 0.139, 'that': 0.134}</td>\n",
              "    </tr>\n",
              "    <tr>\n",
              "      <th>10</th>\n",
              "      <td>chesterton-thursday.txt</td>\n",
              "      <td>{'the': 0.633, 'of': 0.3, 'syme': 0.294, 'and': 0.289, 'he': 0.196, 'to': 0.184, 'in': 0.161, 'that': 0.152, 'his': 0.141, 'you': 0.127}</td>\n",
              "    </tr>\n",
              "    <tr>\n",
              "      <th>11</th>\n",
              "      <td>edgeworth-parents.txt</td>\n",
              "      <td>{'the': 0.526, 'to': 0.356, 'and': 0.339, 'of': 0.255, 'you': 0.199, 'he': 0.18, 'it': 0.153, 'in': 0.151, 'was': 0.149, 'that': 0.143}</td>\n",
              "    </tr>\n",
              "    <tr>\n",
              "      <th>12</th>\n",
              "      <td>melville-moby_dick.txt</td>\n",
              "      <td>{'the': 0.696, 'of': 0.319, 'and': 0.31, 'to': 0.223, 'in': 0.201, 'that': 0.149, 'his': 0.122, 'it': 0.122, 'whale': 0.118, 'he': 0.091}</td>\n",
              "    </tr>\n",
              "    <tr>\n",
              "      <th>13</th>\n",
              "      <td>milton-paradise.txt</td>\n",
              "      <td>{'and': 0.507, 'the': 0.443, 'to': 0.333, 'of': 0.306, 'in': 0.204, 'his': 0.175, 'with': 0.173, 'or': 0.107, 'that': 0.105, 'all': 0.105}</td>\n",
              "    </tr>\n",
              "    <tr>\n",
              "      <th>14</th>\n",
              "      <td>shakespeare-caesar.txt</td>\n",
              "      <td>{'and': 0.331, 'the': 0.305, 'bru': 0.262, 'brutus': 0.242, 'to': 0.235, 'you': 0.206, 'haue': 0.2, 'of': 0.187, 'cassi': 0.184, 'caesar': 0.175}</td>\n",
              "    </tr>\n",
              "    <tr>\n",
              "      <th>15</th>\n",
              "      <td>shakespeare-hamlet.txt</td>\n",
              "      <td>{'the': 0.385, 'and': 0.335, 'to': 0.266, 'ham': 0.261, 'of': 0.237, 'you': 0.205, 'my': 0.195, 'haue': 0.177, 'it': 0.163, 'in': 0.155}</td>\n",
              "    </tr>\n",
              "    <tr>\n",
              "      <th>16</th>\n",
              "      <td>shakespeare-macbeth.txt</td>\n",
              "      <td>{'the': 0.421, 'and': 0.354, 'macb': 0.289, 'to': 0.249, 'of': 0.219, 'haue': 0.202, 'that': 0.154, 'you': 0.133, 'my': 0.132, 'macbeth': 0.131}</td>\n",
              "    </tr>\n",
              "    <tr>\n",
              "      <th>17</th>\n",
              "      <td>whitman-leaves.txt</td>\n",
              "      <td>{'the': 0.751, 'and': 0.396, 'of': 0.317, 'to': 0.167, 'in': 0.139, 'you': 0.114, 'with': 0.093, 'is': 0.082, 'all': 0.08, 'my': 0.075}</td>\n",
              "    </tr>\n",
              "  </tbody>\n",
              "</table>\n",
              "</div>\n",
              "      <button class=\"colab-df-convert\" onclick=\"convertToInteractive('df-35f5db1b-8312-49c6-b6c9-0d26b404808d')\"\n",
              "              title=\"Convert this dataframe to an interactive table.\"\n",
              "              style=\"display:none;\">\n",
              "        \n",
              "  <svg xmlns=\"http://www.w3.org/2000/svg\" height=\"24px\"viewBox=\"0 0 24 24\"\n",
              "       width=\"24px\">\n",
              "    <path d=\"M0 0h24v24H0V0z\" fill=\"none\"/>\n",
              "    <path d=\"M18.56 5.44l.94 2.06.94-2.06 2.06-.94-2.06-.94-.94-2.06-.94 2.06-2.06.94zm-11 1L8.5 8.5l.94-2.06 2.06-.94-2.06-.94L8.5 2.5l-.94 2.06-2.06.94zm10 10l.94 2.06.94-2.06 2.06-.94-2.06-.94-.94-2.06-.94 2.06-2.06.94z\"/><path d=\"M17.41 7.96l-1.37-1.37c-.4-.4-.92-.59-1.43-.59-.52 0-1.04.2-1.43.59L10.3 9.45l-7.72 7.72c-.78.78-.78 2.05 0 2.83L4 21.41c.39.39.9.59 1.41.59.51 0 1.02-.2 1.41-.59l7.78-7.78 2.81-2.81c.8-.78.8-2.07 0-2.86zM5.41 20L4 18.59l7.72-7.72 1.47 1.35L5.41 20z\"/>\n",
              "  </svg>\n",
              "      </button>\n",
              "      \n",
              "  <style>\n",
              "    .colab-df-container {\n",
              "      display:flex;\n",
              "      flex-wrap:wrap;\n",
              "      gap: 12px;\n",
              "    }\n",
              "\n",
              "    .colab-df-convert {\n",
              "      background-color: #E8F0FE;\n",
              "      border: none;\n",
              "      border-radius: 50%;\n",
              "      cursor: pointer;\n",
              "      display: none;\n",
              "      fill: #1967D2;\n",
              "      height: 32px;\n",
              "      padding: 0 0 0 0;\n",
              "      width: 32px;\n",
              "    }\n",
              "\n",
              "    .colab-df-convert:hover {\n",
              "      background-color: #E2EBFA;\n",
              "      box-shadow: 0px 1px 2px rgba(60, 64, 67, 0.3), 0px 1px 3px 1px rgba(60, 64, 67, 0.15);\n",
              "      fill: #174EA6;\n",
              "    }\n",
              "\n",
              "    [theme=dark] .colab-df-convert {\n",
              "      background-color: #3B4455;\n",
              "      fill: #D2E3FC;\n",
              "    }\n",
              "\n",
              "    [theme=dark] .colab-df-convert:hover {\n",
              "      background-color: #434B5C;\n",
              "      box-shadow: 0px 1px 3px 1px rgba(0, 0, 0, 0.15);\n",
              "      filter: drop-shadow(0px 1px 2px rgba(0, 0, 0, 0.3));\n",
              "      fill: #FFFFFF;\n",
              "    }\n",
              "  </style>\n",
              "\n",
              "      <script>\n",
              "        const buttonEl =\n",
              "          document.querySelector('#df-35f5db1b-8312-49c6-b6c9-0d26b404808d button.colab-df-convert');\n",
              "        buttonEl.style.display =\n",
              "          google.colab.kernel.accessAllowed ? 'block' : 'none';\n",
              "\n",
              "        async function convertToInteractive(key) {\n",
              "          const element = document.querySelector('#df-35f5db1b-8312-49c6-b6c9-0d26b404808d');\n",
              "          const dataTable =\n",
              "            await google.colab.kernel.invokeFunction('convertToInteractive',\n",
              "                                                     [key], {});\n",
              "          if (!dataTable) return;\n",
              "\n",
              "          const docLinkHtml = 'Like what you see? Visit the ' +\n",
              "            '<a target=\"_blank\" href=https://colab.research.google.com/notebooks/data_table.ipynb>data table notebook</a>'\n",
              "            + ' to learn more about interactive tables.';\n",
              "          element.innerHTML = '';\n",
              "          dataTable['output_type'] = 'display_data';\n",
              "          await google.colab.output.renderOutput(dataTable, element);\n",
              "          const docLink = document.createElement('div');\n",
              "          docLink.innerHTML = docLinkHtml;\n",
              "          element.appendChild(docLink);\n",
              "        }\n",
              "      </script>\n",
              "    </div>\n",
              "  </div>\n",
              "  "
            ],
            "text/plain": [
              "                       Name  \\\n",
              "0           austen-emma.txt   \n",
              "1     austen-persuasion.txt   \n",
              "2          austen-sense.txt   \n",
              "3             bible-kjv.txt   \n",
              "4           blake-poems.txt   \n",
              "5        bryant-stories.txt   \n",
              "6   burgess-busterbrown.txt   \n",
              "7         carroll-alice.txt   \n",
              "8       chesterton-ball.txt   \n",
              "9      chesterton-brown.txt   \n",
              "10  chesterton-thursday.txt   \n",
              "11    edgeworth-parents.txt   \n",
              "12   melville-moby_dick.txt   \n",
              "13      milton-paradise.txt   \n",
              "14   shakespeare-caesar.txt   \n",
              "15   shakespeare-hamlet.txt   \n",
              "16  shakespeare-macbeth.txt   \n",
              "17       whitman-leaves.txt   \n",
              "\n",
              "                                                                                                                                             Keywords  \n",
              "0            {'to': 0.364, 'the': 0.361, 'and': 0.34, 'of': 0.298, 'it': 0.176, 'her': 0.172, 'emma': 0.171, 'was': 0.167, 'she': 0.163, 'in': 0.152}  \n",
              "1              {'the': 0.43, 'to': 0.363, 'and': 0.362, 'of': 0.332, 'in': 0.18, 'was': 0.173, 'her': 0.156, 'had': 0.153, 'she': 0.148, 'it': 0.134}  \n",
              "2           {'to': 0.376, 'the': 0.375, 'of': 0.326, 'and': 0.319, 'her': 0.233, 'elinor': 0.203, 'in': 0.181, 'was': 0.17, 'it': 0.16, 'she': 0.147}  \n",
              "3            {'the': 0.619, 'and': 0.5, 'of': 0.335, 'unto': 0.174, 'to': 0.131, 'that': 0.125, 'in': 0.123, 'he': 0.101, 'shall': 0.1, 'lord': 0.09}  \n",
              "4           {'the': 0.638, 'and': 0.506, 'of': 0.212, 'in': 0.205, 'to': 0.161, 'my': 0.121, 'with': 0.096, 'thee': 0.089, 'his': 0.083, 'he': 0.081}  \n",
              "5           {'the': 0.686, 'and': 0.417, 'to': 0.235, 'he': 0.202, 'of': 0.163, 'was': 0.142, 'in': 0.127, 'it': 0.122, 'little': 0.119, 'his': 0.11}  \n",
              "6          {'he': 0.389, 'the': 0.378, 'buster': 0.374, 'and': 0.296, 'to': 0.25, 'of': 0.196, 'that': 0.177, 'it': 0.172, 'was': 0.157, 'joe': 0.15}  \n",
              "7         {'the': 0.582, 'alice': 0.361, 'and': 0.309, 'to': 0.259, 'it': 0.211, 'she': 0.196, 'of': 0.182, 'said': 0.164, 'you': 0.146, 'in': 0.131}  \n",
              "8    {'the': 0.619, 'and': 0.333, 'of': 0.319, 'turnbull': 0.221, 'to': 0.197, 'in': 0.176, 'macian': 0.173, 'he': 0.166, 'that': 0.146, 'it': 0.142}  \n",
              "9             {'the': 0.674, 'and': 0.32, 'of': 0.302, 'to': 0.201, 'he': 0.196, 'in': 0.181, 'was': 0.165, 'it': 0.142, 'his': 0.139, 'that': 0.134}  \n",
              "10           {'the': 0.633, 'of': 0.3, 'syme': 0.294, 'and': 0.289, 'he': 0.196, 'to': 0.184, 'in': 0.161, 'that': 0.152, 'his': 0.141, 'you': 0.127}  \n",
              "11            {'the': 0.526, 'to': 0.356, 'and': 0.339, 'of': 0.255, 'you': 0.199, 'he': 0.18, 'it': 0.153, 'in': 0.151, 'was': 0.149, 'that': 0.143}  \n",
              "12          {'the': 0.696, 'of': 0.319, 'and': 0.31, 'to': 0.223, 'in': 0.201, 'that': 0.149, 'his': 0.122, 'it': 0.122, 'whale': 0.118, 'he': 0.091}  \n",
              "13         {'and': 0.507, 'the': 0.443, 'to': 0.333, 'of': 0.306, 'in': 0.204, 'his': 0.175, 'with': 0.173, 'or': 0.107, 'that': 0.105, 'all': 0.105}  \n",
              "14  {'and': 0.331, 'the': 0.305, 'bru': 0.262, 'brutus': 0.242, 'to': 0.235, 'you': 0.206, 'haue': 0.2, 'of': 0.187, 'cassi': 0.184, 'caesar': 0.175}  \n",
              "15           {'the': 0.385, 'and': 0.335, 'to': 0.266, 'ham': 0.261, 'of': 0.237, 'you': 0.205, 'my': 0.195, 'haue': 0.177, 'it': 0.163, 'in': 0.155}  \n",
              "16   {'the': 0.421, 'and': 0.354, 'macb': 0.289, 'to': 0.249, 'of': 0.219, 'haue': 0.202, 'that': 0.154, 'you': 0.133, 'my': 0.132, 'macbeth': 0.131}  \n",
              "17            {'the': 0.751, 'and': 0.396, 'of': 0.317, 'to': 0.167, 'in': 0.139, 'you': 0.114, 'with': 0.093, 'is': 0.082, 'all': 0.08, 'my': 0.075}  "
            ]
          },
          "execution_count": null,
          "metadata": {},
          "output_type": "execute_result"
        }
      ],
      "source": [
        "corpus[[\"Name\", \"Keywords\"]]"
      ]
    },
    {
      "cell_type": "code",
      "execution_count": null,
      "metadata": {
        "colab": {
          "background_save": true
        },
        "id": "vuwZD62OluDF"
      },
      "outputs": [],
      "source": [
        "pd.set_option(\"max_colwidth\", 80)"
      ]
    },
    {
      "cell_type": "markdown",
      "metadata": {
        "id": "Pkruc7wOluDF"
      },
      "source": [
        "## Сходство документов"
      ]
    },
    {
      "cell_type": "code",
      "execution_count": null,
      "metadata": {
        "colab": {
          "background_save": true
        },
        "id": "l-n2UKTyluDF",
        "outputId": "4c62ea18-d12d-41b3-faa2-c130c20281d3"
      },
      "outputs": [
        {
          "data": {
            "text/plain": [
              "<18x42063 sparse matrix of type '<class 'numpy.float64'>'\n",
              "\twith 121698 stored elements in Compressed Sparse Row format>"
            ]
          },
          "execution_count": null,
          "metadata": {},
          "output_type": "execute_result"
        }
      ],
      "source": [
        "from sklearn.pipeline import Pipeline\n",
        "pipe = Pipeline([('count', vectorizer), ('idf', tfidf)])\n",
        "tf_idf_vector = pipe.transform(corpus.Text)\n",
        "tf_idf_vector"
      ]
    },
    {
      "cell_type": "code",
      "execution_count": null,
      "metadata": {
        "colab": {
          "background_save": true
        },
        "id": "nKLfPnTFluDG",
        "outputId": "e71bde82-ac56-4e4f-e884-86e0d36db09a"
      },
      "outputs": [
        {
          "name": "stdout",
          "output_type": "stream",
          "text": [
            "5.0\n"
          ]
        }
      ],
      "source": [
        "from scipy.spatial import distance\n",
        "print(distance.euclidean([10, 10], [13, 14]))\n"
      ]
    },
    {
      "cell_type": "code",
      "execution_count": null,
      "metadata": {
        "colab": {
          "background_save": true
        },
        "id": "nyyPAFmlluDG",
        "outputId": "34ee8fb7-5859-4a32-f2ad-254176fccfc7"
      },
      "outputs": [
        {
          "data": {
            "text/plain": [
              "0.6122816888239713"
            ]
          },
          "execution_count": null,
          "metadata": {},
          "output_type": "execute_result"
        }
      ],
      "source": [
        "distance.euclidean(tf_idf_vector[7].toarray(), tf_idf_vector[8].toarray())"
      ]
    },
    {
      "cell_type": "code",
      "execution_count": null,
      "metadata": {
        "id": "_TqWrHAVluDH"
      },
      "outputs": [],
      "source": [
        "corpus"
      ]
    },
    {
      "cell_type": "code",
      "execution_count": null,
      "metadata": {
        "id": "1-m22ZBlluDH"
      },
      "outputs": [],
      "source": [
        "a = corpus[['Name']].reset_index()\n",
        "cross = a.merge(a, how='cross')\n",
        "cross"
      ]
    },
    {
      "cell_type": "code",
      "execution_count": null,
      "metadata": {
        "id": "bV_S1BtLluDH"
      },
      "outputs": [],
      "source": [
        "from itertools import product\n",
        "\n",
        "product_ = pd.DataFrame(product(corpus.index, corpus.index), columns=['id1', 'id2'])\n",
        "product_"
      ]
    },
    {
      "cell_type": "code",
      "execution_count": null,
      "metadata": {
        "id": "mGHhJhMMluDH"
      },
      "outputs": [],
      "source": [
        "corpus.Name.loc[product_.id1]"
      ]
    },
    {
      "cell_type": "code",
      "execution_count": null,
      "metadata": {
        "id": "FI90uKf8luDI"
      },
      "outputs": [],
      "source": [
        "product_['Name1'] = corpus.Name.loc[product_.id1].values\n",
        "product_['Name2'] = corpus.Name.loc[product_.id2].values\n",
        "product_"
      ]
    },
    {
      "cell_type": "code",
      "execution_count": null,
      "metadata": {
        "id": "VTd8PNoBluDJ"
      },
      "outputs": [],
      "source": [
        "def euclidean_distance(id1, id2, tf_idf_vector=tf_idf_vector):\n",
        "    return distance.euclidean(tf_idf_vector[id1].toarray(), tf_idf_vector[id2].toarray())\n",
        "\n",
        "product_['Distance'] = product_.apply(lambda x: euclidean_distance(x.id1, x.id2), axis=1)\n",
        "product_"
      ]
    },
    {
      "cell_type": "code",
      "execution_count": null,
      "metadata": {
        "id": "LQfXXK8lluDK"
      },
      "outputs": [],
      "source": [
        "result = product_.sort_values(by=['Distance'])\n",
        "result"
      ]
    },
    {
      "cell_type": "code",
      "execution_count": null,
      "metadata": {
        "id": "8j90aq9HluDL"
      },
      "outputs": [],
      "source": [
        "result[result['Distance'] > 0].head(10)"
      ]
    },
    {
      "cell_type": "markdown",
      "metadata": {
        "id": "qar13lYCluDL"
      },
      "source": [
        "# Задание\n",
        "1. Извлечь ключевые слова, устранив стоп-слова (к текущей реализации добавить исключение стоп-слов);\n",
        "2. Посмотреть, как поменялись расстояния между текстами после устранения стоп-слов;\n",
        "3. Найти ключевые триграммы для текстов в корпусе Гутенберга;\n",
        "4. Отсортировать документы по близости векторов TF-IDF на основе триграмм используя [косинусное расстояние](https://en.wikipedia.org/wiki/Cosine_similarity)."
      ]
    }
  ],
  "metadata": {
    "colab": {
      "collapsed_sections": [],
      "name": "COPY_9.ipynb\"",
      "provenance": []
    },
    "kernelspec": {
      "display_name": "Python 3",
      "name": "python3"
    },
    "language_info": {
      "name": "python"
    }
  },
  "nbformat": 4,
  "nbformat_minor": 0
}